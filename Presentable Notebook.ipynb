{
 "cells": [
  {
   "cell_type": "markdown",
   "id": "8bf75603",
   "metadata": {},
   "source": [
    "<a id='table_of_contents'></a>\n",
    "\n",
    "0. [Import Packages](#imports_packages)  \n",
    "1. [Import Data](#imports_data)\n",
    "2. [Looking into the Data](#looking_data)\n",
    "3. [Data Cleaning](#data_cleaning)\n",
    "4. [Data Preparation](#data_preparation)\n",
    "5. [Benchmark Model](#benchmark_model)  \n",
    "    5.1. [Training Set Splitting](training_set_split)  \n",
    "    5.2. [Fitting a Model](fitting_model)  \n",
    "    5.3. [Evaluation of the Model](model_evaluation)  \n",
    "6. [Feature Engineering](#feature_engineering)\n",
    "7. [Model Training](#model_training)  \n",
    "    7.1. [Decision Tree](#decision_tree)  \n",
    "    7.2. [Random Forest](#random_forest)  \n",
    "    7.3. [Gradient Boosting](#gradient_boosting)  \n",
    "    7.4. [Comparison of Different Algorithm Performances](#comparing_performances)  \n",
    "8. [Tuning](#model_tuning)  \n",
    "    8.1. [Finding the Correct Hyper-Parameters](#hyper_parameters)  \n",
    "9. [Seeing the Whole Thing as a Classification Problem](#classification_problem)  "
   ]
  },
  {
   "cell_type": "markdown",
   "id": "aa5d038e",
   "metadata": {},
   "source": [
    "# 0. Import Packages <a id='imports_packages'></a>\n",
    "[Back to top](#table_of_contents)"
   ]
  },
  {
   "cell_type": "code",
   "execution_count": 150,
   "id": "5aad7286",
   "metadata": {},
   "outputs": [],
   "source": [
    "import pandas as pd\n",
    "import numpy as np\n",
    "\n",
    "%matplotlib inline"
   ]
  },
  {
   "cell_type": "markdown",
   "id": "4e2dd45c",
   "metadata": {},
   "source": [
    "# 1. Import Data <a id='imports_data'></a>\n",
    "[Back to top](#table_of_contents)"
   ]
  },
  {
   "cell_type": "code",
   "execution_count": 151,
   "id": "fdd1b598",
   "metadata": {},
   "outputs": [],
   "source": [
    "taxi_jan_2019 = pd.read_csv('Data/yellow_tripdata_2019-01.csv')\n",
    "taxi_data = pd.concat([taxi_jan_2019])"
   ]
  },
  {
   "cell_type": "code",
   "execution_count": 152,
   "id": "a47d7fe9",
   "metadata": {},
   "outputs": [
    {
     "name": "stdout",
     "output_type": "stream",
     "text": [
      "(7667792, 18)\n"
     ]
    },
    {
     "data": {
      "text/html": [
       "<div>\n",
       "<style scoped>\n",
       "    .dataframe tbody tr th:only-of-type {\n",
       "        vertical-align: middle;\n",
       "    }\n",
       "\n",
       "    .dataframe tbody tr th {\n",
       "        vertical-align: top;\n",
       "    }\n",
       "\n",
       "    .dataframe thead th {\n",
       "        text-align: right;\n",
       "    }\n",
       "</style>\n",
       "<table border=\"1\" class=\"dataframe\">\n",
       "  <thead>\n",
       "    <tr style=\"text-align: right;\">\n",
       "      <th></th>\n",
       "      <th>VendorID</th>\n",
       "      <th>tpep_pickup_datetime</th>\n",
       "      <th>tpep_dropoff_datetime</th>\n",
       "      <th>passenger_count</th>\n",
       "      <th>trip_distance</th>\n",
       "      <th>RatecodeID</th>\n",
       "      <th>store_and_fwd_flag</th>\n",
       "      <th>PULocationID</th>\n",
       "      <th>DOLocationID</th>\n",
       "      <th>payment_type</th>\n",
       "      <th>fare_amount</th>\n",
       "      <th>extra</th>\n",
       "      <th>mta_tax</th>\n",
       "      <th>tip_amount</th>\n",
       "      <th>tolls_amount</th>\n",
       "      <th>improvement_surcharge</th>\n",
       "      <th>total_amount</th>\n",
       "      <th>congestion_surcharge</th>\n",
       "    </tr>\n",
       "  </thead>\n",
       "  <tbody>\n",
       "    <tr>\n",
       "      <th>0</th>\n",
       "      <td>1</td>\n",
       "      <td>2019-01-01 00:46:40</td>\n",
       "      <td>2019-01-01 00:53:20</td>\n",
       "      <td>1</td>\n",
       "      <td>1.5</td>\n",
       "      <td>1</td>\n",
       "      <td>N</td>\n",
       "      <td>151</td>\n",
       "      <td>239</td>\n",
       "      <td>1</td>\n",
       "      <td>7.0</td>\n",
       "      <td>0.5</td>\n",
       "      <td>0.5</td>\n",
       "      <td>1.65</td>\n",
       "      <td>0.0</td>\n",
       "      <td>0.3</td>\n",
       "      <td>9.95</td>\n",
       "      <td>NaN</td>\n",
       "    </tr>\n",
       "    <tr>\n",
       "      <th>1</th>\n",
       "      <td>1</td>\n",
       "      <td>2019-01-01 00:59:47</td>\n",
       "      <td>2019-01-01 01:18:59</td>\n",
       "      <td>1</td>\n",
       "      <td>2.6</td>\n",
       "      <td>1</td>\n",
       "      <td>N</td>\n",
       "      <td>239</td>\n",
       "      <td>246</td>\n",
       "      <td>1</td>\n",
       "      <td>14.0</td>\n",
       "      <td>0.5</td>\n",
       "      <td>0.5</td>\n",
       "      <td>1.00</td>\n",
       "      <td>0.0</td>\n",
       "      <td>0.3</td>\n",
       "      <td>16.30</td>\n",
       "      <td>NaN</td>\n",
       "    </tr>\n",
       "    <tr>\n",
       "      <th>2</th>\n",
       "      <td>2</td>\n",
       "      <td>2018-12-21 13:48:30</td>\n",
       "      <td>2018-12-21 13:52:40</td>\n",
       "      <td>3</td>\n",
       "      <td>0.0</td>\n",
       "      <td>1</td>\n",
       "      <td>N</td>\n",
       "      <td>236</td>\n",
       "      <td>236</td>\n",
       "      <td>1</td>\n",
       "      <td>4.5</td>\n",
       "      <td>0.5</td>\n",
       "      <td>0.5</td>\n",
       "      <td>0.00</td>\n",
       "      <td>0.0</td>\n",
       "      <td>0.3</td>\n",
       "      <td>5.80</td>\n",
       "      <td>NaN</td>\n",
       "    </tr>\n",
       "    <tr>\n",
       "      <th>3</th>\n",
       "      <td>2</td>\n",
       "      <td>2018-11-28 15:52:25</td>\n",
       "      <td>2018-11-28 15:55:45</td>\n",
       "      <td>5</td>\n",
       "      <td>0.0</td>\n",
       "      <td>1</td>\n",
       "      <td>N</td>\n",
       "      <td>193</td>\n",
       "      <td>193</td>\n",
       "      <td>2</td>\n",
       "      <td>3.5</td>\n",
       "      <td>0.5</td>\n",
       "      <td>0.5</td>\n",
       "      <td>0.00</td>\n",
       "      <td>0.0</td>\n",
       "      <td>0.3</td>\n",
       "      <td>7.55</td>\n",
       "      <td>NaN</td>\n",
       "    </tr>\n",
       "    <tr>\n",
       "      <th>4</th>\n",
       "      <td>2</td>\n",
       "      <td>2018-11-28 15:56:57</td>\n",
       "      <td>2018-11-28 15:58:33</td>\n",
       "      <td>5</td>\n",
       "      <td>0.0</td>\n",
       "      <td>2</td>\n",
       "      <td>N</td>\n",
       "      <td>193</td>\n",
       "      <td>193</td>\n",
       "      <td>2</td>\n",
       "      <td>52.0</td>\n",
       "      <td>0.0</td>\n",
       "      <td>0.5</td>\n",
       "      <td>0.00</td>\n",
       "      <td>0.0</td>\n",
       "      <td>0.3</td>\n",
       "      <td>55.55</td>\n",
       "      <td>NaN</td>\n",
       "    </tr>\n",
       "  </tbody>\n",
       "</table>\n",
       "</div>"
      ],
      "text/plain": [
       "   VendorID tpep_pickup_datetime tpep_dropoff_datetime  passenger_count  \\\n",
       "0         1  2019-01-01 00:46:40   2019-01-01 00:53:20                1   \n",
       "1         1  2019-01-01 00:59:47   2019-01-01 01:18:59                1   \n",
       "2         2  2018-12-21 13:48:30   2018-12-21 13:52:40                3   \n",
       "3         2  2018-11-28 15:52:25   2018-11-28 15:55:45                5   \n",
       "4         2  2018-11-28 15:56:57   2018-11-28 15:58:33                5   \n",
       "\n",
       "   trip_distance  RatecodeID store_and_fwd_flag  PULocationID  DOLocationID  \\\n",
       "0            1.5           1                  N           151           239   \n",
       "1            2.6           1                  N           239           246   \n",
       "2            0.0           1                  N           236           236   \n",
       "3            0.0           1                  N           193           193   \n",
       "4            0.0           2                  N           193           193   \n",
       "\n",
       "   payment_type  fare_amount  extra  mta_tax  tip_amount  tolls_amount  \\\n",
       "0             1          7.0    0.5      0.5        1.65           0.0   \n",
       "1             1         14.0    0.5      0.5        1.00           0.0   \n",
       "2             1          4.5    0.5      0.5        0.00           0.0   \n",
       "3             2          3.5    0.5      0.5        0.00           0.0   \n",
       "4             2         52.0    0.0      0.5        0.00           0.0   \n",
       "\n",
       "   improvement_surcharge  total_amount  congestion_surcharge  \n",
       "0                    0.3          9.95                   NaN  \n",
       "1                    0.3         16.30                   NaN  \n",
       "2                    0.3          5.80                   NaN  \n",
       "3                    0.3          7.55                   NaN  \n",
       "4                    0.3         55.55                   NaN  "
      ]
     },
     "execution_count": 152,
     "metadata": {},
     "output_type": "execute_result"
    }
   ],
   "source": [
    "print(taxi_jan_2019.shape)\n",
    "taxi_jan_2019.head()\n",
    "#taxi_jan_2019_na.sort_values('passenger_count', ascending=False)"
   ]
  },
  {
   "cell_type": "markdown",
   "id": "0e739d15",
   "metadata": {},
   "source": [
    "# 2. Looking into the Data <a id='looking_data'></a>\n",
    "[Back to top](#table_of_contents)"
   ]
  },
  {
   "cell_type": "code",
   "execution_count": 153,
   "id": "b4851af4",
   "metadata": {},
   "outputs": [
    {
     "data": {
      "text/plain": [
       "Index(['VendorID', 'tpep_pickup_datetime', 'tpep_dropoff_datetime',\n",
       "       'passenger_count', 'trip_distance', 'RatecodeID', 'store_and_fwd_flag',\n",
       "       'PULocationID', 'DOLocationID', 'payment_type', 'fare_amount', 'extra',\n",
       "       'mta_tax', 'tip_amount', 'tolls_amount', 'improvement_surcharge',\n",
       "       'total_amount', 'congestion_surcharge'],\n",
       "      dtype='object')"
      ]
     },
     "execution_count": 153,
     "metadata": {},
     "output_type": "execute_result"
    }
   ],
   "source": [
    "taxi_jan_2019.columns"
   ]
  },
  {
   "cell_type": "code",
   "execution_count": 154,
   "id": "26cb7955",
   "metadata": {},
   "outputs": [],
   "source": [
    "taxi_data = taxi_data[['tpep_pickup_datetime', 'tpep_dropoff_datetime',\n",
    "       'passenger_count', 'trip_distance', 'RatecodeID',\n",
    "       'PULocationID', 'DOLocationID', 'payment_type',\n",
    "       'total_amount']]"
   ]
  },
  {
   "cell_type": "code",
   "execution_count": 155,
   "id": "84aa2bda",
   "metadata": {},
   "outputs": [
    {
     "data": {
      "text/plain": [
       "array([[<AxesSubplot:title={'center':'passenger_count'}>,\n",
       "        <AxesSubplot:title={'center':'trip_distance'}>,\n",
       "        <AxesSubplot:title={'center':'RatecodeID'}>],\n",
       "       [<AxesSubplot:title={'center':'PULocationID'}>,\n",
       "        <AxesSubplot:title={'center':'DOLocationID'}>,\n",
       "        <AxesSubplot:title={'center':'payment_type'}>],\n",
       "       [<AxesSubplot:title={'center':'total_amount'}>, <AxesSubplot:>,\n",
       "        <AxesSubplot:>]], dtype=object)"
      ]
     },
     "execution_count": 155,
     "metadata": {},
     "output_type": "execute_result"
    },
    {
     "data": {
      "image/png": "[encoded data removed]",
      "text/plain": [
       "<Figure size 1440x1296 with 9 Axes>"
      ]
     },
     "metadata": {
      "needs_background": "light"
     },
     "output_type": "display_data"
    }
   ],
   "source": [
    "taxi_data.hist(figsize=(20,18), bins=60)"
   ]
  },
  {
   "cell_type": "markdown",
   "id": "78c17a18",
   "metadata": {},
   "source": [
    "* <h2>Total Amount: </h2>"
   ]
  },
  {
   "cell_type": "code",
   "execution_count": 156,
   "id": "9dd08d10",
   "metadata": {},
   "outputs": [
    {
     "data": {
      "text/plain": [
       "<AxesSubplot:xlabel='index', ylabel='total_amount'>"
      ]
     },
     "execution_count": 156,
     "metadata": {},
     "output_type": "execute_result"
    },
    {
     "data": {
      "image/png": "[encoded data removed]",
      "text/plain": [
       "<Figure size 720x360 with 1 Axes>"
      ]
     },
     "metadata": {
      "needs_background": "light"
     },
     "output_type": "display_data"
    }
   ],
   "source": [
    "taxi_data['total_amount'].reset_index().plot(kind='scatter', y='total_amount', x='index', figsize=(10,5))"
   ]
  },
  {
   "cell_type": "markdown",
   "id": "501a1b39",
   "metadata": {},
   "source": [
    "There are some outliers as seen above. They look odd comparing to other y values. Total_amount is surely a data column to be taken care of."
   ]
  },
  {
   "cell_type": "code",
   "execution_count": 157,
   "id": "b714f13b",
   "metadata": {
    "scrolled": true
   },
   "outputs": [
    {
     "data": {
      "text/plain": [
       "<AxesSubplot:xlabel='index', ylabel='total_amount'>"
      ]
     },
     "execution_count": 157,
     "metadata": {},
     "output_type": "execute_result"
    },
    {
     "data": {
      "image/png": "[encoded data removed]",
      "text/plain": [
       "<Figure size 720x360 with 1 Axes>"
      ]
     },
     "metadata": {
      "needs_background": "light"
     },
     "output_type": "display_data"
    }
   ],
   "source": [
    "taxi_data[taxi_data['total_amount']<1000].reset_index().plot(kind='scatter', y='total_amount', x='index', figsize=(10,5))"
   ]
  },
  {
   "cell_type": "code",
   "execution_count": 158,
   "id": "d7c76ef3",
   "metadata": {},
   "outputs": [
    {
     "data": {
      "text/plain": [
       "(7131, 9)"
      ]
     },
     "execution_count": 158,
     "metadata": {},
     "output_type": "execute_result"
    }
   ],
   "source": [
    "taxi_data[taxi_data['total_amount']<0].head()\n",
    "taxi_data[taxi_data['total_amount']<0].shape"
   ]
  },
  {
   "cell_type": "markdown",
   "id": "03615a92",
   "metadata": {},
   "source": [
    "There are values smaller than zero. Distance cannot negative so there are definetely some data that must be cleaned from the dataset. "
   ]
  },
  {
   "cell_type": "code",
   "execution_count": 159,
   "id": "007975b6",
   "metadata": {},
   "outputs": [
    {
     "data": {
      "text/plain": [
       "<AxesSubplot:xlabel='index', ylabel='total_amount'>"
      ]
     },
     "execution_count": 159,
     "metadata": {},
     "output_type": "execute_result"
    },
    {
     "data": {
      "image/png": "[encoded data removed]",
      "text/plain": [
       "<Figure size 720x576 with 1 Axes>"
      ]
     },
     "metadata": {
      "needs_background": "light"
     },
     "output_type": "display_data"
    }
   ],
   "source": [
    "taxi_data[taxi_data['total_amount']==0].reset_index().plot(kind='scatter', y='total_amount', x='index', figsize=(10,8))"
   ]
  },
  {
   "cell_type": "code",
   "execution_count": 160,
   "id": "51c74c87",
   "metadata": {},
   "outputs": [
    {
     "data": {
      "text/plain": [
       "(1414, 9)"
      ]
     },
     "execution_count": 160,
     "metadata": {},
     "output_type": "execute_result"
    }
   ],
   "source": [
    "taxi_data[taxi_data['total_amount']==0].head()\n",
    "taxi_data[taxi_data['total_amount']==0].shape"
   ]
  },
  {
   "cell_type": "markdown",
   "id": "ae6131b6",
   "metadata": {},
   "source": [
    "There are also zero values in the column of total_amount. Paying 0 dollar for a taxi trip sounds also weird. Thus, three things to deal with:\n",
    "1. Too high values (not known yet),\n",
    "2. Negative values (7131 data points),\n",
    "3. Zero values (1414 data points)."
   ]
  },
  {
   "cell_type": "markdown",
   "id": "49962d39",
   "metadata": {},
   "source": [
    "* <h2>Trip Distance: </h2>"
   ]
  },
  {
   "cell_type": "code",
   "execution_count": 161,
   "id": "0c306f99",
   "metadata": {},
   "outputs": [
    {
     "data": {
      "text/plain": [
       "<AxesSubplot:xlabel='index', ylabel='trip_distance'>"
      ]
     },
     "execution_count": 161,
     "metadata": {},
     "output_type": "execute_result"
    },
    {
     "data": {
      "image/png": "[encoded data removed]",
      "text/plain": [
       "<Figure size 720x360 with 1 Axes>"
      ]
     },
     "metadata": {
      "needs_background": "light"
     },
     "output_type": "display_data"
    }
   ],
   "source": [
    "taxi_data['trip_distance'].reset_index().plot(kind='scatter', y='trip_distance', x='index', figsize=(10,5))"
   ]
  },
  {
   "cell_type": "markdown",
   "id": "a6396efd",
   "metadata": {},
   "source": [
    "Trip distance is in miles so these outliers can be important to look at. "
   ]
  },
  {
   "cell_type": "markdown",
   "id": "9ee87bd7",
   "metadata": {},
   "source": [
    "* <h2>Payment Type: </h2>"
   ]
  },
  {
   "cell_type": "code",
   "execution_count": 162,
   "id": "392fa5bf",
   "metadata": {},
   "outputs": [
    {
     "data": {
      "text/plain": [
       "<AxesSubplot:xlabel='index', ylabel='payment_type'>"
      ]
     },
     "execution_count": 162,
     "metadata": {},
     "output_type": "execute_result"
    },
    {
     "data": {
      "image/png": "[encoded data removed]",
      "text/plain": [
       "<Figure size 720x360 with 1 Axes>"
      ]
     },
     "metadata": {
      "needs_background": "light"
     },
     "output_type": "display_data"
    }
   ],
   "source": [
    "taxi_data['payment_type'].reset_index().plot(kind='scatter', y='payment_type', x='index', figsize=(10,5))"
   ]
  },
  {
   "cell_type": "markdown",
   "id": "36a88e2d",
   "metadata": {},
   "source": [
    "1. Credit card \n",
    "2. Cash\n",
    "3. No charge \n",
    "4. Dispute"
   ]
  },
  {
   "cell_type": "markdown",
   "id": "f420e14c",
   "metadata": {},
   "source": [
    "* <h2>More on Total Amount: </h2>\n",
    "\n",
    "    Looking at the total_amount values smaller than 0:"
   ]
  },
  {
   "cell_type": "code",
   "execution_count": 163,
   "id": "999db944",
   "metadata": {},
   "outputs": [
    {
     "data": {
      "text/plain": [
       "<AxesSubplot:xlabel='index', ylabel='total_amount'>"
      ]
     },
     "execution_count": 163,
     "metadata": {},
     "output_type": "execute_result"
    },
    {
     "data": {
      "image/png": "[encoded data removed]",
      "text/plain": [
       "<Figure size 720x360 with 1 Axes>"
      ]
     },
     "metadata": {
      "needs_background": "light"
     },
     "output_type": "display_data"
    }
   ],
   "source": [
    "taxi_data[taxi_data['total_amount']<0].reset_index().plot(kind='scatter', y='total_amount', x='index', figsize=(10,5))"
   ]
  },
  {
   "cell_type": "code",
   "execution_count": 164,
   "id": "120a83b4",
   "metadata": {},
   "outputs": [
    {
     "data": {
      "text/plain": [
       "(7131, 9)"
      ]
     },
     "execution_count": 164,
     "metadata": {},
     "output_type": "execute_result"
    }
   ],
   "source": [
    "taxi_data[taxi_data['total_amount']<0].shape"
   ]
  },
  {
   "cell_type": "code",
   "execution_count": 165,
   "id": "e608acd0",
   "metadata": {},
   "outputs": [
    {
     "data": {
      "text/plain": [
       "3    4088\n",
       "4    2666\n",
       "2     376\n",
       "1       1\n",
       "Name: payment_type, dtype: int64"
      ]
     },
     "execution_count": 165,
     "metadata": {},
     "output_type": "execute_result"
    }
   ],
   "source": [
    "taxi_data[taxi_data['total_amount']<0]['payment_type'].value_counts()"
   ]
  },
  {
   "cell_type": "code",
   "execution_count": 166,
   "id": "62bfa8e5",
   "metadata": {},
   "outputs": [
    {
     "data": {
      "text/html": [
       "<div>\n",
       "<style scoped>\n",
       "    .dataframe tbody tr th:only-of-type {\n",
       "        vertical-align: middle;\n",
       "    }\n",
       "\n",
       "    .dataframe tbody tr th {\n",
       "        vertical-align: top;\n",
       "    }\n",
       "\n",
       "    .dataframe thead th {\n",
       "        text-align: right;\n",
       "    }\n",
       "</style>\n",
       "<table border=\"1\" class=\"dataframe\">\n",
       "  <thead>\n",
       "    <tr style=\"text-align: right;\">\n",
       "      <th></th>\n",
       "      <th>tpep_pickup_datetime</th>\n",
       "      <th>tpep_dropoff_datetime</th>\n",
       "      <th>passenger_count</th>\n",
       "      <th>trip_distance</th>\n",
       "      <th>RatecodeID</th>\n",
       "      <th>PULocationID</th>\n",
       "      <th>DOLocationID</th>\n",
       "      <th>payment_type</th>\n",
       "      <th>total_amount</th>\n",
       "    </tr>\n",
       "  </thead>\n",
       "  <tbody>\n",
       "    <tr>\n",
       "      <th>663</th>\n",
       "      <td>2019-01-01 00:32:56</td>\n",
       "      <td>2019-01-01 00:33:35</td>\n",
       "      <td>2</td>\n",
       "      <td>0.10</td>\n",
       "      <td>1</td>\n",
       "      <td>148</td>\n",
       "      <td>148</td>\n",
       "      <td>3</td>\n",
       "      <td>-3.8</td>\n",
       "    </tr>\n",
       "    <tr>\n",
       "      <th>2402</th>\n",
       "      <td>2019-01-01 00:14:18</td>\n",
       "      <td>2019-01-01 00:40:55</td>\n",
       "      <td>1</td>\n",
       "      <td>4.13</td>\n",
       "      <td>1</td>\n",
       "      <td>170</td>\n",
       "      <td>238</td>\n",
       "      <td>4</td>\n",
       "      <td>-20.3</td>\n",
       "    </tr>\n",
       "    <tr>\n",
       "      <th>2541</th>\n",
       "      <td>2019-01-01 00:31:27</td>\n",
       "      <td>2019-01-01 00:42:39</td>\n",
       "      <td>1</td>\n",
       "      <td>1.35</td>\n",
       "      <td>1</td>\n",
       "      <td>162</td>\n",
       "      <td>234</td>\n",
       "      <td>4</td>\n",
       "      <td>-9.8</td>\n",
       "    </tr>\n",
       "    <tr>\n",
       "      <th>2544</th>\n",
       "      <td>2019-01-01 00:45:57</td>\n",
       "      <td>2019-01-01 00:46:07</td>\n",
       "      <td>1</td>\n",
       "      <td>0.00</td>\n",
       "      <td>1</td>\n",
       "      <td>234</td>\n",
       "      <td>234</td>\n",
       "      <td>4</td>\n",
       "      <td>-3.8</td>\n",
       "    </tr>\n",
       "    <tr>\n",
       "      <th>2547</th>\n",
       "      <td>2019-01-01 00:48:35</td>\n",
       "      <td>2019-01-01 00:49:59</td>\n",
       "      <td>1</td>\n",
       "      <td>0.16</td>\n",
       "      <td>1</td>\n",
       "      <td>234</td>\n",
       "      <td>234</td>\n",
       "      <td>4</td>\n",
       "      <td>-4.3</td>\n",
       "    </tr>\n",
       "  </tbody>\n",
       "</table>\n",
       "</div>"
      ],
      "text/plain": [
       "     tpep_pickup_datetime tpep_dropoff_datetime  passenger_count  \\\n",
       "663   2019-01-01 00:32:56   2019-01-01 00:33:35                2   \n",
       "2402  2019-01-01 00:14:18   2019-01-01 00:40:55                1   \n",
       "2541  2019-01-01 00:31:27   2019-01-01 00:42:39                1   \n",
       "2544  2019-01-01 00:45:57   2019-01-01 00:46:07                1   \n",
       "2547  2019-01-01 00:48:35   2019-01-01 00:49:59                1   \n",
       "\n",
       "      trip_distance  RatecodeID  PULocationID  DOLocationID  payment_type  \\\n",
       "663            0.10           1           148           148             3   \n",
       "2402           4.13           1           170           238             4   \n",
       "2541           1.35           1           162           234             4   \n",
       "2544           0.00           1           234           234             4   \n",
       "2547           0.16           1           234           234             4   \n",
       "\n",
       "      total_amount  \n",
       "663           -3.8  \n",
       "2402         -20.3  \n",
       "2541          -9.8  \n",
       "2544          -3.8  \n",
       "2547          -4.3  "
      ]
     },
     "execution_count": 166,
     "metadata": {},
     "output_type": "execute_result"
    }
   ],
   "source": [
    "taxi_data[taxi_data['total_amount']<0].head()"
   ]
  },
  {
   "cell_type": "markdown",
   "id": "45cb040a",
   "metadata": {},
   "source": [
    "Looking at the zero total_amount values:"
   ]
  },
  {
   "cell_type": "code",
   "execution_count": 167,
   "id": "14a7fea9",
   "metadata": {},
   "outputs": [
    {
     "data": {
      "text/plain": [
       "Text(0.5, 0, 'distance (miles)')"
      ]
     },
     "execution_count": 167,
     "metadata": {},
     "output_type": "execute_result"
    },
    {
     "data": {
      "image/png": "[encoded data removed]",
      "text/plain": [
       "<Figure size 720x360 with 1 Axes>"
      ]
     },
     "metadata": {
      "needs_background": "light"
     },
     "output_type": "display_data"
    }
   ],
   "source": [
    "trip_hist = taxi_data[taxi_data['total_amount']==0]['trip_distance'].hist(bins=60, figsize=(10,5))\n",
    "trip_hist.set_xlabel('distance (miles)')"
   ]
  },
  {
   "cell_type": "markdown",
   "id": "b8b33772",
   "metadata": {},
   "source": [
    "It makes sense that zero-dollar-taxi-trips are for the distances = 0 which means no trip no payment."
   ]
  },
  {
   "cell_type": "code",
   "execution_count": 168,
   "id": "ee5836b7",
   "metadata": {},
   "outputs": [
    {
     "data": {
      "text/plain": [
       "(1270, 9)"
      ]
     },
     "execution_count": 168,
     "metadata": {},
     "output_type": "execute_result"
    }
   ],
   "source": [
    "taxi_data[(taxi_data['total_amount']==0) & (taxi_data['trip_distance']==0)].shape"
   ]
  },
  {
   "cell_type": "code",
   "execution_count": 169,
   "id": "0aa2973b",
   "metadata": {},
   "outputs": [
    {
     "data": {
      "text/plain": [
       "(51696, 9)"
      ]
     },
     "execution_count": 169,
     "metadata": {},
     "output_type": "execute_result"
    }
   ],
   "source": [
    "taxi_data[(taxi_data['total_amount']>0) & (taxi_data['total_amount']<200) & (taxi_data['trip_distance']==0)].shape"
   ]
  },
  {
   "cell_type": "markdown",
   "id": "72fa106e",
   "metadata": {},
   "source": [
    "51696 sounds like an important amount of data points to remove. Thus, I prefer expecting an explanation for the trips where trip_distance=0 and total_amount>0 instead of removing them."
   ]
  },
  {
   "cell_type": "markdown",
   "id": "ac18c5c8",
   "metadata": {},
   "source": [
    "Now, let's look at the very high total_amount values:"
   ]
  },
  {
   "cell_type": "code",
   "execution_count": 170,
   "id": "36abfb26",
   "metadata": {},
   "outputs": [
    {
     "data": {
      "text/plain": [
       "<AxesSubplot:xlabel='index', ylabel='total_amount'>"
      ]
     },
     "execution_count": 170,
     "metadata": {},
     "output_type": "execute_result"
    },
    {
     "data": {
      "image/png": "[encoded data removed]",
      "text/plain": [
       "<Figure size 720x360 with 1 Axes>"
      ]
     },
     "metadata": {
      "needs_background": "light"
     },
     "output_type": "display_data"
    }
   ],
   "source": [
    "taxi_data[taxi_data['total_amount']>200].reset_index().plot(kind='scatter', y='total_amount', x='index', figsize=(10,5))"
   ]
  },
  {
   "cell_type": "code",
   "execution_count": 171,
   "id": "23c3e098",
   "metadata": {},
   "outputs": [
    {
     "name": "stdout",
     "output_type": "stream",
     "text": [
      "(10832, 9)\n",
      "(1166, 9)\n",
      "(307, 9)\n"
     ]
    }
   ],
   "source": [
    "print(taxi_data[taxi_data['total_amount']>100].shape)\n",
    "print(taxi_data[taxi_data['total_amount']>200].shape)\n",
    "print(taxi_data[taxi_data['total_amount']>300].shape)\n",
    "\n",
    "#200 dollars seem like a reasonable cut-off value."
   ]
  },
  {
   "cell_type": "markdown",
   "id": "3d7e46e4",
   "metadata": {},
   "source": [
    "# 3. Data Cleaning <a id='data_cleaning'></a>\n",
    "[Back to top](#table_of_contents)"
   ]
  },
  {
   "cell_type": "markdown",
   "id": "fe9cc643",
   "metadata": {},
   "source": [
    "Consider:\n",
    "Negative, zero, and too high (>=200 dollars) total_amount values.\n",
    "\n",
    "Assumption: Zero values are for mistaken trips. Those trips might be trips as such the taxi driver started the taximeter but then stopped right away for some reason (change of mind or any technical problem). Thus, I prefer removing those considering also 1414 data points are not a big deal for 7m dataset. \n",
    "\n",
    "In real life, I would ask the data owner about these zero values. However now I prefer making the assumption above."
   ]
  },
  {
   "cell_type": "code",
   "execution_count": 172,
   "id": "98da21c1",
   "metadata": {},
   "outputs": [],
   "source": [
    "taxi_data_cleaned = taxi_data[(taxi_data['total_amount']<200) & (taxi_data['total_amount']>0)]"
   ]
  },
  {
   "cell_type": "code",
   "execution_count": 173,
   "id": "5b096139",
   "metadata": {},
   "outputs": [
    {
     "name": "stdout",
     "output_type": "stream",
     "text": [
      "(7658076, 9)\n",
      "(7667792, 9)\n"
     ]
    }
   ],
   "source": [
    "print(taxi_data_cleaned.shape)\n",
    "print(taxi_data.shape)"
   ]
  },
  {
   "cell_type": "markdown",
   "id": "7762d217",
   "metadata": {},
   "source": [
    "Let's check missing values once again whether there is any:"
   ]
  },
  {
   "cell_type": "code",
   "execution_count": 174,
   "id": "140f5b09",
   "metadata": {},
   "outputs": [
    {
     "data": {
      "text/plain": [
       "tpep_pickup_datetime     0\n",
       "tpep_dropoff_datetime    0\n",
       "passenger_count          0\n",
       "trip_distance            0\n",
       "RatecodeID               0\n",
       "PULocationID             0\n",
       "DOLocationID             0\n",
       "payment_type             0\n",
       "total_amount             0\n",
       "dtype: int64"
      ]
     },
     "execution_count": 174,
     "metadata": {},
     "output_type": "execute_result"
    }
   ],
   "source": [
    "taxi_data_cleaned.isna().sum()"
   ]
  },
  {
   "cell_type": "code",
   "execution_count": null,
   "id": "1b61656a",
   "metadata": {},
   "outputs": [],
   "source": []
  },
  {
   "cell_type": "markdown",
   "id": "edc50b6b",
   "metadata": {},
   "source": [
    "# 4. Data Preparation <a id='data_preparation'></a>\n",
    "[Back to top](#table_of_contents)"
   ]
  },
  {
   "cell_type": "code",
   "execution_count": 175,
   "id": "69e86d22",
   "metadata": {},
   "outputs": [
    {
     "data": {
      "text/plain": [
       "tpep_pickup_datetime      object\n",
       "tpep_dropoff_datetime     object\n",
       "passenger_count            int64\n",
       "trip_distance            float64\n",
       "RatecodeID                 int64\n",
       "PULocationID               int64\n",
       "DOLocationID               int64\n",
       "payment_type               int64\n",
       "total_amount             float64\n",
       "dtype: object"
      ]
     },
     "execution_count": 175,
     "metadata": {},
     "output_type": "execute_result"
    }
   ],
   "source": [
    "taxi_data_cleaned.dtypes"
   ]
  },
  {
   "cell_type": "code",
   "execution_count": 176,
   "id": "89ceda2f",
   "metadata": {},
   "outputs": [],
   "source": [
    "taxi_data_prepared = taxi_data_cleaned.copy() #deep copy"
   ]
  },
  {
   "cell_type": "code",
   "execution_count": 177,
   "id": "d3ec9cef",
   "metadata": {},
   "outputs": [],
   "source": [
    "taxi_data_prepared.loc[:, 'tpep_pickup_datetime'] = pd.to_datetime(taxi_data_prepared.loc[:, 'tpep_pickup_datetime'])\n",
    "taxi_data_prepared.loc[:, 'tpep_dropoff_datetime'] = pd.to_datetime(taxi_data_prepared.loc[:, 'tpep_dropoff_datetime'])"
   ]
  },
  {
   "cell_type": "markdown",
   "id": "c26a2fa4",
   "metadata": {},
   "source": [
    "RatecodeID, PULocation, DOLocation, and payment_types are not numerical features. Thus, one would want them in strings instead of integers."
   ]
  },
  {
   "cell_type": "code",
   "execution_count": 178,
   "id": "fda23034",
   "metadata": {},
   "outputs": [],
   "source": [
    "taxi_data_prepared.loc[:, 'RatecodeID'] = taxi_data_prepared['RatecodeID'].astype(str)\n",
    "taxi_data_prepared.loc[:, 'PULocationID'] = taxi_data_prepared['PULocationID'].astype(str)\n",
    "taxi_data_prepared.loc[:, 'DOLocationID'] = taxi_data_prepared['DOLocationID'].astype(str)\n",
    "taxi_data_prepared.loc[:, 'payment_type'] = taxi_data_prepared['payment_type'].astype(str)\n"
   ]
  },
  {
   "cell_type": "code",
   "execution_count": 179,
   "id": "10eebf40",
   "metadata": {},
   "outputs": [
    {
     "data": {
      "text/plain": [
       "tpep_pickup_datetime     datetime64[ns]\n",
       "tpep_dropoff_datetime    datetime64[ns]\n",
       "passenger_count                   int64\n",
       "trip_distance                   float64\n",
       "RatecodeID                       object\n",
       "PULocationID                     object\n",
       "DOLocationID                     object\n",
       "payment_type                     object\n",
       "total_amount                    float64\n",
       "dtype: object"
      ]
     },
     "execution_count": 179,
     "metadata": {},
     "output_type": "execute_result"
    }
   ],
   "source": [
    "taxi_data_prepared.dtypes"
   ]
  },
  {
   "cell_type": "code",
   "execution_count": 180,
   "id": "47d4d69f",
   "metadata": {},
   "outputs": [
    {
     "data": {
      "text/html": [
       "<div>\n",
       "<style scoped>\n",
       "    .dataframe tbody tr th:only-of-type {\n",
       "        vertical-align: middle;\n",
       "    }\n",
       "\n",
       "    .dataframe tbody tr th {\n",
       "        vertical-align: top;\n",
       "    }\n",
       "\n",
       "    .dataframe thead th {\n",
       "        text-align: right;\n",
       "    }\n",
       "</style>\n",
       "<table border=\"1\" class=\"dataframe\">\n",
       "  <thead>\n",
       "    <tr style=\"text-align: right;\">\n",
       "      <th></th>\n",
       "      <th>tpep_pickup_datetime</th>\n",
       "      <th>tpep_dropoff_datetime</th>\n",
       "      <th>passenger_count</th>\n",
       "      <th>trip_distance</th>\n",
       "      <th>RatecodeID</th>\n",
       "      <th>PULocationID</th>\n",
       "      <th>DOLocationID</th>\n",
       "      <th>payment_type</th>\n",
       "      <th>total_amount</th>\n",
       "    </tr>\n",
       "  </thead>\n",
       "  <tbody>\n",
       "    <tr>\n",
       "      <th>0</th>\n",
       "      <td>2019-01-01 00:46:40</td>\n",
       "      <td>2019-01-01 00:53:20</td>\n",
       "      <td>1</td>\n",
       "      <td>1.5</td>\n",
       "      <td>1</td>\n",
       "      <td>151</td>\n",
       "      <td>239</td>\n",
       "      <td>1</td>\n",
       "      <td>9.95</td>\n",
       "    </tr>\n",
       "    <tr>\n",
       "      <th>1</th>\n",
       "      <td>2019-01-01 00:59:47</td>\n",
       "      <td>2019-01-01 01:18:59</td>\n",
       "      <td>1</td>\n",
       "      <td>2.6</td>\n",
       "      <td>1</td>\n",
       "      <td>239</td>\n",
       "      <td>246</td>\n",
       "      <td>1</td>\n",
       "      <td>16.30</td>\n",
       "    </tr>\n",
       "    <tr>\n",
       "      <th>2</th>\n",
       "      <td>2018-12-21 13:48:30</td>\n",
       "      <td>2018-12-21 13:52:40</td>\n",
       "      <td>3</td>\n",
       "      <td>0.0</td>\n",
       "      <td>1</td>\n",
       "      <td>236</td>\n",
       "      <td>236</td>\n",
       "      <td>1</td>\n",
       "      <td>5.80</td>\n",
       "    </tr>\n",
       "    <tr>\n",
       "      <th>3</th>\n",
       "      <td>2018-11-28 15:52:25</td>\n",
       "      <td>2018-11-28 15:55:45</td>\n",
       "      <td>5</td>\n",
       "      <td>0.0</td>\n",
       "      <td>1</td>\n",
       "      <td>193</td>\n",
       "      <td>193</td>\n",
       "      <td>2</td>\n",
       "      <td>7.55</td>\n",
       "    </tr>\n",
       "    <tr>\n",
       "      <th>4</th>\n",
       "      <td>2018-11-28 15:56:57</td>\n",
       "      <td>2018-11-28 15:58:33</td>\n",
       "      <td>5</td>\n",
       "      <td>0.0</td>\n",
       "      <td>2</td>\n",
       "      <td>193</td>\n",
       "      <td>193</td>\n",
       "      <td>2</td>\n",
       "      <td>55.55</td>\n",
       "    </tr>\n",
       "  </tbody>\n",
       "</table>\n",
       "</div>"
      ],
      "text/plain": [
       "  tpep_pickup_datetime tpep_dropoff_datetime  passenger_count  trip_distance  \\\n",
       "0  2019-01-01 00:46:40   2019-01-01 00:53:20                1            1.5   \n",
       "1  2019-01-01 00:59:47   2019-01-01 01:18:59                1            2.6   \n",
       "2  2018-12-21 13:48:30   2018-12-21 13:52:40                3            0.0   \n",
       "3  2018-11-28 15:52:25   2018-11-28 15:55:45                5            0.0   \n",
       "4  2018-11-28 15:56:57   2018-11-28 15:58:33                5            0.0   \n",
       "\n",
       "  RatecodeID PULocationID DOLocationID payment_type  total_amount  \n",
       "0          1          151          239            1          9.95  \n",
       "1          1          239          246            1         16.30  \n",
       "2          1          236          236            1          5.80  \n",
       "3          1          193          193            2          7.55  \n",
       "4          2          193          193            2         55.55  "
      ]
     },
     "execution_count": 180,
     "metadata": {},
     "output_type": "execute_result"
    }
   ],
   "source": [
    "taxi_data_prepared.head()"
   ]
  },
  {
   "cell_type": "markdown",
   "id": "a6791cdf",
   "metadata": {},
   "source": [
    "Getting month, day, time, and year information from the datetime:"
   ]
  },
  {
   "cell_type": "code",
   "execution_count": 181,
   "id": "f6267e7e",
   "metadata": {},
   "outputs": [],
   "source": [
    "taxi_data_prepared['transactionDate'] = pd.to_datetime(taxi_data_prepared['tpep_pickup_datetime']).dt.date\n",
    "taxi_data_prepared['transactionMonth'] = taxi_data_prepared['tpep_pickup_datetime'].dt.month\n",
    "taxi_data_prepared['transactionDay'] = taxi_data_prepared['tpep_pickup_datetime'].dt.day\n",
    "taxi_data_prepared['transactionHour'] = taxi_data_prepared['tpep_pickup_datetime'].dt.hour\n",
    "taxi_data_prepared['transactionYear'] = taxi_data_prepared['tpep_pickup_datetime'].dt.year"
   ]
  },
  {
   "cell_type": "code",
   "execution_count": 182,
   "id": "f1bcf807",
   "metadata": {},
   "outputs": [
    {
     "data": {
      "text/html": [
       "<div>\n",
       "<style scoped>\n",
       "    .dataframe tbody tr th:only-of-type {\n",
       "        vertical-align: middle;\n",
       "    }\n",
       "\n",
       "    .dataframe tbody tr th {\n",
       "        vertical-align: top;\n",
       "    }\n",
       "\n",
       "    .dataframe thead th {\n",
       "        text-align: right;\n",
       "    }\n",
       "</style>\n",
       "<table border=\"1\" class=\"dataframe\">\n",
       "  <thead>\n",
       "    <tr style=\"text-align: right;\">\n",
       "      <th></th>\n",
       "      <th>tpep_pickup_datetime</th>\n",
       "      <th>tpep_dropoff_datetime</th>\n",
       "      <th>passenger_count</th>\n",
       "      <th>trip_distance</th>\n",
       "      <th>RatecodeID</th>\n",
       "      <th>PULocationID</th>\n",
       "      <th>DOLocationID</th>\n",
       "      <th>payment_type</th>\n",
       "      <th>total_amount</th>\n",
       "      <th>transactionDate</th>\n",
       "      <th>transactionMonth</th>\n",
       "      <th>transactionDay</th>\n",
       "      <th>transactionHour</th>\n",
       "      <th>transactionYear</th>\n",
       "    </tr>\n",
       "  </thead>\n",
       "  <tbody>\n",
       "    <tr>\n",
       "      <th>0</th>\n",
       "      <td>2019-01-01 00:46:40</td>\n",
       "      <td>2019-01-01 00:53:20</td>\n",
       "      <td>1</td>\n",
       "      <td>1.5</td>\n",
       "      <td>1</td>\n",
       "      <td>151</td>\n",
       "      <td>239</td>\n",
       "      <td>1</td>\n",
       "      <td>9.95</td>\n",
       "      <td>2019-01-01</td>\n",
       "      <td>1</td>\n",
       "      <td>1</td>\n",
       "      <td>0</td>\n",
       "      <td>2019</td>\n",
       "    </tr>\n",
       "    <tr>\n",
       "      <th>1</th>\n",
       "      <td>2019-01-01 00:59:47</td>\n",
       "      <td>2019-01-01 01:18:59</td>\n",
       "      <td>1</td>\n",
       "      <td>2.6</td>\n",
       "      <td>1</td>\n",
       "      <td>239</td>\n",
       "      <td>246</td>\n",
       "      <td>1</td>\n",
       "      <td>16.30</td>\n",
       "      <td>2019-01-01</td>\n",
       "      <td>1</td>\n",
       "      <td>1</td>\n",
       "      <td>0</td>\n",
       "      <td>2019</td>\n",
       "    </tr>\n",
       "    <tr>\n",
       "      <th>2</th>\n",
       "      <td>2018-12-21 13:48:30</td>\n",
       "      <td>2018-12-21 13:52:40</td>\n",
       "      <td>3</td>\n",
       "      <td>0.0</td>\n",
       "      <td>1</td>\n",
       "      <td>236</td>\n",
       "      <td>236</td>\n",
       "      <td>1</td>\n",
       "      <td>5.80</td>\n",
       "      <td>2018-12-21</td>\n",
       "      <td>12</td>\n",
       "      <td>21</td>\n",
       "      <td>13</td>\n",
       "      <td>2018</td>\n",
       "    </tr>\n",
       "    <tr>\n",
       "      <th>3</th>\n",
       "      <td>2018-11-28 15:52:25</td>\n",
       "      <td>2018-11-28 15:55:45</td>\n",
       "      <td>5</td>\n",
       "      <td>0.0</td>\n",
       "      <td>1</td>\n",
       "      <td>193</td>\n",
       "      <td>193</td>\n",
       "      <td>2</td>\n",
       "      <td>7.55</td>\n",
       "      <td>2018-11-28</td>\n",
       "      <td>11</td>\n",
       "      <td>28</td>\n",
       "      <td>15</td>\n",
       "      <td>2018</td>\n",
       "    </tr>\n",
       "    <tr>\n",
       "      <th>4</th>\n",
       "      <td>2018-11-28 15:56:57</td>\n",
       "      <td>2018-11-28 15:58:33</td>\n",
       "      <td>5</td>\n",
       "      <td>0.0</td>\n",
       "      <td>2</td>\n",
       "      <td>193</td>\n",
       "      <td>193</td>\n",
       "      <td>2</td>\n",
       "      <td>55.55</td>\n",
       "      <td>2018-11-28</td>\n",
       "      <td>11</td>\n",
       "      <td>28</td>\n",
       "      <td>15</td>\n",
       "      <td>2018</td>\n",
       "    </tr>\n",
       "  </tbody>\n",
       "</table>\n",
       "</div>"
      ],
      "text/plain": [
       "  tpep_pickup_datetime tpep_dropoff_datetime  passenger_count  trip_distance  \\\n",
       "0  2019-01-01 00:46:40   2019-01-01 00:53:20                1            1.5   \n",
       "1  2019-01-01 00:59:47   2019-01-01 01:18:59                1            2.6   \n",
       "2  2018-12-21 13:48:30   2018-12-21 13:52:40                3            0.0   \n",
       "3  2018-11-28 15:52:25   2018-11-28 15:55:45                5            0.0   \n",
       "4  2018-11-28 15:56:57   2018-11-28 15:58:33                5            0.0   \n",
       "\n",
       "  RatecodeID PULocationID DOLocationID payment_type  total_amount  \\\n",
       "0          1          151          239            1          9.95   \n",
       "1          1          239          246            1         16.30   \n",
       "2          1          236          236            1          5.80   \n",
       "3          1          193          193            2          7.55   \n",
       "4          2          193          193            2         55.55   \n",
       "\n",
       "  transactionDate  transactionMonth  transactionDay  transactionHour  \\\n",
       "0      2019-01-01                 1               1                0   \n",
       "1      2019-01-01                 1               1                0   \n",
       "2      2018-12-21                12              21               13   \n",
       "3      2018-11-28                11              28               15   \n",
       "4      2018-11-28                11              28               15   \n",
       "\n",
       "   transactionYear  \n",
       "0             2019  \n",
       "1             2019  \n",
       "2             2018  \n",
       "3             2018  \n",
       "4             2018  "
      ]
     },
     "execution_count": 182,
     "metadata": {},
     "output_type": "execute_result"
    }
   ],
   "source": [
    "taxi_data_prepared.head()"
   ]
  },
  {
   "cell_type": "markdown",
   "id": "5fc356e9",
   "metadata": {},
   "source": [
    "Note that the data was downloaded for January 2019 but there is also year of 2018 above. Thus, it must be adjusted:"
   ]
  },
  {
   "cell_type": "code",
   "execution_count": 183,
   "id": "29f5146d",
   "metadata": {},
   "outputs": [
    {
     "data": {
      "text/html": [
       "<div>\n",
       "<style scoped>\n",
       "    .dataframe tbody tr th:only-of-type {\n",
       "        vertical-align: middle;\n",
       "    }\n",
       "\n",
       "    .dataframe tbody tr th {\n",
       "        vertical-align: top;\n",
       "    }\n",
       "\n",
       "    .dataframe thead th {\n",
       "        text-align: right;\n",
       "    }\n",
       "</style>\n",
       "<table border=\"1\" class=\"dataframe\">\n",
       "  <thead>\n",
       "    <tr style=\"text-align: right;\">\n",
       "      <th></th>\n",
       "      <th>tpep_pickup_datetime</th>\n",
       "      <th>tpep_dropoff_datetime</th>\n",
       "      <th>passenger_count</th>\n",
       "      <th>trip_distance</th>\n",
       "      <th>RatecodeID</th>\n",
       "      <th>PULocationID</th>\n",
       "      <th>DOLocationID</th>\n",
       "      <th>payment_type</th>\n",
       "      <th>total_amount</th>\n",
       "      <th>transactionDate</th>\n",
       "      <th>transactionMonth</th>\n",
       "      <th>transactionDay</th>\n",
       "      <th>transactionHour</th>\n",
       "      <th>transactionYear</th>\n",
       "    </tr>\n",
       "  </thead>\n",
       "  <tbody>\n",
       "    <tr>\n",
       "      <th>0</th>\n",
       "      <td>2019-01-01 00:46:40</td>\n",
       "      <td>2019-01-01 00:53:20</td>\n",
       "      <td>1</td>\n",
       "      <td>1.5</td>\n",
       "      <td>1</td>\n",
       "      <td>151</td>\n",
       "      <td>239</td>\n",
       "      <td>1</td>\n",
       "      <td>9.95</td>\n",
       "      <td>2019-01-01</td>\n",
       "      <td>1</td>\n",
       "      <td>1</td>\n",
       "      <td>0</td>\n",
       "      <td>2019</td>\n",
       "    </tr>\n",
       "    <tr>\n",
       "      <th>1</th>\n",
       "      <td>2019-01-01 00:59:47</td>\n",
       "      <td>2019-01-01 01:18:59</td>\n",
       "      <td>1</td>\n",
       "      <td>2.6</td>\n",
       "      <td>1</td>\n",
       "      <td>239</td>\n",
       "      <td>246</td>\n",
       "      <td>1</td>\n",
       "      <td>16.30</td>\n",
       "      <td>2019-01-01</td>\n",
       "      <td>1</td>\n",
       "      <td>1</td>\n",
       "      <td>0</td>\n",
       "      <td>2019</td>\n",
       "    </tr>\n",
       "    <tr>\n",
       "      <th>7</th>\n",
       "      <td>2019-01-01 00:21:28</td>\n",
       "      <td>2019-01-01 00:28:37</td>\n",
       "      <td>1</td>\n",
       "      <td>1.3</td>\n",
       "      <td>1</td>\n",
       "      <td>163</td>\n",
       "      <td>229</td>\n",
       "      <td>1</td>\n",
       "      <td>9.05</td>\n",
       "      <td>2019-01-01</td>\n",
       "      <td>1</td>\n",
       "      <td>1</td>\n",
       "      <td>0</td>\n",
       "      <td>2019</td>\n",
       "    </tr>\n",
       "    <tr>\n",
       "      <th>8</th>\n",
       "      <td>2019-01-01 00:32:01</td>\n",
       "      <td>2019-01-01 00:45:39</td>\n",
       "      <td>1</td>\n",
       "      <td>3.7</td>\n",
       "      <td>1</td>\n",
       "      <td>229</td>\n",
       "      <td>7</td>\n",
       "      <td>1</td>\n",
       "      <td>18.50</td>\n",
       "      <td>2019-01-01</td>\n",
       "      <td>1</td>\n",
       "      <td>1</td>\n",
       "      <td>0</td>\n",
       "      <td>2019</td>\n",
       "    </tr>\n",
       "    <tr>\n",
       "      <th>9</th>\n",
       "      <td>2019-01-01 00:57:32</td>\n",
       "      <td>2019-01-01 01:09:32</td>\n",
       "      <td>2</td>\n",
       "      <td>2.1</td>\n",
       "      <td>1</td>\n",
       "      <td>141</td>\n",
       "      <td>234</td>\n",
       "      <td>1</td>\n",
       "      <td>13.00</td>\n",
       "      <td>2019-01-01</td>\n",
       "      <td>1</td>\n",
       "      <td>1</td>\n",
       "      <td>0</td>\n",
       "      <td>2019</td>\n",
       "    </tr>\n",
       "  </tbody>\n",
       "</table>\n",
       "</div>"
      ],
      "text/plain": [
       "  tpep_pickup_datetime tpep_dropoff_datetime  passenger_count  trip_distance  \\\n",
       "0  2019-01-01 00:46:40   2019-01-01 00:53:20                1            1.5   \n",
       "1  2019-01-01 00:59:47   2019-01-01 01:18:59                1            2.6   \n",
       "7  2019-01-01 00:21:28   2019-01-01 00:28:37                1            1.3   \n",
       "8  2019-01-01 00:32:01   2019-01-01 00:45:39                1            3.7   \n",
       "9  2019-01-01 00:57:32   2019-01-01 01:09:32                2            2.1   \n",
       "\n",
       "  RatecodeID PULocationID DOLocationID payment_type  total_amount  \\\n",
       "0          1          151          239            1          9.95   \n",
       "1          1          239          246            1         16.30   \n",
       "7          1          163          229            1          9.05   \n",
       "8          1          229            7            1         18.50   \n",
       "9          1          141          234            1         13.00   \n",
       "\n",
       "  transactionDate  transactionMonth  transactionDay  transactionHour  \\\n",
       "0      2019-01-01                 1               1                0   \n",
       "1      2019-01-01                 1               1                0   \n",
       "7      2019-01-01                 1               1                0   \n",
       "8      2019-01-01                 1               1                0   \n",
       "9      2019-01-01                 1               1                0   \n",
       "\n",
       "   transactionYear  \n",
       "0             2019  \n",
       "1             2019  \n",
       "7             2019  \n",
       "8             2019  \n",
       "9             2019  "
      ]
     },
     "execution_count": 183,
     "metadata": {},
     "output_type": "execute_result"
    }
   ],
   "source": [
    "taxi_data_prepared = taxi_data_prepared[taxi_data_prepared['transactionYear'] == 2019]\n",
    "taxi_data_prepared = taxi_data_prepared[taxi_data_prepared['transactionMonth'] == 1]\n",
    "\n",
    "taxi_data_prepared.head()"
   ]
  },
  {
   "cell_type": "code",
   "execution_count": 184,
   "id": "dafcce48",
   "metadata": {},
   "outputs": [],
   "source": [
    "#taxi_data_prepared.hist(figsize=(20, 10), bins = 60)"
   ]
  },
  {
   "cell_type": "markdown",
   "id": "52fbbd90",
   "metadata": {},
   "source": [
    "Which columns are needed for the modelling?"
   ]
  },
  {
   "cell_type": "code",
   "execution_count": 185,
   "id": "3be04000",
   "metadata": {},
   "outputs": [
    {
     "data": {
      "text/plain": [
       "['PULocationID',\n",
       " 'transactionDate',\n",
       " 'transactionMonth',\n",
       " 'transactionDay',\n",
       " 'transactionHour',\n",
       " 'total_amount',\n",
       " 'trip_distance']"
      ]
     },
     "execution_count": 185,
     "metadata": {},
     "output_type": "execute_result"
    }
   ],
   "source": [
    "categorical_columns = ['PULocationID', 'transactionDate', 'transactionMonth', 'transactionDay', 'transactionHour']\n",
    "numerical_columns = ['total_amount', 'trip_distance']\n",
    "\n",
    "columns_needed = categorical_columns + numerical_columns\n",
    "columns_needed"
   ]
  },
  {
   "cell_type": "markdown",
   "id": "a8e8efe4",
   "metadata": {},
   "source": [
    "Including only the columns that are needed for modelling: \n",
    "\n",
    "(Note that the columns I am excluding below were kept by thinking that they might be helpful during data exploration, cleaning, and preparation.)"
   ]
  },
  {
   "cell_type": "code",
   "execution_count": 186,
   "id": "c34d5880",
   "metadata": {},
   "outputs": [
    {
     "data": {
      "text/html": [
       "<div>\n",
       "<style scoped>\n",
       "    .dataframe tbody tr th:only-of-type {\n",
       "        vertical-align: middle;\n",
       "    }\n",
       "\n",
       "    .dataframe tbody tr th {\n",
       "        vertical-align: top;\n",
       "    }\n",
       "\n",
       "    .dataframe thead th {\n",
       "        text-align: right;\n",
       "    }\n",
       "</style>\n",
       "<table border=\"1\" class=\"dataframe\">\n",
       "  <thead>\n",
       "    <tr style=\"text-align: right;\">\n",
       "      <th></th>\n",
       "      <th>PULocationID</th>\n",
       "      <th>transactionDate</th>\n",
       "      <th>transactionMonth</th>\n",
       "      <th>transactionDay</th>\n",
       "      <th>transactionHour</th>\n",
       "      <th>total_amount</th>\n",
       "      <th>trip_distance</th>\n",
       "    </tr>\n",
       "  </thead>\n",
       "  <tbody>\n",
       "    <tr>\n",
       "      <th>0</th>\n",
       "      <td>151</td>\n",
       "      <td>2019-01-01</td>\n",
       "      <td>1</td>\n",
       "      <td>1</td>\n",
       "      <td>0</td>\n",
       "      <td>9.95</td>\n",
       "      <td>1.5</td>\n",
       "    </tr>\n",
       "    <tr>\n",
       "      <th>1</th>\n",
       "      <td>239</td>\n",
       "      <td>2019-01-01</td>\n",
       "      <td>1</td>\n",
       "      <td>1</td>\n",
       "      <td>0</td>\n",
       "      <td>16.30</td>\n",
       "      <td>2.6</td>\n",
       "    </tr>\n",
       "    <tr>\n",
       "      <th>7</th>\n",
       "      <td>163</td>\n",
       "      <td>2019-01-01</td>\n",
       "      <td>1</td>\n",
       "      <td>1</td>\n",
       "      <td>0</td>\n",
       "      <td>9.05</td>\n",
       "      <td>1.3</td>\n",
       "    </tr>\n",
       "    <tr>\n",
       "      <th>8</th>\n",
       "      <td>229</td>\n",
       "      <td>2019-01-01</td>\n",
       "      <td>1</td>\n",
       "      <td>1</td>\n",
       "      <td>0</td>\n",
       "      <td>18.50</td>\n",
       "      <td>3.7</td>\n",
       "    </tr>\n",
       "    <tr>\n",
       "      <th>9</th>\n",
       "      <td>141</td>\n",
       "      <td>2019-01-01</td>\n",
       "      <td>1</td>\n",
       "      <td>1</td>\n",
       "      <td>0</td>\n",
       "      <td>13.00</td>\n",
       "      <td>2.1</td>\n",
       "    </tr>\n",
       "  </tbody>\n",
       "</table>\n",
       "</div>"
      ],
      "text/plain": [
       "  PULocationID transactionDate  transactionMonth  transactionDay  \\\n",
       "0          151      2019-01-01                 1               1   \n",
       "1          239      2019-01-01                 1               1   \n",
       "7          163      2019-01-01                 1               1   \n",
       "8          229      2019-01-01                 1               1   \n",
       "9          141      2019-01-01                 1               1   \n",
       "\n",
       "   transactionHour  total_amount  trip_distance  \n",
       "0                0          9.95            1.5  \n",
       "1                0         16.30            2.6  \n",
       "7                0          9.05            1.3  \n",
       "8                0         18.50            3.7  \n",
       "9                0         13.00            2.1  "
      ]
     },
     "execution_count": 186,
     "metadata": {},
     "output_type": "execute_result"
    }
   ],
   "source": [
    "main_taxi_data = taxi_data_prepared[columns_needed]\n",
    "main_taxi_data.head()"
   ]
  },
  {
   "cell_type": "markdown",
   "id": "5067f628",
   "metadata": {},
   "source": [
    "Since we are interested in the average income a taxi driver made in a specific region per hour, we should aggregate the data points considering total amount of money the driver made in a specific location, on a specific day, and at a specific hour:"
   ]
  },
  {
   "cell_type": "code",
   "execution_count": 187,
   "id": "d81292b0",
   "metadata": {},
   "outputs": [
    {
     "data": {
      "text/html": [
       "<div>\n",
       "<style scoped>\n",
       "    .dataframe tbody tr th:only-of-type {\n",
       "        vertical-align: middle;\n",
       "    }\n",
       "\n",
       "    .dataframe tbody tr th {\n",
       "        vertical-align: top;\n",
       "    }\n",
       "\n",
       "    .dataframe thead th {\n",
       "        text-align: right;\n",
       "    }\n",
       "</style>\n",
       "<table border=\"1\" class=\"dataframe\">\n",
       "  <thead>\n",
       "    <tr style=\"text-align: right;\">\n",
       "      <th></th>\n",
       "      <th>PULocationID</th>\n",
       "      <th>transactionDate</th>\n",
       "      <th>transactionMonth</th>\n",
       "      <th>transactionDay</th>\n",
       "      <th>transactionHour</th>\n",
       "      <th>total_amount</th>\n",
       "      <th>trip_distance</th>\n",
       "    </tr>\n",
       "  </thead>\n",
       "  <tbody>\n",
       "    <tr>\n",
       "      <th>0</th>\n",
       "      <td>1</td>\n",
       "      <td>2019-01-01</td>\n",
       "      <td>1</td>\n",
       "      <td>1</td>\n",
       "      <td>2</td>\n",
       "      <td>21.800</td>\n",
       "      <td>0.0</td>\n",
       "    </tr>\n",
       "    <tr>\n",
       "      <th>1</th>\n",
       "      <td>1</td>\n",
       "      <td>2019-01-01</td>\n",
       "      <td>1</td>\n",
       "      <td>1</td>\n",
       "      <td>5</td>\n",
       "      <td>87.300</td>\n",
       "      <td>0.0</td>\n",
       "    </tr>\n",
       "    <tr>\n",
       "      <th>2</th>\n",
       "      <td>1</td>\n",
       "      <td>2019-01-01</td>\n",
       "      <td>1</td>\n",
       "      <td>1</td>\n",
       "      <td>6</td>\n",
       "      <td>80.300</td>\n",
       "      <td>0.0</td>\n",
       "    </tr>\n",
       "    <tr>\n",
       "      <th>3</th>\n",
       "      <td>1</td>\n",
       "      <td>2019-01-01</td>\n",
       "      <td>1</td>\n",
       "      <td>1</td>\n",
       "      <td>8</td>\n",
       "      <td>128.580</td>\n",
       "      <td>0.0</td>\n",
       "    </tr>\n",
       "    <tr>\n",
       "      <th>4</th>\n",
       "      <td>1</td>\n",
       "      <td>2019-01-01</td>\n",
       "      <td>1</td>\n",
       "      <td>1</td>\n",
       "      <td>10</td>\n",
       "      <td>43.245</td>\n",
       "      <td>16.9</td>\n",
       "    </tr>\n",
       "  </tbody>\n",
       "</table>\n",
       "</div>"
      ],
      "text/plain": [
       "  PULocationID transactionDate  transactionMonth  transactionDay  \\\n",
       "0            1      2019-01-01                 1               1   \n",
       "1            1      2019-01-01                 1               1   \n",
       "2            1      2019-01-01                 1               1   \n",
       "3            1      2019-01-01                 1               1   \n",
       "4            1      2019-01-01                 1               1   \n",
       "\n",
       "   transactionHour  total_amount  trip_distance  \n",
       "0                2        21.800            0.0  \n",
       "1                5        87.300            0.0  \n",
       "2                6        80.300            0.0  \n",
       "3                8       128.580            0.0  \n",
       "4               10        43.245           16.9  "
      ]
     },
     "execution_count": 187,
     "metadata": {},
     "output_type": "execute_result"
    }
   ],
   "source": [
    "taxi_groupedby_region = main_taxi_data.groupby(categorical_columns).mean().reset_index()\n",
    "taxi_groupedby_region.head()"
   ]
  },
  {
   "cell_type": "code",
   "execution_count": 188,
   "id": "8ae52dae",
   "metadata": {},
   "outputs": [],
   "source": [
    "#taxi_groupedby_region['transactionHour'].value_counts() #hour-check whether all are unique. YES!"
   ]
  },
  {
   "cell_type": "code",
   "execution_count": 189,
   "id": "166a1396",
   "metadata": {},
   "outputs": [],
   "source": [
    "taxi_groupedby_region['transaction_amount'] = main_taxi_data.groupby(categorical_columns).count().reset_index()['total_amount']"
   ]
  },
  {
   "cell_type": "code",
   "execution_count": 190,
   "id": "b4aa69de",
   "metadata": {},
   "outputs": [
    {
     "data": {
      "text/html": [
       "<div>\n",
       "<style scoped>\n",
       "    .dataframe tbody tr th:only-of-type {\n",
       "        vertical-align: middle;\n",
       "    }\n",
       "\n",
       "    .dataframe tbody tr th {\n",
       "        vertical-align: top;\n",
       "    }\n",
       "\n",
       "    .dataframe thead th {\n",
       "        text-align: right;\n",
       "    }\n",
       "</style>\n",
       "<table border=\"1\" class=\"dataframe\">\n",
       "  <thead>\n",
       "    <tr style=\"text-align: right;\">\n",
       "      <th></th>\n",
       "      <th>PULocationID</th>\n",
       "      <th>transactionDate</th>\n",
       "      <th>transactionMonth</th>\n",
       "      <th>transactionDay</th>\n",
       "      <th>transactionHour</th>\n",
       "      <th>total_amount</th>\n",
       "      <th>trip_distance</th>\n",
       "      <th>transaction_amount</th>\n",
       "    </tr>\n",
       "  </thead>\n",
       "  <tbody>\n",
       "    <tr>\n",
       "      <th>0</th>\n",
       "      <td>1</td>\n",
       "      <td>2019-01-01</td>\n",
       "      <td>1</td>\n",
       "      <td>1</td>\n",
       "      <td>2</td>\n",
       "      <td>21.800</td>\n",
       "      <td>0.0</td>\n",
       "      <td>1</td>\n",
       "    </tr>\n",
       "    <tr>\n",
       "      <th>1</th>\n",
       "      <td>1</td>\n",
       "      <td>2019-01-01</td>\n",
       "      <td>1</td>\n",
       "      <td>1</td>\n",
       "      <td>5</td>\n",
       "      <td>87.300</td>\n",
       "      <td>0.0</td>\n",
       "      <td>1</td>\n",
       "    </tr>\n",
       "    <tr>\n",
       "      <th>2</th>\n",
       "      <td>1</td>\n",
       "      <td>2019-01-01</td>\n",
       "      <td>1</td>\n",
       "      <td>1</td>\n",
       "      <td>6</td>\n",
       "      <td>80.300</td>\n",
       "      <td>0.0</td>\n",
       "      <td>1</td>\n",
       "    </tr>\n",
       "    <tr>\n",
       "      <th>3</th>\n",
       "      <td>1</td>\n",
       "      <td>2019-01-01</td>\n",
       "      <td>1</td>\n",
       "      <td>1</td>\n",
       "      <td>8</td>\n",
       "      <td>128.580</td>\n",
       "      <td>0.0</td>\n",
       "      <td>2</td>\n",
       "    </tr>\n",
       "    <tr>\n",
       "      <th>4</th>\n",
       "      <td>1</td>\n",
       "      <td>2019-01-01</td>\n",
       "      <td>1</td>\n",
       "      <td>1</td>\n",
       "      <td>10</td>\n",
       "      <td>43.245</td>\n",
       "      <td>16.9</td>\n",
       "      <td>4</td>\n",
       "    </tr>\n",
       "  </tbody>\n",
       "</table>\n",
       "</div>"
      ],
      "text/plain": [
       "  PULocationID transactionDate  transactionMonth  transactionDay  \\\n",
       "0            1      2019-01-01                 1               1   \n",
       "1            1      2019-01-01                 1               1   \n",
       "2            1      2019-01-01                 1               1   \n",
       "3            1      2019-01-01                 1               1   \n",
       "4            1      2019-01-01                 1               1   \n",
       "\n",
       "   transactionHour  total_amount  trip_distance  transaction_amount  \n",
       "0                2        21.800            0.0                   1  \n",
       "1                5        87.300            0.0                   1  \n",
       "2                6        80.300            0.0                   1  \n",
       "3                8       128.580            0.0                   2  \n",
       "4               10        43.245           16.9                   4  "
      ]
     },
     "execution_count": 190,
     "metadata": {},
     "output_type": "execute_result"
    }
   ],
   "source": [
    "taxi_groupedby_region.head()"
   ]
  },
  {
   "cell_type": "markdown",
   "id": "3296d9e6",
   "metadata": {},
   "source": [
    "A quick check for 2019-01-01 10 AM:"
   ]
  },
  {
   "cell_type": "code",
   "execution_count": 191,
   "id": "7faa59cb",
   "metadata": {},
   "outputs": [
    {
     "data": {
      "text/html": [
       "<div>\n",
       "<style scoped>\n",
       "    .dataframe tbody tr th:only-of-type {\n",
       "        vertical-align: middle;\n",
       "    }\n",
       "\n",
       "    .dataframe tbody tr th {\n",
       "        vertical-align: top;\n",
       "    }\n",
       "\n",
       "    .dataframe thead th {\n",
       "        text-align: right;\n",
       "    }\n",
       "</style>\n",
       "<table border=\"1\" class=\"dataframe\">\n",
       "  <thead>\n",
       "    <tr style=\"text-align: right;\">\n",
       "      <th></th>\n",
       "      <th>PULocationID</th>\n",
       "      <th>transactionDate</th>\n",
       "      <th>transactionMonth</th>\n",
       "      <th>transactionDay</th>\n",
       "      <th>transactionHour</th>\n",
       "      <th>total_amount</th>\n",
       "      <th>trip_distance</th>\n",
       "    </tr>\n",
       "  </thead>\n",
       "  <tbody>\n",
       "    <tr>\n",
       "      <th>79279</th>\n",
       "      <td>1</td>\n",
       "      <td>2019-01-01</td>\n",
       "      <td>1</td>\n",
       "      <td>1</td>\n",
       "      <td>10</td>\n",
       "      <td>3.30</td>\n",
       "      <td>16.9</td>\n",
       "    </tr>\n",
       "    <tr>\n",
       "      <th>79280</th>\n",
       "      <td>1</td>\n",
       "      <td>2019-01-01</td>\n",
       "      <td>1</td>\n",
       "      <td>1</td>\n",
       "      <td>10</td>\n",
       "      <td>16.56</td>\n",
       "      <td>16.9</td>\n",
       "    </tr>\n",
       "    <tr>\n",
       "      <th>79281</th>\n",
       "      <td>1</td>\n",
       "      <td>2019-01-01</td>\n",
       "      <td>1</td>\n",
       "      <td>1</td>\n",
       "      <td>10</td>\n",
       "      <td>16.56</td>\n",
       "      <td>16.9</td>\n",
       "    </tr>\n",
       "    <tr>\n",
       "      <th>79282</th>\n",
       "      <td>1</td>\n",
       "      <td>2019-01-01</td>\n",
       "      <td>1</td>\n",
       "      <td>1</td>\n",
       "      <td>10</td>\n",
       "      <td>136.56</td>\n",
       "      <td>16.9</td>\n",
       "    </tr>\n",
       "  </tbody>\n",
       "</table>\n",
       "</div>"
      ],
      "text/plain": [
       "      PULocationID transactionDate  transactionMonth  transactionDay  \\\n",
       "79279            1      2019-01-01                 1               1   \n",
       "79280            1      2019-01-01                 1               1   \n",
       "79281            1      2019-01-01                 1               1   \n",
       "79282            1      2019-01-01                 1               1   \n",
       "\n",
       "       transactionHour  total_amount  trip_distance  \n",
       "79279               10          3.30           16.9  \n",
       "79280               10         16.56           16.9  \n",
       "79281               10         16.56           16.9  \n",
       "79282               10        136.56           16.9  "
      ]
     },
     "execution_count": 191,
     "metadata": {},
     "output_type": "execute_result"
    }
   ],
   "source": [
    "main_taxi_data[(main_taxi_data['transactionHour']==10) & (main_taxi_data['PULocationID']=='1') & (main_taxi_data['transactionDay']==1)]"
   ]
  },
  {
   "cell_type": "code",
   "execution_count": 192,
   "id": "08955009",
   "metadata": {},
   "outputs": [
    {
     "data": {
      "text/plain": [
       "array([[<AxesSubplot:title={'center':'transactionMonth'}>,\n",
       "        <AxesSubplot:title={'center':'transactionDay'}>],\n",
       "       [<AxesSubplot:title={'center':'transactionHour'}>,\n",
       "        <AxesSubplot:title={'center':'total_amount'}>],\n",
       "       [<AxesSubplot:title={'center':'trip_distance'}>,\n",
       "        <AxesSubplot:title={'center':'transaction_amount'}>]],\n",
       "      dtype=object)"
      ]
     },
     "execution_count": 192,
     "metadata": {},
     "output_type": "execute_result"
    },
    {
     "data": {
      "image/png": "[encoded data removed]",
      "text/plain": [
       "<Figure size 1440x720 with 6 Axes>"
      ]
     },
     "metadata": {
      "needs_background": "light"
     },
     "output_type": "display_data"
    }
   ],
   "source": [
    "taxi_groupedby_region.hist(figsize=(20, 10), bins=100)"
   ]
  },
  {
   "cell_type": "markdown",
   "id": "50b825c3",
   "metadata": {},
   "source": [
    "# 5. Benchmark Model <a id='benchmark_model'></a>\n",
    "[Back to top](#table_of_contents)"
   ]
  },
  {
   "cell_type": "markdown",
   "id": "59622060",
   "metadata": {},
   "source": [
    "- Which columns will be used as input feature?\n",
    "- Which column(s) will be used as the target feature?\n",
    "- Which columns will be used in the prediction?\n",
    "    * See which columns contribute to the prediction.\n",
    "    \n",
    "Columns: PULocationID, transactionDate, transactionMonth, transactionDay, transactionHour, total_amount, trip_distance, transaction_amount\n",
    "\n",
    "Target feature: total_amount (dollars per hour/date/region)\n",
    "Input feature: transactionMonth, transactionDay, transactionHour, PULocationID\n",
    "\n",
    "transactionDate --> this info is already included within transactionMonth, transactionDay, and transactionHour\n",
    "\n",
    "transaction_amount --> refers to the number of transaction used while calculating total_amount per hour/date. Wouldn't contribute much to the prediction.\n",
    "\n",
    "trip_distance --> may cause LEAKAGE because it is highly correlated with the target feature and knowing the distance that a driver in advance is not possible. Therefore, that column won't be used in the model training.\n",
    "\n",
    "* Day and hour are circular features. They are included in categorical features for now while considering that each hour is distinct and there is no relationship between hours and days. Also, note that the dataset is only for January so for this project column of month will not be critical for the model. However, transactionMonth will be included for the future implementations.\n"
   ]
  },
  {
   "cell_type": "code",
   "execution_count": 193,
   "id": "c2383b5d",
   "metadata": {},
   "outputs": [],
   "source": [
    "data_benchmark_model = taxi_groupedby_region.copy()"
   ]
  },
  {
   "cell_type": "code",
   "execution_count": 194,
   "id": "16cba11c",
   "metadata": {},
   "outputs": [],
   "source": [
    "target_feature_bm = 'total_amount'\n",
    "categorical_features_bm = ['transactionMonth', 'transactionDay','transactionHour', 'PULocationID']\n",
    "input_features_bm = categorical_features_bm"
   ]
  },
  {
   "cell_type": "markdown",
   "id": "17386350",
   "metadata": {},
   "source": [
    "# 5.1 Training Set Splitting <a id='training_set_split'></a>\n",
    "[Back to top](#table_of_contents)"
   ]
  },
  {
   "cell_type": "code",
   "execution_count": 195,
   "id": "fab7525a",
   "metadata": {},
   "outputs": [],
   "source": [
    "from sklearn.model_selection import train_test_split"
   ]
  },
  {
   "cell_type": "code",
   "execution_count": 196,
   "id": "1f40fa38",
   "metadata": {},
   "outputs": [
    {
     "data": {
      "text/plain": [
       "PULocationID           object\n",
       "transactionDate        object\n",
       "transactionMonth        int64\n",
       "transactionDay          int64\n",
       "transactionHour         int64\n",
       "total_amount          float64\n",
       "trip_distance         float64\n",
       "transaction_amount      int64\n",
       "dtype: object"
      ]
     },
     "execution_count": 196,
     "metadata": {},
     "output_type": "execute_result"
    }
   ],
   "source": [
    "data_benchmark_model.dtypes"
   ]
  },
  {
   "cell_type": "code",
   "execution_count": 197,
   "id": "39cc4c39",
   "metadata": {},
   "outputs": [
    {
     "data": {
      "text/html": [
       "<div>\n",
       "<style scoped>\n",
       "    .dataframe tbody tr th:only-of-type {\n",
       "        vertical-align: middle;\n",
       "    }\n",
       "\n",
       "    .dataframe tbody tr th {\n",
       "        vertical-align: top;\n",
       "    }\n",
       "\n",
       "    .dataframe thead th {\n",
       "        text-align: right;\n",
       "    }\n",
       "</style>\n",
       "<table border=\"1\" class=\"dataframe\">\n",
       "  <thead>\n",
       "    <tr style=\"text-align: right;\">\n",
       "      <th></th>\n",
       "      <th>transactionMonth</th>\n",
       "      <th>transactionDay</th>\n",
       "      <th>transactionHour</th>\n",
       "      <th>PULocationID</th>\n",
       "    </tr>\n",
       "  </thead>\n",
       "  <tbody>\n",
       "    <tr>\n",
       "      <th>0</th>\n",
       "      <td>1</td>\n",
       "      <td>1</td>\n",
       "      <td>2</td>\n",
       "      <td>1</td>\n",
       "    </tr>\n",
       "    <tr>\n",
       "      <th>1</th>\n",
       "      <td>1</td>\n",
       "      <td>1</td>\n",
       "      <td>5</td>\n",
       "      <td>1</td>\n",
       "    </tr>\n",
       "    <tr>\n",
       "      <th>2</th>\n",
       "      <td>1</td>\n",
       "      <td>1</td>\n",
       "      <td>6</td>\n",
       "      <td>1</td>\n",
       "    </tr>\n",
       "    <tr>\n",
       "      <th>3</th>\n",
       "      <td>1</td>\n",
       "      <td>1</td>\n",
       "      <td>8</td>\n",
       "      <td>1</td>\n",
       "    </tr>\n",
       "    <tr>\n",
       "      <th>4</th>\n",
       "      <td>1</td>\n",
       "      <td>1</td>\n",
       "      <td>10</td>\n",
       "      <td>1</td>\n",
       "    </tr>\n",
       "    <tr>\n",
       "      <th>...</th>\n",
       "      <td>...</td>\n",
       "      <td>...</td>\n",
       "      <td>...</td>\n",
       "      <td>...</td>\n",
       "    </tr>\n",
       "    <tr>\n",
       "      <th>102516</th>\n",
       "      <td>1</td>\n",
       "      <td>31</td>\n",
       "      <td>18</td>\n",
       "      <td>98</td>\n",
       "    </tr>\n",
       "    <tr>\n",
       "      <th>102517</th>\n",
       "      <td>1</td>\n",
       "      <td>18</td>\n",
       "      <td>18</td>\n",
       "      <td>99</td>\n",
       "    </tr>\n",
       "    <tr>\n",
       "      <th>102518</th>\n",
       "      <td>1</td>\n",
       "      <td>26</td>\n",
       "      <td>8</td>\n",
       "      <td>99</td>\n",
       "    </tr>\n",
       "    <tr>\n",
       "      <th>102519</th>\n",
       "      <td>1</td>\n",
       "      <td>30</td>\n",
       "      <td>7</td>\n",
       "      <td>99</td>\n",
       "    </tr>\n",
       "    <tr>\n",
       "      <th>102520</th>\n",
       "      <td>1</td>\n",
       "      <td>30</td>\n",
       "      <td>11</td>\n",
       "      <td>99</td>\n",
       "    </tr>\n",
       "  </tbody>\n",
       "</table>\n",
       "<p>102521 rows × 4 columns</p>\n",
       "</div>"
      ],
      "text/plain": [
       "        transactionMonth  transactionDay  transactionHour PULocationID\n",
       "0                      1               1                2            1\n",
       "1                      1               1                5            1\n",
       "2                      1               1                6            1\n",
       "3                      1               1                8            1\n",
       "4                      1               1               10            1\n",
       "...                  ...             ...              ...          ...\n",
       "102516                 1              31               18           98\n",
       "102517                 1              18               18           99\n",
       "102518                 1              26                8           99\n",
       "102519                 1              30                7           99\n",
       "102520                 1              30               11           99\n",
       "\n",
       "[102521 rows x 4 columns]"
      ]
     },
     "execution_count": 197,
     "metadata": {},
     "output_type": "execute_result"
    }
   ],
   "source": [
    "x_benchmark = data_benchmark_model[input_features_bm]\n",
    "y_benchmark = data_benchmark_model[target_feature_bm]\n",
    "\n",
    "x_benchmark"
   ]
  },
  {
   "cell_type": "code",
   "execution_count": 198,
   "id": "229614d9",
   "metadata": {},
   "outputs": [],
   "source": [
    "#one-hot encoding for the categorical features that are strings (booelan columns)\n",
    "x_benchmark = pd.get_dummies(x_benchmark)\n",
    "\n",
    "x_train_bm, x_test_bm, y_train_bm, y_test_bm = train_test_split(x_benchmark, y_benchmark, test_size = 0.33, random_state = 42)\n"
   ]
  },
  {
   "cell_type": "code",
   "execution_count": 199,
   "id": "1b22fe37",
   "metadata": {},
   "outputs": [
    {
     "data": {
      "text/plain": [
       "(102521, 266)"
      ]
     },
     "execution_count": 199,
     "metadata": {},
     "output_type": "execute_result"
    }
   ],
   "source": [
    "x_benchmark.shape"
   ]
  },
  {
   "cell_type": "markdown",
   "id": "b54a38a9",
   "metadata": {},
   "source": [
    "# 5.2 Fitting a Model <a id='fitting_model'></a>\n",
    "[Back to top](#table_of_contents)"
   ]
  },
  {
   "cell_type": "markdown",
   "id": "2c40513d",
   "metadata": {},
   "source": [
    "How do we decide the method? Why did we use Decision Tree for the model here? \n",
    "\n",
    "--> Depending on the problem and trial&error. \n",
    "\n",
    "--> Supervised/Unsupervised and Classification/Regression."
   ]
  },
  {
   "cell_type": "code",
   "execution_count": 200,
   "id": "86b63fb7",
   "metadata": {},
   "outputs": [],
   "source": [
    "from sklearn.tree import DecisionTreeRegressor"
   ]
  },
  {
   "cell_type": "code",
   "execution_count": 201,
   "id": "22dfff07",
   "metadata": {},
   "outputs": [
    {
     "data": {
      "text/plain": [
       "DecisionTreeRegressor(max_depth=10)"
      ]
     },
     "execution_count": 201,
     "metadata": {},
     "output_type": "execute_result"
    }
   ],
   "source": [
    "tree = DecisionTreeRegressor(max_depth = 10) #tuning hyperparameters and finding the optimal values will be done later.\n",
    "tree.fit(x_train_bm, y_train_bm)"
   ]
  },
  {
   "cell_type": "markdown",
   "id": "0e337953",
   "metadata": {},
   "source": [
    "# 5.3 Evaluation of the Model <a id='mode_evaluation'></a>\n",
    "[Back to top](#table_of_contents)\n",
    "\n",
    "How good is the model?"
   ]
  },
  {
   "cell_type": "code",
   "execution_count": 202,
   "id": "a8ac2a1b",
   "metadata": {},
   "outputs": [],
   "source": [
    "from sklearn.metrics import mean_absolute_error\n",
    "from sklearn.metrics import mean_squared_error\n",
    "from sklearn.metrics import r2_score\n",
    "from math import sqrt"
   ]
  },
  {
   "cell_type": "code",
   "execution_count": 203,
   "id": "0ffb3871",
   "metadata": {},
   "outputs": [],
   "source": [
    "model_bm = tree\n",
    "y_pred_bm = model_bm.predict(x_test_bm)"
   ]
  },
  {
   "cell_type": "code",
   "execution_count": 204,
   "id": "6b929f86",
   "metadata": {},
   "outputs": [
    {
     "name": "stdout",
     "output_type": "stream",
     "text": [
      "mean_absolute_error =  9.757872039086783\n",
      "mean_squared_error =  216.18014986354686\n",
      "root_mean_squared_error =  14.703066002148901\n",
      "r2 =  0.21551953050308925\n"
     ]
    }
   ],
   "source": [
    "# evaluation metrics          \n",
    "\n",
    "print('mean_absolute_error = ',  mean_absolute_error(y_test_bm, y_pred_bm ) )\n",
    "print('mean_squared_error = ', mean_squared_error(y_test_bm, y_pred_bm))\n",
    "print('root_mean_squared_error = ', sqrt(mean_squared_error(y_test_bm, y_pred_bm)))\n",
    "print('r2 = ', r2_score(y_test_bm, y_pred_bm))"
   ]
  },
  {
   "cell_type": "code",
   "execution_count": 205,
   "id": "8ed3d61e",
   "metadata": {},
   "outputs": [
    {
     "data": {
      "text/plain": [
       "<AxesSubplot:xlabel='real', ylabel='predicted'>"
      ]
     },
     "execution_count": 205,
     "metadata": {},
     "output_type": "execute_result"
    },
    {
     "data": {
      "image/png": "[encoded data removed]",
      "text/plain": [
       "<Figure size 576x576 with 1 Axes>"
      ]
     },
     "metadata": {
      "needs_background": "light"
     },
     "output_type": "display_data"
    }
   ],
   "source": [
    "data = {'real': y_test_bm, 'predicted': y_pred_bm}\n",
    "results = pd.DataFrame(data)\n",
    "\n",
    "results.plot(figsize=(8, 8), kind='scatter', x='real', y='predicted')"
   ]
  },
  {
   "cell_type": "markdown",
   "id": "28b662c7",
   "metadata": {},
   "source": [
    "# 6. Feature Engineering <a id='feature_engineering'></a>\n",
    "[Back to top](#table_of_contents)\n"
   ]
  },
  {
   "cell_type": "code",
   "execution_count": 206,
   "id": "657f0c85",
   "metadata": {},
   "outputs": [],
   "source": [
    "taxi_data_new_features = taxi_groupedby_region.copy()"
   ]
  },
  {
   "cell_type": "code",
   "execution_count": 207,
   "id": "480c3bd6",
   "metadata": {},
   "outputs": [],
   "source": [
    "#delta = taxi_data_prepared['tpep_dropoff_datetime'] - taxi_data_prepared['tpep_pickup_datetime']\n",
    "#delta\n",
    "#taxi_data_prepared['tpep_duration'] = delta.dt.seconds/60"
   ]
  },
  {
   "cell_type": "code",
   "execution_count": 208,
   "id": "fd4f4945",
   "metadata": {},
   "outputs": [
    {
     "data": {
      "text/html": [
       "<div>\n",
       "<style scoped>\n",
       "    .dataframe tbody tr th:only-of-type {\n",
       "        vertical-align: middle;\n",
       "    }\n",
       "\n",
       "    .dataframe tbody tr th {\n",
       "        vertical-align: top;\n",
       "    }\n",
       "\n",
       "    .dataframe thead th {\n",
       "        text-align: right;\n",
       "    }\n",
       "</style>\n",
       "<table border=\"1\" class=\"dataframe\">\n",
       "  <thead>\n",
       "    <tr style=\"text-align: right;\">\n",
       "      <th></th>\n",
       "      <th>PULocationID</th>\n",
       "      <th>transactionDate</th>\n",
       "      <th>transactionMonth</th>\n",
       "      <th>transactionDay</th>\n",
       "      <th>transactionHour</th>\n",
       "      <th>total_amount</th>\n",
       "      <th>trip_distance</th>\n",
       "      <th>transaction_amount</th>\n",
       "    </tr>\n",
       "  </thead>\n",
       "  <tbody>\n",
       "    <tr>\n",
       "      <th>0</th>\n",
       "      <td>1</td>\n",
       "      <td>2019-01-01</td>\n",
       "      <td>1</td>\n",
       "      <td>1</td>\n",
       "      <td>2</td>\n",
       "      <td>21.800</td>\n",
       "      <td>0.0</td>\n",
       "      <td>1</td>\n",
       "    </tr>\n",
       "    <tr>\n",
       "      <th>1</th>\n",
       "      <td>1</td>\n",
       "      <td>2019-01-01</td>\n",
       "      <td>1</td>\n",
       "      <td>1</td>\n",
       "      <td>5</td>\n",
       "      <td>87.300</td>\n",
       "      <td>0.0</td>\n",
       "      <td>1</td>\n",
       "    </tr>\n",
       "    <tr>\n",
       "      <th>2</th>\n",
       "      <td>1</td>\n",
       "      <td>2019-01-01</td>\n",
       "      <td>1</td>\n",
       "      <td>1</td>\n",
       "      <td>6</td>\n",
       "      <td>80.300</td>\n",
       "      <td>0.0</td>\n",
       "      <td>1</td>\n",
       "    </tr>\n",
       "    <tr>\n",
       "      <th>3</th>\n",
       "      <td>1</td>\n",
       "      <td>2019-01-01</td>\n",
       "      <td>1</td>\n",
       "      <td>1</td>\n",
       "      <td>8</td>\n",
       "      <td>128.580</td>\n",
       "      <td>0.0</td>\n",
       "      <td>2</td>\n",
       "    </tr>\n",
       "    <tr>\n",
       "      <th>4</th>\n",
       "      <td>1</td>\n",
       "      <td>2019-01-01</td>\n",
       "      <td>1</td>\n",
       "      <td>1</td>\n",
       "      <td>10</td>\n",
       "      <td>43.245</td>\n",
       "      <td>16.9</td>\n",
       "      <td>4</td>\n",
       "    </tr>\n",
       "  </tbody>\n",
       "</table>\n",
       "</div>"
      ],
      "text/plain": [
       "  PULocationID transactionDate  transactionMonth  transactionDay  \\\n",
       "0            1      2019-01-01                 1               1   \n",
       "1            1      2019-01-01                 1               1   \n",
       "2            1      2019-01-01                 1               1   \n",
       "3            1      2019-01-01                 1               1   \n",
       "4            1      2019-01-01                 1               1   \n",
       "\n",
       "   transactionHour  total_amount  trip_distance  transaction_amount  \n",
       "0                2        21.800            0.0                   1  \n",
       "1                5        87.300            0.0                   1  \n",
       "2                6        80.300            0.0                   1  \n",
       "3                8       128.580            0.0                   2  \n",
       "4               10        43.245           16.9                   4  "
      ]
     },
     "execution_count": 208,
     "metadata": {},
     "output_type": "execute_result"
    }
   ],
   "source": [
    "#delta.dtypes\n",
    "taxi_data_new_features.head()"
   ]
  },
  {
   "cell_type": "markdown",
   "id": "7b78c75d",
   "metadata": {},
   "source": [
    "* <h2> Data-related features </h2>\n",
    "1) We can find the transaction days --> which days are more significant, holidays etc. from the date."
   ]
  },
  {
   "cell_type": "code",
   "execution_count": 209,
   "id": "1bf598b5",
   "metadata": {},
   "outputs": [],
   "source": [
    "taxi_data_new_features['transaction_week_day'] = pd.to_datetime(taxi_data_new_features['transactionDate']).dt.weekday\n",
    "taxi_data_new_features['weekend'] = taxi_data_new_features['transaction_week_day'].apply(lambda x: True if x==5 or x==6 else False)\n",
    "\n"
   ]
  },
  {
   "cell_type": "code",
   "execution_count": 210,
   "id": "67608384",
   "metadata": {},
   "outputs": [
    {
     "data": {
      "text/html": [
       "<div>\n",
       "<style scoped>\n",
       "    .dataframe tbody tr th:only-of-type {\n",
       "        vertical-align: middle;\n",
       "    }\n",
       "\n",
       "    .dataframe tbody tr th {\n",
       "        vertical-align: top;\n",
       "    }\n",
       "\n",
       "    .dataframe thead th {\n",
       "        text-align: right;\n",
       "    }\n",
       "</style>\n",
       "<table border=\"1\" class=\"dataframe\">\n",
       "  <thead>\n",
       "    <tr style=\"text-align: right;\">\n",
       "      <th></th>\n",
       "      <th>PULocationID</th>\n",
       "      <th>transactionDate</th>\n",
       "      <th>transactionMonth</th>\n",
       "      <th>transactionDay</th>\n",
       "      <th>transactionHour</th>\n",
       "      <th>total_amount</th>\n",
       "      <th>trip_distance</th>\n",
       "      <th>transaction_amount</th>\n",
       "      <th>transaction_week_day</th>\n",
       "      <th>weekend</th>\n",
       "    </tr>\n",
       "  </thead>\n",
       "  <tbody>\n",
       "    <tr>\n",
       "      <th>0</th>\n",
       "      <td>1</td>\n",
       "      <td>2019-01-01</td>\n",
       "      <td>1</td>\n",
       "      <td>1</td>\n",
       "      <td>2</td>\n",
       "      <td>21.800</td>\n",
       "      <td>0.00</td>\n",
       "      <td>1</td>\n",
       "      <td>1</td>\n",
       "      <td>False</td>\n",
       "    </tr>\n",
       "    <tr>\n",
       "      <th>1</th>\n",
       "      <td>1</td>\n",
       "      <td>2019-01-01</td>\n",
       "      <td>1</td>\n",
       "      <td>1</td>\n",
       "      <td>5</td>\n",
       "      <td>87.300</td>\n",
       "      <td>0.00</td>\n",
       "      <td>1</td>\n",
       "      <td>1</td>\n",
       "      <td>False</td>\n",
       "    </tr>\n",
       "    <tr>\n",
       "      <th>2</th>\n",
       "      <td>1</td>\n",
       "      <td>2019-01-01</td>\n",
       "      <td>1</td>\n",
       "      <td>1</td>\n",
       "      <td>6</td>\n",
       "      <td>80.300</td>\n",
       "      <td>0.00</td>\n",
       "      <td>1</td>\n",
       "      <td>1</td>\n",
       "      <td>False</td>\n",
       "    </tr>\n",
       "    <tr>\n",
       "      <th>3</th>\n",
       "      <td>1</td>\n",
       "      <td>2019-01-01</td>\n",
       "      <td>1</td>\n",
       "      <td>1</td>\n",
       "      <td>8</td>\n",
       "      <td>128.580</td>\n",
       "      <td>0.00</td>\n",
       "      <td>2</td>\n",
       "      <td>1</td>\n",
       "      <td>False</td>\n",
       "    </tr>\n",
       "    <tr>\n",
       "      <th>4</th>\n",
       "      <td>1</td>\n",
       "      <td>2019-01-01</td>\n",
       "      <td>1</td>\n",
       "      <td>1</td>\n",
       "      <td>10</td>\n",
       "      <td>43.245</td>\n",
       "      <td>16.90</td>\n",
       "      <td>4</td>\n",
       "      <td>1</td>\n",
       "      <td>False</td>\n",
       "    </tr>\n",
       "    <tr>\n",
       "      <th>...</th>\n",
       "      <td>...</td>\n",
       "      <td>...</td>\n",
       "      <td>...</td>\n",
       "      <td>...</td>\n",
       "      <td>...</td>\n",
       "      <td>...</td>\n",
       "      <td>...</td>\n",
       "      <td>...</td>\n",
       "      <td>...</td>\n",
       "      <td>...</td>\n",
       "    </tr>\n",
       "    <tr>\n",
       "      <th>102516</th>\n",
       "      <td>98</td>\n",
       "      <td>2019-01-31</td>\n",
       "      <td>1</td>\n",
       "      <td>31</td>\n",
       "      <td>18</td>\n",
       "      <td>58.060</td>\n",
       "      <td>16.66</td>\n",
       "      <td>1</td>\n",
       "      <td>3</td>\n",
       "      <td>False</td>\n",
       "    </tr>\n",
       "    <tr>\n",
       "      <th>102517</th>\n",
       "      <td>99</td>\n",
       "      <td>2019-01-18</td>\n",
       "      <td>1</td>\n",
       "      <td>18</td>\n",
       "      <td>18</td>\n",
       "      <td>9.800</td>\n",
       "      <td>1.66</td>\n",
       "      <td>1</td>\n",
       "      <td>4</td>\n",
       "      <td>False</td>\n",
       "    </tr>\n",
       "    <tr>\n",
       "      <th>102518</th>\n",
       "      <td>99</td>\n",
       "      <td>2019-01-26</td>\n",
       "      <td>1</td>\n",
       "      <td>26</td>\n",
       "      <td>8</td>\n",
       "      <td>6.000</td>\n",
       "      <td>0.42</td>\n",
       "      <td>1</td>\n",
       "      <td>5</td>\n",
       "      <td>True</td>\n",
       "    </tr>\n",
       "    <tr>\n",
       "      <th>102519</th>\n",
       "      <td>99</td>\n",
       "      <td>2019-01-30</td>\n",
       "      <td>1</td>\n",
       "      <td>30</td>\n",
       "      <td>7</td>\n",
       "      <td>18.050</td>\n",
       "      <td>2.87</td>\n",
       "      <td>1</td>\n",
       "      <td>2</td>\n",
       "      <td>False</td>\n",
       "    </tr>\n",
       "    <tr>\n",
       "      <th>102520</th>\n",
       "      <td>99</td>\n",
       "      <td>2019-01-30</td>\n",
       "      <td>1</td>\n",
       "      <td>30</td>\n",
       "      <td>11</td>\n",
       "      <td>99.320</td>\n",
       "      <td>31.60</td>\n",
       "      <td>1</td>\n",
       "      <td>2</td>\n",
       "      <td>False</td>\n",
       "    </tr>\n",
       "  </tbody>\n",
       "</table>\n",
       "<p>102521 rows × 10 columns</p>\n",
       "</div>"
      ],
      "text/plain": [
       "       PULocationID transactionDate  transactionMonth  transactionDay  \\\n",
       "0                 1      2019-01-01                 1               1   \n",
       "1                 1      2019-01-01                 1               1   \n",
       "2                 1      2019-01-01                 1               1   \n",
       "3                 1      2019-01-01                 1               1   \n",
       "4                 1      2019-01-01                 1               1   \n",
       "...             ...             ...               ...             ...   \n",
       "102516           98      2019-01-31                 1              31   \n",
       "102517           99      2019-01-18                 1              18   \n",
       "102518           99      2019-01-26                 1              26   \n",
       "102519           99      2019-01-30                 1              30   \n",
       "102520           99      2019-01-30                 1              30   \n",
       "\n",
       "        transactionHour  total_amount  trip_distance  transaction_amount  \\\n",
       "0                     2        21.800           0.00                   1   \n",
       "1                     5        87.300           0.00                   1   \n",
       "2                     6        80.300           0.00                   1   \n",
       "3                     8       128.580           0.00                   2   \n",
       "4                    10        43.245          16.90                   4   \n",
       "...                 ...           ...            ...                 ...   \n",
       "102516               18        58.060          16.66                   1   \n",
       "102517               18         9.800           1.66                   1   \n",
       "102518                8         6.000           0.42                   1   \n",
       "102519                7        18.050           2.87                   1   \n",
       "102520               11        99.320          31.60                   1   \n",
       "\n",
       "        transaction_week_day  weekend  \n",
       "0                          1    False  \n",
       "1                          1    False  \n",
       "2                          1    False  \n",
       "3                          1    False  \n",
       "4                          1    False  \n",
       "...                      ...      ...  \n",
       "102516                     3    False  \n",
       "102517                     4    False  \n",
       "102518                     5     True  \n",
       "102519                     2    False  \n",
       "102520                     2    False  \n",
       "\n",
       "[102521 rows x 10 columns]"
      ]
     },
     "execution_count": 210,
     "metadata": {},
     "output_type": "execute_result"
    }
   ],
   "source": [
    "taxi_data_new_features"
   ]
  },
  {
   "cell_type": "code",
   "execution_count": 211,
   "id": "20eb475b",
   "metadata": {},
   "outputs": [],
   "source": [
    "#now about calendar holidays\n",
    "from pandas.tseries.holiday import USFederalHolidayCalendar\n",
    "\n",
    "calendar = USFederalHolidayCalendar()\n",
    "holidays = calendar.holidays(start='2018', end='2020').date #.date converted the result into datetime object\n",
    "\n",
    "taxi_data_new_features['holiday'] = taxi_data_new_features['transactionDate'].isin(holidays)"
   ]
  },
  {
   "cell_type": "code",
   "execution_count": 212,
   "id": "8a419cb8",
   "metadata": {},
   "outputs": [
    {
     "data": {
      "text/html": [
       "<div>\n",
       "<style scoped>\n",
       "    .dataframe tbody tr th:only-of-type {\n",
       "        vertical-align: middle;\n",
       "    }\n",
       "\n",
       "    .dataframe tbody tr th {\n",
       "        vertical-align: top;\n",
       "    }\n",
       "\n",
       "    .dataframe thead th {\n",
       "        text-align: right;\n",
       "    }\n",
       "</style>\n",
       "<table border=\"1\" class=\"dataframe\">\n",
       "  <thead>\n",
       "    <tr style=\"text-align: right;\">\n",
       "      <th></th>\n",
       "      <th>PULocationID</th>\n",
       "      <th>transactionDate</th>\n",
       "      <th>transactionMonth</th>\n",
       "      <th>transactionDay</th>\n",
       "      <th>transactionHour</th>\n",
       "      <th>total_amount</th>\n",
       "      <th>trip_distance</th>\n",
       "      <th>transaction_amount</th>\n",
       "      <th>transaction_week_day</th>\n",
       "      <th>weekend</th>\n",
       "      <th>holiday</th>\n",
       "    </tr>\n",
       "  </thead>\n",
       "  <tbody>\n",
       "    <tr>\n",
       "      <th>0</th>\n",
       "      <td>1</td>\n",
       "      <td>2019-01-01</td>\n",
       "      <td>1</td>\n",
       "      <td>1</td>\n",
       "      <td>2</td>\n",
       "      <td>21.800</td>\n",
       "      <td>0.00</td>\n",
       "      <td>1</td>\n",
       "      <td>1</td>\n",
       "      <td>False</td>\n",
       "      <td>True</td>\n",
       "    </tr>\n",
       "    <tr>\n",
       "      <th>1</th>\n",
       "      <td>1</td>\n",
       "      <td>2019-01-01</td>\n",
       "      <td>1</td>\n",
       "      <td>1</td>\n",
       "      <td>5</td>\n",
       "      <td>87.300</td>\n",
       "      <td>0.00</td>\n",
       "      <td>1</td>\n",
       "      <td>1</td>\n",
       "      <td>False</td>\n",
       "      <td>True</td>\n",
       "    </tr>\n",
       "    <tr>\n",
       "      <th>2</th>\n",
       "      <td>1</td>\n",
       "      <td>2019-01-01</td>\n",
       "      <td>1</td>\n",
       "      <td>1</td>\n",
       "      <td>6</td>\n",
       "      <td>80.300</td>\n",
       "      <td>0.00</td>\n",
       "      <td>1</td>\n",
       "      <td>1</td>\n",
       "      <td>False</td>\n",
       "      <td>True</td>\n",
       "    </tr>\n",
       "    <tr>\n",
       "      <th>3</th>\n",
       "      <td>1</td>\n",
       "      <td>2019-01-01</td>\n",
       "      <td>1</td>\n",
       "      <td>1</td>\n",
       "      <td>8</td>\n",
       "      <td>128.580</td>\n",
       "      <td>0.00</td>\n",
       "      <td>2</td>\n",
       "      <td>1</td>\n",
       "      <td>False</td>\n",
       "      <td>True</td>\n",
       "    </tr>\n",
       "    <tr>\n",
       "      <th>4</th>\n",
       "      <td>1</td>\n",
       "      <td>2019-01-01</td>\n",
       "      <td>1</td>\n",
       "      <td>1</td>\n",
       "      <td>10</td>\n",
       "      <td>43.245</td>\n",
       "      <td>16.90</td>\n",
       "      <td>4</td>\n",
       "      <td>1</td>\n",
       "      <td>False</td>\n",
       "      <td>True</td>\n",
       "    </tr>\n",
       "    <tr>\n",
       "      <th>...</th>\n",
       "      <td>...</td>\n",
       "      <td>...</td>\n",
       "      <td>...</td>\n",
       "      <td>...</td>\n",
       "      <td>...</td>\n",
       "      <td>...</td>\n",
       "      <td>...</td>\n",
       "      <td>...</td>\n",
       "      <td>...</td>\n",
       "      <td>...</td>\n",
       "      <td>...</td>\n",
       "    </tr>\n",
       "    <tr>\n",
       "      <th>102516</th>\n",
       "      <td>98</td>\n",
       "      <td>2019-01-31</td>\n",
       "      <td>1</td>\n",
       "      <td>31</td>\n",
       "      <td>18</td>\n",
       "      <td>58.060</td>\n",
       "      <td>16.66</td>\n",
       "      <td>1</td>\n",
       "      <td>3</td>\n",
       "      <td>False</td>\n",
       "      <td>False</td>\n",
       "    </tr>\n",
       "    <tr>\n",
       "      <th>102517</th>\n",
       "      <td>99</td>\n",
       "      <td>2019-01-18</td>\n",
       "      <td>1</td>\n",
       "      <td>18</td>\n",
       "      <td>18</td>\n",
       "      <td>9.800</td>\n",
       "      <td>1.66</td>\n",
       "      <td>1</td>\n",
       "      <td>4</td>\n",
       "      <td>False</td>\n",
       "      <td>False</td>\n",
       "    </tr>\n",
       "    <tr>\n",
       "      <th>102518</th>\n",
       "      <td>99</td>\n",
       "      <td>2019-01-26</td>\n",
       "      <td>1</td>\n",
       "      <td>26</td>\n",
       "      <td>8</td>\n",
       "      <td>6.000</td>\n",
       "      <td>0.42</td>\n",
       "      <td>1</td>\n",
       "      <td>5</td>\n",
       "      <td>True</td>\n",
       "      <td>False</td>\n",
       "    </tr>\n",
       "    <tr>\n",
       "      <th>102519</th>\n",
       "      <td>99</td>\n",
       "      <td>2019-01-30</td>\n",
       "      <td>1</td>\n",
       "      <td>30</td>\n",
       "      <td>7</td>\n",
       "      <td>18.050</td>\n",
       "      <td>2.87</td>\n",
       "      <td>1</td>\n",
       "      <td>2</td>\n",
       "      <td>False</td>\n",
       "      <td>False</td>\n",
       "    </tr>\n",
       "    <tr>\n",
       "      <th>102520</th>\n",
       "      <td>99</td>\n",
       "      <td>2019-01-30</td>\n",
       "      <td>1</td>\n",
       "      <td>30</td>\n",
       "      <td>11</td>\n",
       "      <td>99.320</td>\n",
       "      <td>31.60</td>\n",
       "      <td>1</td>\n",
       "      <td>2</td>\n",
       "      <td>False</td>\n",
       "      <td>False</td>\n",
       "    </tr>\n",
       "  </tbody>\n",
       "</table>\n",
       "<p>102521 rows × 11 columns</p>\n",
       "</div>"
      ],
      "text/plain": [
       "       PULocationID transactionDate  transactionMonth  transactionDay  \\\n",
       "0                 1      2019-01-01                 1               1   \n",
       "1                 1      2019-01-01                 1               1   \n",
       "2                 1      2019-01-01                 1               1   \n",
       "3                 1      2019-01-01                 1               1   \n",
       "4                 1      2019-01-01                 1               1   \n",
       "...             ...             ...               ...             ...   \n",
       "102516           98      2019-01-31                 1              31   \n",
       "102517           99      2019-01-18                 1              18   \n",
       "102518           99      2019-01-26                 1              26   \n",
       "102519           99      2019-01-30                 1              30   \n",
       "102520           99      2019-01-30                 1              30   \n",
       "\n",
       "        transactionHour  total_amount  trip_distance  transaction_amount  \\\n",
       "0                     2        21.800           0.00                   1   \n",
       "1                     5        87.300           0.00                   1   \n",
       "2                     6        80.300           0.00                   1   \n",
       "3                     8       128.580           0.00                   2   \n",
       "4                    10        43.245          16.90                   4   \n",
       "...                 ...           ...            ...                 ...   \n",
       "102516               18        58.060          16.66                   1   \n",
       "102517               18         9.800           1.66                   1   \n",
       "102518                8         6.000           0.42                   1   \n",
       "102519                7        18.050           2.87                   1   \n",
       "102520               11        99.320          31.60                   1   \n",
       "\n",
       "        transaction_week_day  weekend  holiday  \n",
       "0                          1    False     True  \n",
       "1                          1    False     True  \n",
       "2                          1    False     True  \n",
       "3                          1    False     True  \n",
       "4                          1    False     True  \n",
       "...                      ...      ...      ...  \n",
       "102516                     3    False    False  \n",
       "102517                     4    False    False  \n",
       "102518                     5     True    False  \n",
       "102519                     2    False    False  \n",
       "102520                     2    False    False  \n",
       "\n",
       "[102521 rows x 11 columns]"
      ]
     },
     "execution_count": 212,
     "metadata": {},
     "output_type": "execute_result"
    }
   ],
   "source": [
    "taxi_data_new_features"
   ]
  },
  {
   "cell_type": "markdown",
   "id": "2e95d7f7",
   "metadata": {},
   "source": [
    "* <h2> Location Related Features </h2>"
   ]
  },
  {
   "cell_type": "code",
   "execution_count": 213,
   "id": "b3fcc0e3",
   "metadata": {},
   "outputs": [
    {
     "data": {
      "text/html": [
       "<div>\n",
       "<style scoped>\n",
       "    .dataframe tbody tr th:only-of-type {\n",
       "        vertical-align: middle;\n",
       "    }\n",
       "\n",
       "    .dataframe tbody tr th {\n",
       "        vertical-align: top;\n",
       "    }\n",
       "\n",
       "    .dataframe thead th {\n",
       "        text-align: right;\n",
       "    }\n",
       "</style>\n",
       "<table border=\"1\" class=\"dataframe\">\n",
       "  <thead>\n",
       "    <tr style=\"text-align: right;\">\n",
       "      <th></th>\n",
       "      <th>LocationID</th>\n",
       "      <th>Borough</th>\n",
       "    </tr>\n",
       "  </thead>\n",
       "  <tbody>\n",
       "    <tr>\n",
       "      <th>0</th>\n",
       "      <td>1</td>\n",
       "      <td>EWR</td>\n",
       "    </tr>\n",
       "    <tr>\n",
       "      <th>1</th>\n",
       "      <td>2</td>\n",
       "      <td>Queens</td>\n",
       "    </tr>\n",
       "    <tr>\n",
       "      <th>2</th>\n",
       "      <td>3</td>\n",
       "      <td>Bronx</td>\n",
       "    </tr>\n",
       "    <tr>\n",
       "      <th>3</th>\n",
       "      <td>4</td>\n",
       "      <td>Manhattan</td>\n",
       "    </tr>\n",
       "    <tr>\n",
       "      <th>4</th>\n",
       "      <td>5</td>\n",
       "      <td>Staten Island</td>\n",
       "    </tr>\n",
       "  </tbody>\n",
       "</table>\n",
       "</div>"
      ],
      "text/plain": [
       "  LocationID        Borough\n",
       "0          1            EWR\n",
       "1          2         Queens\n",
       "2          3          Bronx\n",
       "3          4      Manhattan\n",
       "4          5  Staten Island"
      ]
     },
     "execution_count": 213,
     "metadata": {},
     "output_type": "execute_result"
    }
   ],
   "source": [
    "zone_lookup = pd.read_csv('data/taxi+_zone_lookup.csv')\n",
    "zone_lookup = zone_lookup[['LocationID', 'Borough']]\n",
    "zone_lookup['LocationID'] = zone_lookup['LocationID'].astype(str) #from int to object\n",
    "zone_lookup.head()"
   ]
  },
  {
   "cell_type": "code",
   "execution_count": 214,
   "id": "b57b9f95",
   "metadata": {},
   "outputs": [
    {
     "data": {
      "text/html": [
       "<div>\n",
       "<style scoped>\n",
       "    .dataframe tbody tr th:only-of-type {\n",
       "        vertical-align: middle;\n",
       "    }\n",
       "\n",
       "    .dataframe tbody tr th {\n",
       "        vertical-align: top;\n",
       "    }\n",
       "\n",
       "    .dataframe thead th {\n",
       "        text-align: right;\n",
       "    }\n",
       "</style>\n",
       "<table border=\"1\" class=\"dataframe\">\n",
       "  <thead>\n",
       "    <tr style=\"text-align: right;\">\n",
       "      <th></th>\n",
       "      <th>PULocationID</th>\n",
       "      <th>transactionDate</th>\n",
       "      <th>transactionMonth</th>\n",
       "      <th>transactionDay</th>\n",
       "      <th>transactionHour</th>\n",
       "      <th>total_amount</th>\n",
       "      <th>trip_distance</th>\n",
       "      <th>transaction_amount</th>\n",
       "      <th>transaction_week_day</th>\n",
       "      <th>weekend</th>\n",
       "      <th>holiday</th>\n",
       "      <th>LocationID</th>\n",
       "      <th>Borough</th>\n",
       "    </tr>\n",
       "  </thead>\n",
       "  <tbody>\n",
       "    <tr>\n",
       "      <th>0</th>\n",
       "      <td>1</td>\n",
       "      <td>2019-01-01</td>\n",
       "      <td>1</td>\n",
       "      <td>1</td>\n",
       "      <td>2</td>\n",
       "      <td>21.800</td>\n",
       "      <td>0.0</td>\n",
       "      <td>1</td>\n",
       "      <td>1</td>\n",
       "      <td>False</td>\n",
       "      <td>True</td>\n",
       "      <td>1</td>\n",
       "      <td>EWR</td>\n",
       "    </tr>\n",
       "    <tr>\n",
       "      <th>1</th>\n",
       "      <td>1</td>\n",
       "      <td>2019-01-01</td>\n",
       "      <td>1</td>\n",
       "      <td>1</td>\n",
       "      <td>5</td>\n",
       "      <td>87.300</td>\n",
       "      <td>0.0</td>\n",
       "      <td>1</td>\n",
       "      <td>1</td>\n",
       "      <td>False</td>\n",
       "      <td>True</td>\n",
       "      <td>1</td>\n",
       "      <td>EWR</td>\n",
       "    </tr>\n",
       "    <tr>\n",
       "      <th>2</th>\n",
       "      <td>1</td>\n",
       "      <td>2019-01-01</td>\n",
       "      <td>1</td>\n",
       "      <td>1</td>\n",
       "      <td>6</td>\n",
       "      <td>80.300</td>\n",
       "      <td>0.0</td>\n",
       "      <td>1</td>\n",
       "      <td>1</td>\n",
       "      <td>False</td>\n",
       "      <td>True</td>\n",
       "      <td>1</td>\n",
       "      <td>EWR</td>\n",
       "    </tr>\n",
       "    <tr>\n",
       "      <th>3</th>\n",
       "      <td>1</td>\n",
       "      <td>2019-01-01</td>\n",
       "      <td>1</td>\n",
       "      <td>1</td>\n",
       "      <td>8</td>\n",
       "      <td>128.580</td>\n",
       "      <td>0.0</td>\n",
       "      <td>2</td>\n",
       "      <td>1</td>\n",
       "      <td>False</td>\n",
       "      <td>True</td>\n",
       "      <td>1</td>\n",
       "      <td>EWR</td>\n",
       "    </tr>\n",
       "    <tr>\n",
       "      <th>4</th>\n",
       "      <td>1</td>\n",
       "      <td>2019-01-01</td>\n",
       "      <td>1</td>\n",
       "      <td>1</td>\n",
       "      <td>10</td>\n",
       "      <td>43.245</td>\n",
       "      <td>16.9</td>\n",
       "      <td>4</td>\n",
       "      <td>1</td>\n",
       "      <td>False</td>\n",
       "      <td>True</td>\n",
       "      <td>1</td>\n",
       "      <td>EWR</td>\n",
       "    </tr>\n",
       "  </tbody>\n",
       "</table>\n",
       "</div>"
      ],
      "text/plain": [
       "  PULocationID transactionDate  transactionMonth  transactionDay  \\\n",
       "0            1      2019-01-01                 1               1   \n",
       "1            1      2019-01-01                 1               1   \n",
       "2            1      2019-01-01                 1               1   \n",
       "3            1      2019-01-01                 1               1   \n",
       "4            1      2019-01-01                 1               1   \n",
       "\n",
       "   transactionHour  total_amount  trip_distance  transaction_amount  \\\n",
       "0                2        21.800            0.0                   1   \n",
       "1                5        87.300            0.0                   1   \n",
       "2                6        80.300            0.0                   1   \n",
       "3                8       128.580            0.0                   2   \n",
       "4               10        43.245           16.9                   4   \n",
       "\n",
       "   transaction_week_day  weekend  holiday LocationID Borough  \n",
       "0                     1    False     True          1     EWR  \n",
       "1                     1    False     True          1     EWR  \n",
       "2                     1    False     True          1     EWR  \n",
       "3                     1    False     True          1     EWR  \n",
       "4                     1    False     True          1     EWR  "
      ]
     },
     "execution_count": 214,
     "metadata": {},
     "output_type": "execute_result"
    }
   ],
   "source": [
    "#extracting PULocation name information frim zone_lookup and adding this info as a column to taxi_data_new_features\n",
    "taxi_data_new_features = taxi_data_new_features.merge(zone_lookup, left_on='PULocationID', right_on='LocationID', how='left')\n",
    "taxi_data_new_features.head()"
   ]
  },
  {
   "cell_type": "code",
   "execution_count": 215,
   "id": "16776151",
   "metadata": {},
   "outputs": [
    {
     "data": {
      "text/html": [
       "<div>\n",
       "<style scoped>\n",
       "    .dataframe tbody tr th:only-of-type {\n",
       "        vertical-align: middle;\n",
       "    }\n",
       "\n",
       "    .dataframe tbody tr th {\n",
       "        vertical-align: top;\n",
       "    }\n",
       "\n",
       "    .dataframe thead th {\n",
       "        text-align: right;\n",
       "    }\n",
       "</style>\n",
       "<table border=\"1\" class=\"dataframe\">\n",
       "  <thead>\n",
       "    <tr style=\"text-align: right;\">\n",
       "      <th></th>\n",
       "      <th>PULocationID</th>\n",
       "      <th>transactionDate</th>\n",
       "      <th>transactionMonth</th>\n",
       "      <th>transactionDay</th>\n",
       "      <th>transactionHour</th>\n",
       "      <th>total_amount</th>\n",
       "      <th>trip_distance</th>\n",
       "      <th>transaction_amount</th>\n",
       "      <th>transaction_week_day</th>\n",
       "      <th>weekend</th>\n",
       "      <th>holiday</th>\n",
       "      <th>Borough</th>\n",
       "    </tr>\n",
       "  </thead>\n",
       "  <tbody>\n",
       "    <tr>\n",
       "      <th>0</th>\n",
       "      <td>1</td>\n",
       "      <td>2019-01-01</td>\n",
       "      <td>1</td>\n",
       "      <td>1</td>\n",
       "      <td>2</td>\n",
       "      <td>21.800</td>\n",
       "      <td>0.0</td>\n",
       "      <td>1</td>\n",
       "      <td>1</td>\n",
       "      <td>False</td>\n",
       "      <td>True</td>\n",
       "      <td>EWR</td>\n",
       "    </tr>\n",
       "    <tr>\n",
       "      <th>1</th>\n",
       "      <td>1</td>\n",
       "      <td>2019-01-01</td>\n",
       "      <td>1</td>\n",
       "      <td>1</td>\n",
       "      <td>5</td>\n",
       "      <td>87.300</td>\n",
       "      <td>0.0</td>\n",
       "      <td>1</td>\n",
       "      <td>1</td>\n",
       "      <td>False</td>\n",
       "      <td>True</td>\n",
       "      <td>EWR</td>\n",
       "    </tr>\n",
       "    <tr>\n",
       "      <th>2</th>\n",
       "      <td>1</td>\n",
       "      <td>2019-01-01</td>\n",
       "      <td>1</td>\n",
       "      <td>1</td>\n",
       "      <td>6</td>\n",
       "      <td>80.300</td>\n",
       "      <td>0.0</td>\n",
       "      <td>1</td>\n",
       "      <td>1</td>\n",
       "      <td>False</td>\n",
       "      <td>True</td>\n",
       "      <td>EWR</td>\n",
       "    </tr>\n",
       "    <tr>\n",
       "      <th>3</th>\n",
       "      <td>1</td>\n",
       "      <td>2019-01-01</td>\n",
       "      <td>1</td>\n",
       "      <td>1</td>\n",
       "      <td>8</td>\n",
       "      <td>128.580</td>\n",
       "      <td>0.0</td>\n",
       "      <td>2</td>\n",
       "      <td>1</td>\n",
       "      <td>False</td>\n",
       "      <td>True</td>\n",
       "      <td>EWR</td>\n",
       "    </tr>\n",
       "    <tr>\n",
       "      <th>4</th>\n",
       "      <td>1</td>\n",
       "      <td>2019-01-01</td>\n",
       "      <td>1</td>\n",
       "      <td>1</td>\n",
       "      <td>10</td>\n",
       "      <td>43.245</td>\n",
       "      <td>16.9</td>\n",
       "      <td>4</td>\n",
       "      <td>1</td>\n",
       "      <td>False</td>\n",
       "      <td>True</td>\n",
       "      <td>EWR</td>\n",
       "    </tr>\n",
       "  </tbody>\n",
       "</table>\n",
       "</div>"
      ],
      "text/plain": [
       "  PULocationID transactionDate  transactionMonth  transactionDay  \\\n",
       "0            1      2019-01-01                 1               1   \n",
       "1            1      2019-01-01                 1               1   \n",
       "2            1      2019-01-01                 1               1   \n",
       "3            1      2019-01-01                 1               1   \n",
       "4            1      2019-01-01                 1               1   \n",
       "\n",
       "   transactionHour  total_amount  trip_distance  transaction_amount  \\\n",
       "0                2        21.800            0.0                   1   \n",
       "1                5        87.300            0.0                   1   \n",
       "2                6        80.300            0.0                   1   \n",
       "3                8       128.580            0.0                   2   \n",
       "4               10        43.245           16.9                   4   \n",
       "\n",
       "   transaction_week_day  weekend  holiday Borough  \n",
       "0                     1    False     True     EWR  \n",
       "1                     1    False     True     EWR  \n",
       "2                     1    False     True     EWR  \n",
       "3                     1    False     True     EWR  \n",
       "4                     1    False     True     EWR  "
      ]
     },
     "execution_count": 215,
     "metadata": {},
     "output_type": "execute_result"
    }
   ],
   "source": [
    "taxi_data_new_features.drop('LocationID', axis=1, inplace=True)\n",
    "taxi_data_new_features.head()"
   ]
  },
  {
   "cell_type": "code",
   "execution_count": 216,
   "id": "86cc1fa5",
   "metadata": {},
   "outputs": [
    {
     "data": {
      "text/plain": [
       "Manhattan        45309\n",
       "Brooklyn         23632\n",
       "Queens           21971\n",
       "Bronx             9584\n",
       "Unknown           1453\n",
       "Staten Island      302\n",
       "EWR                270\n",
       "Name: Borough, dtype: int64"
      ]
     },
     "execution_count": 216,
     "metadata": {},
     "output_type": "execute_result"
    }
   ],
   "source": [
    "taxi_data_new_features['Borough'].value_counts()"
   ]
  },
  {
   "cell_type": "markdown",
   "id": "d2966b89",
   "metadata": {},
   "source": [
    "* <h2> Weather Related Features </h2>"
   ]
  },
  {
   "cell_type": "code",
   "execution_count": 217,
   "id": "cf06677a",
   "metadata": {},
   "outputs": [],
   "source": [
    "nyc_weather = pd.read_csv('DATA/nyc_weather.csv')"
   ]
  },
  {
   "cell_type": "code",
   "execution_count": 218,
   "id": "ae74d074",
   "metadata": {},
   "outputs": [
    {
     "data": {
      "text/html": [
       "<div>\n",
       "<style scoped>\n",
       "    .dataframe tbody tr th:only-of-type {\n",
       "        vertical-align: middle;\n",
       "    }\n",
       "\n",
       "    .dataframe tbody tr th {\n",
       "        vertical-align: top;\n",
       "    }\n",
       "\n",
       "    .dataframe thead th {\n",
       "        text-align: right;\n",
       "    }\n",
       "</style>\n",
       "<table border=\"1\" class=\"dataframe\">\n",
       "  <thead>\n",
       "    <tr style=\"text-align: right;\">\n",
       "      <th></th>\n",
       "      <th>date and time</th>\n",
       "      <th>temperature</th>\n",
       "      <th>humidity</th>\n",
       "      <th>wind speed</th>\n",
       "      <th>cloud cover</th>\n",
       "      <th>amount of precipitation</th>\n",
       "    </tr>\n",
       "  </thead>\n",
       "  <tbody>\n",
       "    <tr>\n",
       "      <th>0</th>\n",
       "      <td>31.12.2019 22:00</td>\n",
       "      <td>6.1</td>\n",
       "      <td>65</td>\n",
       "      <td>6</td>\n",
       "      <td>100%.</td>\n",
       "      <td>0.3</td>\n",
       "    </tr>\n",
       "    <tr>\n",
       "      <th>1</th>\n",
       "      <td>31.12.2019 19:00</td>\n",
       "      <td>6.7</td>\n",
       "      <td>71</td>\n",
       "      <td>5</td>\n",
       "      <td>70 – 80%.</td>\n",
       "      <td>NaN</td>\n",
       "    </tr>\n",
       "    <tr>\n",
       "      <th>2</th>\n",
       "      <td>31.12.2019 16:00</td>\n",
       "      <td>7.2</td>\n",
       "      <td>66</td>\n",
       "      <td>5</td>\n",
       "      <td>50%.</td>\n",
       "      <td>NaN</td>\n",
       "    </tr>\n",
       "    <tr>\n",
       "      <th>3</th>\n",
       "      <td>31.12.2019 13:00</td>\n",
       "      <td>6.1</td>\n",
       "      <td>76</td>\n",
       "      <td>3</td>\n",
       "      <td>100%.</td>\n",
       "      <td>Trace of precipitation</td>\n",
       "    </tr>\n",
       "    <tr>\n",
       "      <th>4</th>\n",
       "      <td>31.12.2019 10:00</td>\n",
       "      <td>4.4</td>\n",
       "      <td>83</td>\n",
       "      <td>2</td>\n",
       "      <td>100%.</td>\n",
       "      <td>Trace of precipitation</td>\n",
       "    </tr>\n",
       "  </tbody>\n",
       "</table>\n",
       "</div>"
      ],
      "text/plain": [
       "      date and time  temperature  humidity  wind speed cloud cover  \\\n",
       "0  31.12.2019 22:00          6.1        65           6       100%.   \n",
       "1  31.12.2019 19:00          6.7        71           5   70 – 80%.   \n",
       "2  31.12.2019 16:00          7.2        66           5        50%.   \n",
       "3  31.12.2019 13:00          6.1        76           3       100%.   \n",
       "4  31.12.2019 10:00          4.4        83           2       100%.   \n",
       "\n",
       "  amount of precipitation  \n",
       "0                     0.3  \n",
       "1                     NaN  \n",
       "2                     NaN  \n",
       "3  Trace of precipitation  \n",
       "4  Trace of precipitation  "
      ]
     },
     "execution_count": 218,
     "metadata": {},
     "output_type": "execute_result"
    }
   ],
   "source": [
    "nyc_weather.head()"
   ]
  },
  {
   "cell_type": "code",
   "execution_count": 219,
   "id": "1df024b4",
   "metadata": {},
   "outputs": [
    {
     "data": {
      "text/html": [
       "<div>\n",
       "<style scoped>\n",
       "    .dataframe tbody tr th:only-of-type {\n",
       "        vertical-align: middle;\n",
       "    }\n",
       "\n",
       "    .dataframe tbody tr th {\n",
       "        vertical-align: top;\n",
       "    }\n",
       "\n",
       "    .dataframe thead th {\n",
       "        text-align: right;\n",
       "    }\n",
       "</style>\n",
       "<table border=\"1\" class=\"dataframe\">\n",
       "  <thead>\n",
       "    <tr style=\"text-align: right;\">\n",
       "      <th></th>\n",
       "      <th>PULocationID</th>\n",
       "      <th>transactionDate</th>\n",
       "      <th>transactionMonth</th>\n",
       "      <th>transactionDay</th>\n",
       "      <th>transactionHour</th>\n",
       "      <th>total_amount</th>\n",
       "      <th>trip_distance</th>\n",
       "      <th>transaction_amount</th>\n",
       "      <th>transaction_week_day</th>\n",
       "      <th>weekend</th>\n",
       "      <th>holiday</th>\n",
       "      <th>Borough</th>\n",
       "    </tr>\n",
       "  </thead>\n",
       "  <tbody>\n",
       "    <tr>\n",
       "      <th>0</th>\n",
       "      <td>1</td>\n",
       "      <td>2019-01-01</td>\n",
       "      <td>1</td>\n",
       "      <td>1</td>\n",
       "      <td>2</td>\n",
       "      <td>21.800</td>\n",
       "      <td>0.0</td>\n",
       "      <td>1</td>\n",
       "      <td>1</td>\n",
       "      <td>False</td>\n",
       "      <td>True</td>\n",
       "      <td>EWR</td>\n",
       "    </tr>\n",
       "    <tr>\n",
       "      <th>1</th>\n",
       "      <td>1</td>\n",
       "      <td>2019-01-01</td>\n",
       "      <td>1</td>\n",
       "      <td>1</td>\n",
       "      <td>5</td>\n",
       "      <td>87.300</td>\n",
       "      <td>0.0</td>\n",
       "      <td>1</td>\n",
       "      <td>1</td>\n",
       "      <td>False</td>\n",
       "      <td>True</td>\n",
       "      <td>EWR</td>\n",
       "    </tr>\n",
       "    <tr>\n",
       "      <th>2</th>\n",
       "      <td>1</td>\n",
       "      <td>2019-01-01</td>\n",
       "      <td>1</td>\n",
       "      <td>1</td>\n",
       "      <td>6</td>\n",
       "      <td>80.300</td>\n",
       "      <td>0.0</td>\n",
       "      <td>1</td>\n",
       "      <td>1</td>\n",
       "      <td>False</td>\n",
       "      <td>True</td>\n",
       "      <td>EWR</td>\n",
       "    </tr>\n",
       "    <tr>\n",
       "      <th>3</th>\n",
       "      <td>1</td>\n",
       "      <td>2019-01-01</td>\n",
       "      <td>1</td>\n",
       "      <td>1</td>\n",
       "      <td>8</td>\n",
       "      <td>128.580</td>\n",
       "      <td>0.0</td>\n",
       "      <td>2</td>\n",
       "      <td>1</td>\n",
       "      <td>False</td>\n",
       "      <td>True</td>\n",
       "      <td>EWR</td>\n",
       "    </tr>\n",
       "    <tr>\n",
       "      <th>4</th>\n",
       "      <td>1</td>\n",
       "      <td>2019-01-01</td>\n",
       "      <td>1</td>\n",
       "      <td>1</td>\n",
       "      <td>10</td>\n",
       "      <td>43.245</td>\n",
       "      <td>16.9</td>\n",
       "      <td>4</td>\n",
       "      <td>1</td>\n",
       "      <td>False</td>\n",
       "      <td>True</td>\n",
       "      <td>EWR</td>\n",
       "    </tr>\n",
       "  </tbody>\n",
       "</table>\n",
       "</div>"
      ],
      "text/plain": [
       "  PULocationID transactionDate  transactionMonth  transactionDay  \\\n",
       "0            1      2019-01-01                 1               1   \n",
       "1            1      2019-01-01                 1               1   \n",
       "2            1      2019-01-01                 1               1   \n",
       "3            1      2019-01-01                 1               1   \n",
       "4            1      2019-01-01                 1               1   \n",
       "\n",
       "   transactionHour  total_amount  trip_distance  transaction_amount  \\\n",
       "0                2        21.800            0.0                   1   \n",
       "1                5        87.300            0.0                   1   \n",
       "2                6        80.300            0.0                   1   \n",
       "3                8       128.580            0.0                   2   \n",
       "4               10        43.245           16.9                   4   \n",
       "\n",
       "   transaction_week_day  weekend  holiday Borough  \n",
       "0                     1    False     True     EWR  \n",
       "1                     1    False     True     EWR  \n",
       "2                     1    False     True     EWR  \n",
       "3                     1    False     True     EWR  \n",
       "4                     1    False     True     EWR  "
      ]
     },
     "execution_count": 219,
     "metadata": {},
     "output_type": "execute_result"
    }
   ],
   "source": [
    "taxi_data_new_features.head()"
   ]
  },
  {
   "cell_type": "markdown",
   "id": "d56269fb",
   "metadata": {},
   "source": [
    "There are missing values. Also note that there are percentages that might not be easy to work with."
   ]
  },
  {
   "cell_type": "code",
   "execution_count": 220,
   "id": "57687ec3",
   "metadata": {},
   "outputs": [
    {
     "data": {
      "text/plain": [
       "date and time               object\n",
       "temperature                float64\n",
       "humidity                     int64\n",
       "wind speed                   int64\n",
       "cloud cover                 object\n",
       "amount of precipitation     object\n",
       "dtype: object"
      ]
     },
     "execution_count": 220,
     "metadata": {},
     "output_type": "execute_result"
    }
   ],
   "source": [
    "nyc_weather.dtypes"
   ]
  },
  {
   "cell_type": "markdown",
   "id": "a429fa29",
   "metadata": {},
   "source": [
    "We need date and time as datetime object.\n",
    "We also should convert cloud cover percentages into floats as for amount of precipitation."
   ]
  },
  {
   "cell_type": "code",
   "execution_count": 221,
   "id": "82592f50",
   "metadata": {},
   "outputs": [],
   "source": [
    "nyc_weather.loc[:, 'date and time'] = pd.to_datetime(nyc_weather.loc[:, 'date and time'])\n",
    "nyc_weather['Month'] = nyc_weather['date and time'].dt.month\n",
    "nyc_weather['Day'] = nyc_weather['date and time'].dt.day\n",
    "nyc_weather['Hour'] = nyc_weather['date and time'].dt.hour"
   ]
  },
  {
   "cell_type": "code",
   "execution_count": 222,
   "id": "31344e91",
   "metadata": {},
   "outputs": [
    {
     "data": {
      "text/plain": [
       "date and time              datetime64[ns]\n",
       "temperature                       float64\n",
       "humidity                            int64\n",
       "wind speed                          int64\n",
       "cloud cover                        object\n",
       "amount of precipitation            object\n",
       "Month                               int64\n",
       "Day                                 int64\n",
       "Hour                                int64\n",
       "dtype: object"
      ]
     },
     "execution_count": 222,
     "metadata": {},
     "output_type": "execute_result"
    }
   ],
   "source": [
    "nyc_weather.dtypes"
   ]
  },
  {
   "cell_type": "code",
   "execution_count": 223,
   "id": "929c2686",
   "metadata": {},
   "outputs": [
    {
     "data": {
      "text/plain": [
       "date and time                 0\n",
       "temperature                   0\n",
       "humidity                      0\n",
       "wind speed                    0\n",
       "cloud cover                   4\n",
       "amount of precipitation    2240\n",
       "Month                         0\n",
       "Day                           0\n",
       "Hour                          0\n",
       "dtype: int64"
      ]
     },
     "execution_count": 223,
     "metadata": {},
     "output_type": "execute_result"
    }
   ],
   "source": [
    "nyc_weather.isna().sum()"
   ]
  },
  {
   "cell_type": "code",
   "execution_count": 224,
   "id": "06140246",
   "metadata": {},
   "outputs": [
    {
     "data": {
      "text/plain": [
       "date and time                 0\n",
       "temperature                   0\n",
       "humidity                      0\n",
       "wind speed                    0\n",
       "cloud cover                   4\n",
       "amount of precipitation    2240\n",
       "Month                         0\n",
       "Day                           0\n",
       "Hour                          0\n",
       "dtype: int64"
      ]
     },
     "execution_count": 224,
     "metadata": {},
     "output_type": "execute_result"
    }
   ],
   "source": [
    "nyc_weather['amount of precipitation'] = nyc_weather['amount of precipitation'].replace('Trace of precipitation', 0.1)\n",
    "nyc_weather['amount of precipitation'] = nyc_weather['amount of precipitation'].astype(float)\n",
    "nyc_weather['amount of precipitation'].interpolate(inpace=True) #the best practice\n",
    "nyc_weather.isna().sum() "
   ]
  },
  {
   "cell_type": "code",
   "execution_count": 225,
   "id": "439809d5",
   "metadata": {},
   "outputs": [
    {
     "data": {
      "text/plain": [
       "70 – 80%.                                                     973\n",
       "100%.                                                         896\n",
       "20–30%.                                                       479\n",
       "50%.                                                          413\n",
       "no clouds                                                     168\n",
       "Sky obscured by fog and/or other meteorological phenomena.      3\n",
       "Name: cloud cover, dtype: int64"
      ]
     },
     "execution_count": 225,
     "metadata": {},
     "output_type": "execute_result"
    }
   ],
   "source": [
    "nyc_weather['cloud cover'].value_counts()"
   ]
  },
  {
   "cell_type": "code",
   "execution_count": 226,
   "id": "79b4454d",
   "metadata": {},
   "outputs": [],
   "source": [
    "nyc_weather['cloud cover'] = nyc_weather['cloud cover'].replace('70 – 80%.', 0.8)\n",
    "nyc_weather['cloud cover'] = nyc_weather['cloud cover'].replace('100%.', 1)\n",
    "nyc_weather['cloud cover'] = nyc_weather['cloud cover'].replace('20–30%.', 0.3)\n",
    "nyc_weather['cloud cover'] = nyc_weather['cloud cover'].replace('50%.', 0.5)\n",
    "nyc_weather['cloud cover'] = nyc_weather['cloud cover'].replace('no clouds', 0)\n",
    "nyc_weather['cloud cover'] = nyc_weather['cloud cover'].replace('Sky obscured by fog and/or other meteorological phenomena.', 1)\n",
    "\n",
    "nyc_weather['cloud cover'] = nyc_weather['cloud cover'].astype(float)\n",
    "\n"
   ]
  },
  {
   "cell_type": "code",
   "execution_count": 227,
   "id": "1fcec054",
   "metadata": {},
   "outputs": [
    {
     "data": {
      "text/plain": [
       "4"
      ]
     },
     "execution_count": 227,
     "metadata": {},
     "output_type": "execute_result"
    }
   ],
   "source": [
    "nyc_weather['cloud cover'].isna().sum()"
   ]
  },
  {
   "cell_type": "code",
   "execution_count": 228,
   "id": "a142c89b",
   "metadata": {},
   "outputs": [
    {
     "data": {
      "text/plain": [
       "0"
      ]
     },
     "execution_count": 228,
     "metadata": {},
     "output_type": "execute_result"
    }
   ],
   "source": [
    "nyc_weather['cloud cover'].interpolate(inplace=True)\n",
    "nyc_weather['cloud cover'].isna().sum()"
   ]
  },
  {
   "cell_type": "code",
   "execution_count": 229,
   "id": "a8db30af",
   "metadata": {},
   "outputs": [],
   "source": [
    "taxi_data_weather = taxi_data_new_features.merge(nyc_weather, left_on=['transactionMonth', 'transactionDay', 'transactionHour'], right_on=['Month', 'Day', 'Hour'], how='left')"
   ]
  },
  {
   "cell_type": "code",
   "execution_count": 230,
   "id": "f71cdb08",
   "metadata": {},
   "outputs": [],
   "source": [
    "taxi_data_weather = taxi_data_weather.drop(['Month', 'Day', 'Hour'], axis=1)\n",
    "taxi_data_weather = taxi_data_weather.drop('date and time', axis=1)"
   ]
  },
  {
   "cell_type": "code",
   "execution_count": 231,
   "id": "096377a8",
   "metadata": {},
   "outputs": [
    {
     "data": {
      "text/plain": [
       "PULocationID                   0\n",
       "transactionDate                0\n",
       "transactionMonth               0\n",
       "transactionDay                 0\n",
       "transactionHour                0\n",
       "total_amount                   0\n",
       "trip_distance                  0\n",
       "transaction_amount             0\n",
       "transaction_week_day           0\n",
       "weekend                        0\n",
       "holiday                        0\n",
       "Borough                        0\n",
       "temperature                68347\n",
       "humidity                   68347\n",
       "wind speed                 68347\n",
       "cloud cover                68347\n",
       "amount of precipitation    95994\n",
       "dtype: int64"
      ]
     },
     "execution_count": 231,
     "metadata": {},
     "output_type": "execute_result"
    }
   ],
   "source": [
    "taxi_data_weather.isna().sum()"
   ]
  },
  {
   "cell_type": "code",
   "execution_count": 232,
   "id": "dc76f72a",
   "metadata": {},
   "outputs": [
    {
     "data": {
      "text/plain": [
       "PULocationID                0\n",
       "transactionDate             0\n",
       "transactionMonth            0\n",
       "transactionDay              0\n",
       "transactionHour             0\n",
       "total_amount                0\n",
       "trip_distance               0\n",
       "transaction_amount          0\n",
       "transaction_week_day        0\n",
       "weekend                     0\n",
       "holiday                     0\n",
       "Borough                     0\n",
       "temperature                 4\n",
       "humidity                    4\n",
       "wind speed                  4\n",
       "cloud cover                 4\n",
       "amount of precipitation    29\n",
       "dtype: int64"
      ]
     },
     "execution_count": 232,
     "metadata": {},
     "output_type": "execute_result"
    }
   ],
   "source": [
    "taxi_data_weather = taxi_data_weather.interpolate()\n",
    "taxi_data_weather.isna().sum()"
   ]
  },
  {
   "cell_type": "code",
   "execution_count": 233,
   "id": "0af69c49",
   "metadata": {},
   "outputs": [
    {
     "data": {
      "text/plain": [
       "PULocationID               0\n",
       "transactionDate            0\n",
       "transactionMonth           0\n",
       "transactionDay             0\n",
       "transactionHour            0\n",
       "total_amount               0\n",
       "trip_distance              0\n",
       "transaction_amount         0\n",
       "transaction_week_day       0\n",
       "weekend                    0\n",
       "holiday                    0\n",
       "Borough                    0\n",
       "temperature                0\n",
       "humidity                   0\n",
       "wind speed                 0\n",
       "cloud cover                0\n",
       "amount of precipitation    0\n",
       "dtype: int64"
      ]
     },
     "execution_count": 233,
     "metadata": {},
     "output_type": "execute_result"
    }
   ],
   "source": [
    "taxi_data_weather = taxi_data_weather.fillna(method='bfill') #backward filling\n",
    "taxi_data_weather.isna().sum()"
   ]
  },
  {
   "cell_type": "code",
   "execution_count": 234,
   "id": "13cc95e1",
   "metadata": {},
   "outputs": [
    {
     "data": {
      "text/html": [
       "<div>\n",
       "<style scoped>\n",
       "    .dataframe tbody tr th:only-of-type {\n",
       "        vertical-align: middle;\n",
       "    }\n",
       "\n",
       "    .dataframe tbody tr th {\n",
       "        vertical-align: top;\n",
       "    }\n",
       "\n",
       "    .dataframe thead th {\n",
       "        text-align: right;\n",
       "    }\n",
       "</style>\n",
       "<table border=\"1\" class=\"dataframe\">\n",
       "  <thead>\n",
       "    <tr style=\"text-align: right;\">\n",
       "      <th></th>\n",
       "      <th>PULocationID</th>\n",
       "      <th>transactionDate</th>\n",
       "      <th>transactionMonth</th>\n",
       "      <th>transactionDay</th>\n",
       "      <th>transactionHour</th>\n",
       "      <th>total_amount</th>\n",
       "      <th>trip_distance</th>\n",
       "      <th>transaction_amount</th>\n",
       "      <th>transaction_week_day</th>\n",
       "      <th>weekend</th>\n",
       "      <th>holiday</th>\n",
       "      <th>Borough</th>\n",
       "      <th>temperature</th>\n",
       "      <th>humidity</th>\n",
       "      <th>wind speed</th>\n",
       "      <th>cloud cover</th>\n",
       "      <th>amount of precipitation</th>\n",
       "    </tr>\n",
       "  </thead>\n",
       "  <tbody>\n",
       "    <tr>\n",
       "      <th>0</th>\n",
       "      <td>1</td>\n",
       "      <td>2019-01-01</td>\n",
       "      <td>1</td>\n",
       "      <td>1</td>\n",
       "      <td>2</td>\n",
       "      <td>21.800</td>\n",
       "      <td>0.0</td>\n",
       "      <td>1</td>\n",
       "      <td>1</td>\n",
       "      <td>False</td>\n",
       "      <td>True</td>\n",
       "      <td>EWR</td>\n",
       "      <td>15.6</td>\n",
       "      <td>62.0</td>\n",
       "      <td>11.0</td>\n",
       "      <td>0.8</td>\n",
       "      <td>0.3</td>\n",
       "    </tr>\n",
       "    <tr>\n",
       "      <th>1</th>\n",
       "      <td>1</td>\n",
       "      <td>2019-01-01</td>\n",
       "      <td>1</td>\n",
       "      <td>1</td>\n",
       "      <td>5</td>\n",
       "      <td>87.300</td>\n",
       "      <td>0.0</td>\n",
       "      <td>1</td>\n",
       "      <td>1</td>\n",
       "      <td>False</td>\n",
       "      <td>True</td>\n",
       "      <td>EWR</td>\n",
       "      <td>15.6</td>\n",
       "      <td>62.0</td>\n",
       "      <td>11.0</td>\n",
       "      <td>0.8</td>\n",
       "      <td>0.3</td>\n",
       "    </tr>\n",
       "    <tr>\n",
       "      <th>2</th>\n",
       "      <td>1</td>\n",
       "      <td>2019-01-01</td>\n",
       "      <td>1</td>\n",
       "      <td>1</td>\n",
       "      <td>6</td>\n",
       "      <td>80.300</td>\n",
       "      <td>0.0</td>\n",
       "      <td>1</td>\n",
       "      <td>1</td>\n",
       "      <td>False</td>\n",
       "      <td>True</td>\n",
       "      <td>EWR</td>\n",
       "      <td>15.6</td>\n",
       "      <td>62.0</td>\n",
       "      <td>11.0</td>\n",
       "      <td>0.8</td>\n",
       "      <td>0.3</td>\n",
       "    </tr>\n",
       "    <tr>\n",
       "      <th>3</th>\n",
       "      <td>1</td>\n",
       "      <td>2019-01-01</td>\n",
       "      <td>1</td>\n",
       "      <td>1</td>\n",
       "      <td>8</td>\n",
       "      <td>128.580</td>\n",
       "      <td>0.0</td>\n",
       "      <td>2</td>\n",
       "      <td>1</td>\n",
       "      <td>False</td>\n",
       "      <td>True</td>\n",
       "      <td>EWR</td>\n",
       "      <td>15.6</td>\n",
       "      <td>62.0</td>\n",
       "      <td>11.0</td>\n",
       "      <td>0.8</td>\n",
       "      <td>0.3</td>\n",
       "    </tr>\n",
       "    <tr>\n",
       "      <th>4</th>\n",
       "      <td>1</td>\n",
       "      <td>2019-01-01</td>\n",
       "      <td>1</td>\n",
       "      <td>1</td>\n",
       "      <td>10</td>\n",
       "      <td>43.245</td>\n",
       "      <td>16.9</td>\n",
       "      <td>4</td>\n",
       "      <td>1</td>\n",
       "      <td>False</td>\n",
       "      <td>True</td>\n",
       "      <td>EWR</td>\n",
       "      <td>15.6</td>\n",
       "      <td>62.0</td>\n",
       "      <td>11.0</td>\n",
       "      <td>0.8</td>\n",
       "      <td>0.3</td>\n",
       "    </tr>\n",
       "  </tbody>\n",
       "</table>\n",
       "</div>"
      ],
      "text/plain": [
       "  PULocationID transactionDate  transactionMonth  transactionDay  \\\n",
       "0            1      2019-01-01                 1               1   \n",
       "1            1      2019-01-01                 1               1   \n",
       "2            1      2019-01-01                 1               1   \n",
       "3            1      2019-01-01                 1               1   \n",
       "4            1      2019-01-01                 1               1   \n",
       "\n",
       "   transactionHour  total_amount  trip_distance  transaction_amount  \\\n",
       "0                2        21.800            0.0                   1   \n",
       "1                5        87.300            0.0                   1   \n",
       "2                6        80.300            0.0                   1   \n",
       "3                8       128.580            0.0                   2   \n",
       "4               10        43.245           16.9                   4   \n",
       "\n",
       "   transaction_week_day  weekend  holiday Borough  temperature  humidity  \\\n",
       "0                     1    False     True     EWR         15.6      62.0   \n",
       "1                     1    False     True     EWR         15.6      62.0   \n",
       "2                     1    False     True     EWR         15.6      62.0   \n",
       "3                     1    False     True     EWR         15.6      62.0   \n",
       "4                     1    False     True     EWR         15.6      62.0   \n",
       "\n",
       "   wind speed  cloud cover  amount of precipitation  \n",
       "0        11.0          0.8                      0.3  \n",
       "1        11.0          0.8                      0.3  \n",
       "2        11.0          0.8                      0.3  \n",
       "3        11.0          0.8                      0.3  \n",
       "4        11.0          0.8                      0.3  "
      ]
     },
     "execution_count": 234,
     "metadata": {},
     "output_type": "execute_result"
    }
   ],
   "source": [
    "taxi_data_weather.head()"
   ]
  },
  {
   "cell_type": "markdown",
   "id": "ae191b5f",
   "metadata": {},
   "source": [
    "# 7. Model Training <a id='model_training'></a>\n",
    "[Back to top](#table_of_contents)"
   ]
  },
  {
   "cell_type": "code",
   "execution_count": 235,
   "id": "96c36938",
   "metadata": {},
   "outputs": [],
   "source": [
    "taxi_data_for_model = taxi_data_weather.copy()"
   ]
  },
  {
   "cell_type": "code",
   "execution_count": 236,
   "id": "1d3b9ca6",
   "metadata": {},
   "outputs": [
    {
     "data": {
      "text/plain": [
       "Index(['PULocationID', 'transactionDate', 'transactionMonth', 'transactionDay',\n",
       "       'transactionHour', 'total_amount', 'trip_distance',\n",
       "       'transaction_amount', 'transaction_week_day', 'weekend', 'holiday',\n",
       "       'Borough', 'temperature', 'humidity', 'wind speed', 'cloud cover',\n",
       "       'amount of precipitation'],\n",
       "      dtype='object')"
      ]
     },
     "execution_count": 236,
     "metadata": {},
     "output_type": "execute_result"
    }
   ],
   "source": [
    "taxi_data_weather.columns"
   ]
  },
  {
   "cell_type": "code",
   "execution_count": 237,
   "id": "0562a4f0",
   "metadata": {},
   "outputs": [
    {
     "data": {
      "text/plain": [
       "['transactionMonth', 'transactionDay', 'transactionHour', 'PULocationID']"
      ]
     },
     "execution_count": 237,
     "metadata": {},
     "output_type": "execute_result"
    }
   ],
   "source": [
    "categorical_features_bm"
   ]
  },
  {
   "cell_type": "code",
   "execution_count": 238,
   "id": "43cee3bf",
   "metadata": {},
   "outputs": [],
   "source": [
    "categorical_features_mt = ['transactionMonth', 'transactionDay', 'transactionHour', 'PULocationID', 'transaction_week_day', 'weekend', 'holiday', 'Borough']\n",
    "input_features_mt = categorical_features_mt + ['temperature', 'humidity', 'wind speed', 'cloud cover', 'amount of precipitation']\n",
    "target_feature = 'total_amount'"
   ]
  },
  {
   "cell_type": "markdown",
   "id": "480f3e03",
   "metadata": {},
   "source": [
    "* <h2> Splitting Train&Test Dataset </h2>"
   ]
  },
  {
   "cell_type": "code",
   "execution_count": 239,
   "id": "8fc43ded",
   "metadata": {},
   "outputs": [],
   "source": [
    "from sklearn.model_selection import train_test_split\n",
    "\n",
    "x = taxi_data_for_model[input_features_mt]\n",
    "y = taxi_data_for_model[target_feature]\n",
    "\n",
    "#one-hot encoding for the categorical features that are strings (booelan columns)\n",
    "x = pd.get_dummies(x)\n",
    "\n",
    "x_train, x_test, y_train, y_test = train_test_split(x, y, test_size = 0.33, random_state = 42)\n",
    "\n"
   ]
  },
  {
   "cell_type": "markdown",
   "id": "5637065c",
   "metadata": {},
   "source": [
    "<h2> 7.1. Decision Tree  <a id='decision_tree'></a> </h2>\n",
    "\n",
    "[Back to top](#table_of_contents)"
   ]
  },
  {
   "cell_type": "code",
   "execution_count": 240,
   "id": "427a67bd",
   "metadata": {},
   "outputs": [
    {
     "data": {
      "text/plain": [
       "DecisionTreeRegressor(max_depth=10)"
      ]
     },
     "execution_count": 240,
     "metadata": {},
     "output_type": "execute_result"
    }
   ],
   "source": [
    "decision_tree = DecisionTreeRegressor(max_depth=10) \n",
    "decision_tree.fit(x_train, y_train)"
   ]
  },
  {
   "cell_type": "code",
   "execution_count": 241,
   "id": "bd23b012",
   "metadata": {},
   "outputs": [],
   "source": [
    "recent_model = decision_tree\n",
    "y_pred_dt = recent_model.predict(x_test)"
   ]
  },
  {
   "cell_type": "code",
   "execution_count": 242,
   "id": "0492e1c6",
   "metadata": {},
   "outputs": [
    {
     "name": "stdout",
     "output_type": "stream",
     "text": [
      "mean_absolute_error =  8.458530324532672\n",
      "mean_squared_error =  191.71328939414573\n",
      "root_mean_squared_error =  13.846056817525549\n",
      "r2 =  0.30430554624165873\n"
     ]
    },
    {
     "data": {
      "text/plain": [
       "<AxesSubplot:xlabel='real', ylabel='predicted'>"
      ]
     },
     "execution_count": 242,
     "metadata": {},
     "output_type": "execute_result"
    },
    {
     "data": {
      "image/png": "[encoded data removed]",
      "text/plain": [
       "<Figure size 1440x720 with 1 Axes>"
      ]
     },
     "metadata": {
      "needs_background": "light"
     },
     "output_type": "display_data"
    }
   ],
   "source": [
    "# evaluation metrics\n",
    "print('mean_absolute_error = ',  mean_absolute_error(y_test, y_pred_dt ) )\n",
    "print('mean_squared_error = ', mean_squared_error(y_test, y_pred_dt))\n",
    "print('root_mean_squared_error = ', sqrt(mean_squared_error(y_test, y_pred_dt)))\n",
    "print('r2 = ', r2_score(y_test, y_pred_dt))\n",
    "\n",
    "\n",
    "data_dt = {'real': y_test, 'predicted': y_pred_dt}\n",
    "results_dt = pd.DataFrame(data_dt)\n",
    "\n",
    "results_dt.plot(figsize=(20, 10), kind='scatter', x='real', y='predicted')"
   ]
  },
  {
   "cell_type": "code",
   "execution_count": 243,
   "id": "342b7300",
   "metadata": {},
   "outputs": [
    {
     "name": "stdout",
     "output_type": "stream",
     "text": [
      "mean_absolute_error =  9.757872039086783\n",
      "mean_squared_error =  216.18014986354686\n",
      "root_mean_squared_error =  14.703066002148901\n",
      "r2 =  0.21551953050308925\n"
     ]
    }
   ],
   "source": [
    "# evaluation metrics from benchmark\n",
    "print('mean_absolute_error = ',  mean_absolute_error(y_test_bm, y_pred_bm ) )\n",
    "print('mean_squared_error = ', mean_squared_error(y_test_bm, y_pred_bm))\n",
    "print('root_mean_squared_error = ', sqrt(mean_squared_error(y_test_bm, y_pred_bm)))\n",
    "print('r2 = ', r2_score(y_test_bm, y_pred_bm))"
   ]
  },
  {
   "cell_type": "markdown",
   "id": "eb2e02da",
   "metadata": {},
   "source": [
    "* Trying different max_depth values to see if the model will get better.\n",
    "\n",
    "<h3> Overfitting</h3>"
   ]
  },
  {
   "cell_type": "code",
   "execution_count": 244,
   "id": "c9a09980",
   "metadata": {},
   "outputs": [
    {
     "name": "stdout",
     "output_type": "stream",
     "text": [
      "2\n",
      "5\n",
      "8\n",
      "10\n",
      "15\n",
      "20\n",
      "30\n",
      "50\n",
      "70\n",
      "100\n",
      "120\n",
      "150\n"
     ]
    }
   ],
   "source": [
    "x_train_overfit = x_train\n",
    "y_train_overfit = y_train\n",
    "x_test_overfit = x_test\n",
    "y_test_overfit = y_test\n",
    "\n",
    "rmse_scores = {'rmse_train': [], 'rmse_test': [], 'max_depth': []}\n",
    "\n",
    "for i in [2, 5, 8, 10, 15, 20, 30, 50, 70, 100, 120, 150]:\n",
    "    print(i) #max_depth value\n",
    "    decision_tree_overfit = DecisionTreeRegressor(max_depth=i) \n",
    "    decision_tree_overfit.fit(x_train_overfit, y_train_overfit)\n",
    "\n",
    "    recent_model_overfit = decision_tree_overfit\n",
    "    \n",
    "    y_pred_train = recent_model_overfit.predict(x_train_overfit)\n",
    "    rmse_train = sqrt(mean_squared_error(y_train_overfit, y_pred_train))\n",
    "\n",
    "\n",
    "    y_pred_test = recent_model_overfit.predict(x_test_overfit)\n",
    "    rmse_test = sqrt(mean_squared_error(y_test_overfit, y_pred_test))\n",
    "\n",
    "    rmse_scores['rmse_train'].append(rmse_train)\n",
    "    rmse_scores['rmse_test'].append(rmse_test)\n",
    "    rmse_scores['max_depth'].append(i)"
   ]
  },
  {
   "cell_type": "code",
   "execution_count": 245,
   "id": "137e4e7b",
   "metadata": {},
   "outputs": [
    {
     "data": {
      "text/html": [
       "<div>\n",
       "<style scoped>\n",
       "    .dataframe tbody tr th:only-of-type {\n",
       "        vertical-align: middle;\n",
       "    }\n",
       "\n",
       "    .dataframe tbody tr th {\n",
       "        vertical-align: top;\n",
       "    }\n",
       "\n",
       "    .dataframe thead th {\n",
       "        text-align: right;\n",
       "    }\n",
       "</style>\n",
       "<table border=\"1\" class=\"dataframe\">\n",
       "  <thead>\n",
       "    <tr style=\"text-align: right;\">\n",
       "      <th></th>\n",
       "      <th>rmse_train</th>\n",
       "      <th>rmse_test</th>\n",
       "      <th>max_depth</th>\n",
       "    </tr>\n",
       "  </thead>\n",
       "  <tbody>\n",
       "    <tr>\n",
       "      <th>0</th>\n",
       "      <td>1.500713e+01</td>\n",
       "      <td>15.011036</td>\n",
       "      <td>2</td>\n",
       "    </tr>\n",
       "    <tr>\n",
       "      <th>1</th>\n",
       "      <td>1.420570e+01</td>\n",
       "      <td>14.276538</td>\n",
       "      <td>5</td>\n",
       "    </tr>\n",
       "    <tr>\n",
       "      <th>2</th>\n",
       "      <td>1.361281e+01</td>\n",
       "      <td>13.896398</td>\n",
       "      <td>8</td>\n",
       "    </tr>\n",
       "    <tr>\n",
       "      <th>3</th>\n",
       "      <td>1.323228e+01</td>\n",
       "      <td>13.850625</td>\n",
       "      <td>10</td>\n",
       "    </tr>\n",
       "    <tr>\n",
       "      <th>4</th>\n",
       "      <td>1.205282e+01</td>\n",
       "      <td>14.064202</td>\n",
       "      <td>15</td>\n",
       "    </tr>\n",
       "    <tr>\n",
       "      <th>5</th>\n",
       "      <td>1.105102e+01</td>\n",
       "      <td>14.379622</td>\n",
       "      <td>20</td>\n",
       "    </tr>\n",
       "    <tr>\n",
       "      <th>6</th>\n",
       "      <td>9.473315e+00</td>\n",
       "      <td>14.971949</td>\n",
       "      <td>30</td>\n",
       "    </tr>\n",
       "    <tr>\n",
       "      <th>7</th>\n",
       "      <td>5.177598e+00</td>\n",
       "      <td>16.645059</td>\n",
       "      <td>50</td>\n",
       "    </tr>\n",
       "    <tr>\n",
       "      <th>8</th>\n",
       "      <td>9.951931e-01</td>\n",
       "      <td>17.326127</td>\n",
       "      <td>70</td>\n",
       "    </tr>\n",
       "    <tr>\n",
       "      <th>9</th>\n",
       "      <td>6.767168e-17</td>\n",
       "      <td>17.347388</td>\n",
       "      <td>100</td>\n",
       "    </tr>\n",
       "    <tr>\n",
       "      <th>10</th>\n",
       "      <td>6.880769e-17</td>\n",
       "      <td>17.400997</td>\n",
       "      <td>120</td>\n",
       "    </tr>\n",
       "    <tr>\n",
       "      <th>11</th>\n",
       "      <td>6.179487e-17</td>\n",
       "      <td>17.371811</td>\n",
       "      <td>150</td>\n",
       "    </tr>\n",
       "  </tbody>\n",
       "</table>\n",
       "</div>"
      ],
      "text/plain": [
       "      rmse_train  rmse_test  max_depth\n",
       "0   1.500713e+01  15.011036          2\n",
       "1   1.420570e+01  14.276538          5\n",
       "2   1.361281e+01  13.896398          8\n",
       "3   1.323228e+01  13.850625         10\n",
       "4   1.205282e+01  14.064202         15\n",
       "5   1.105102e+01  14.379622         20\n",
       "6   9.473315e+00  14.971949         30\n",
       "7   5.177598e+00  16.645059         50\n",
       "8   9.951931e-01  17.326127         70\n",
       "9   6.767168e-17  17.347388        100\n",
       "10  6.880769e-17  17.400997        120\n",
       "11  6.179487e-17  17.371811        150"
      ]
     },
     "execution_count": 245,
     "metadata": {},
     "output_type": "execute_result"
    }
   ],
   "source": [
    "pd.DataFrame.from_dict(rmse_scores)"
   ]
  },
  {
   "cell_type": "code",
   "execution_count": 246,
   "id": "1fb9fd1c",
   "metadata": {},
   "outputs": [
    {
     "data": {
      "text/plain": [
       "Text(0, 0.5, 'root mean squared error')"
      ]
     },
     "execution_count": 246,
     "metadata": {},
     "output_type": "execute_result"
    },
    {
     "data": {
      "image/png": "[encoded data removed]",
      "text/plain": [
       "<Figure size 720x360 with 1 Axes>"
      ]
     },
     "metadata": {
      "needs_background": "light"
     },
     "output_type": "display_data"
    }
   ],
   "source": [
    "ax = pd.DataFrame.from_dict(rmse_scores).plot(figsize=[10, 5], x='max_depth', title='rmse_train vs rmse_test')\n",
    "ax.set_xlabel(\"max depth\", fontsize=13)\n",
    "ax.set_ylabel(\"root mean squared error\", fontsize=13)"
   ]
  },
  {
   "cell_type": "markdown",
   "id": "270e62c1",
   "metadata": {},
   "source": [
    "Since the model overfits the data, the error on the test dataset increases with the increase in the max depth as the model loses its ability to generalize on the new data points that it sees, so called the test data points. Actually from this test, we can see which max_depth to use for our model. max_depth=10 was a good choice since the error starts increasing after that value."
   ]
  },
  {
   "cell_type": "markdown",
   "id": "1b78bb01",
   "metadata": {},
   "source": [
    "\n",
    "<h3> Underfitting</h3>\n",
    "\n",
    "- When the model is not complex enough to learn from the train set."
   ]
  },
  {
   "cell_type": "code",
   "execution_count": 247,
   "id": "5caed6d9",
   "metadata": {},
   "outputs": [
    {
     "name": "stdout",
     "output_type": "stream",
     "text": [
      "mean_absolute_error =  9.985020797900491\n",
      "mean_squared_error =  242.2788107422694\n",
      "root_mean_squared_error =  15.565307923143358\n",
      "r2 =  0.12390453655791434\n"
     ]
    }
   ],
   "source": [
    "x_train_ufit = x_train\n",
    "y_train_ufit = y_train\n",
    "x_test_ufit = x_test\n",
    "y_test_ufit = y_test\n",
    "\n",
    "decision_tree_underfit = DecisionTreeRegressor(max_depth=1) \n",
    "decision_tree_underfit.fit(x_train_ufit, y_train_ufit)\n",
    "\n",
    "recent_model_ufit = decision_tree_underfit\n",
    "\n",
    "\n",
    "#training\n",
    "y_pred_underfit = recent_model_ufit.predict(x_train_ufit) #training dataset is used for the prediction.\n",
    "\n",
    "print('mean_absolute_error = ',  mean_absolute_error(y_train_ufit, y_pred_underfit))\n",
    "print('mean_squared_error = ', mean_squared_error(y_train_ufit, y_pred_underfit))\n",
    "print('root_mean_squared_error = ', sqrt(mean_squared_error(y_train_ufit, y_pred_underfit)))\n",
    "print('r2 = ', r2_score(y_train_ufit, y_pred_underfit))\n"
   ]
  },
  {
   "cell_type": "markdown",
   "id": "dc05fbc7",
   "metadata": {},
   "source": [
    "Even for the training dataset, prediction is not great."
   ]
  },
  {
   "cell_type": "markdown",
   "id": "29438b27",
   "metadata": {},
   "source": [
    "<h2> 7.2. Random Forest  <a id='random_forest'></a> </h2>\n",
    "\n",
    "[Back to top](#table_of_contents)"
   ]
  },
  {
   "cell_type": "code",
   "execution_count": 249,
   "id": "c2c409c2",
   "metadata": {},
   "outputs": [],
   "source": [
    "from sklearn.ensemble import RandomForestRegressor \n",
    "\n",
    "random_forest_model = RandomForestRegressor() \n",
    "random_forest_model.fit(x_train, y_train)\n",
    "\n",
    "recent_model = random_forest_model\n",
    "y_pred_rf = recent_model.predict(x_test)"
   ]
  },
  {
   "cell_type": "code",
   "execution_count": 250,
   "id": "b6ac9e4f",
   "metadata": {},
   "outputs": [
    {
     "name": "stdout",
     "output_type": "stream",
     "text": [
      "mean_absolute_error =  7.368030214120481\n",
      "mean_squared_error =  170.0651575046808\n",
      "root_mean_squared_error =  13.040903247270904\n",
      "r2 =  0.38286288223711396\n"
     ]
    },
    {
     "data": {
      "text/plain": [
       "<AxesSubplot:xlabel='real', ylabel='predicted'>"
      ]
     },
     "execution_count": 250,
     "metadata": {},
     "output_type": "execute_result"
    },
    {
     "data": {
      "image/png": "[encoded data removed]",
      "text/plain": [
       "<Figure size 720x720 with 1 Axes>"
      ]
     },
     "metadata": {
      "needs_background": "light"
     },
     "output_type": "display_data"
    }
   ],
   "source": [
    "# evaluation metrics\n",
    "print('mean_absolute_error = ',  mean_absolute_error(y_test, y_pred_rf) )\n",
    "print('mean_squared_error = ', mean_squared_error(y_test, y_pred_rf))\n",
    "print('root_mean_squared_error = ', sqrt(mean_squared_error(y_test, y_pred_rf)))\n",
    "print('r2 = ', r2_score(y_test, y_pred_rf))\n",
    "\n",
    "\n",
    "data_rf = {'real': y_test, 'predicted': y_pred_rf}\n",
    "results_rf = pd.DataFrame(data_rf)\n",
    "\n",
    "results_rf.plot(figsize=(10, 10), kind='scatter', x='real', y='predicted')"
   ]
  },
  {
   "cell_type": "markdown",
   "id": "016e0516",
   "metadata": {},
   "source": [
    "<h2> 7.3. Gradient Boosting  <a id='gradient_boosting'></a> </h2>\n",
    "\n",
    "[Back to top](#table_of_contents)"
   ]
  },
  {
   "cell_type": "code",
   "execution_count": 251,
   "id": "d4621931",
   "metadata": {},
   "outputs": [],
   "source": [
    "from sklearn.ensemble import GradientBoostingRegressor\n",
    "\n",
    "gradientBoost_model = GradientBoostingRegressor() \n",
    "gradientBoost_model.fit(x_train, y_train)\n",
    "\n",
    "recent_model = gradientBoost_model\n",
    "y_pred_gb = recent_model.predict(x_test)"
   ]
  },
  {
   "cell_type": "code",
   "execution_count": 252,
   "id": "d02832b7",
   "metadata": {},
   "outputs": [
    {
     "name": "stdout",
     "output_type": "stream",
     "text": [
      "mean_absolute_error =  8.336224718788552\n",
      "mean_squared_error =  174.79657810666862\n",
      "root_mean_squared_error =  13.221065694817064\n",
      "r2 =  0.36569337311438654\n"
     ]
    },
    {
     "data": {
      "text/plain": [
       "<AxesSubplot:xlabel='real', ylabel='predicted'>"
      ]
     },
     "execution_count": 252,
     "metadata": {},
     "output_type": "execute_result"
    },
    {
     "data": {
      "image/png": "[encoded data removed]",
      "text/plain": [
       "<Figure size 720x720 with 1 Axes>"
      ]
     },
     "metadata": {
      "needs_background": "light"
     },
     "output_type": "display_data"
    }
   ],
   "source": [
    "# evaluation metrics\n",
    "print('mean_absolute_error = ',  mean_absolute_error(y_test, y_pred_gb))\n",
    "print('mean_squared_error = ', mean_squared_error(y_test, y_pred_gb))\n",
    "print('root_mean_squared_error = ', sqrt(mean_squared_error(y_test, y_pred_gb)))\n",
    "print('r2 = ', r2_score(y_test, y_pred_gb))\n",
    "\n",
    "\n",
    "data_gb = {'real': y_test, 'predicted': y_pred_gb}\n",
    "results_gb = pd.DataFrame(data_gb)\n",
    "\n",
    "results_gb.plot(figsize=(10, 10), kind='scatter', x='real', y='predicted')"
   ]
  },
  {
   "cell_type": "markdown",
   "id": "1a5ea14d",
   "metadata": {},
   "source": [
    "What feature works the most towards predicting the target_feature?"
   ]
  },
  {
   "cell_type": "code",
   "execution_count": 253,
   "id": "5622ff32",
   "metadata": {},
   "outputs": [
    {
     "data": {
      "text/plain": [
       "<AxesSubplot:>"
      ]
     },
     "execution_count": 253,
     "metadata": {},
     "output_type": "execute_result"
    },
    {
     "data": {
      "image/png": "[encoded data removed]",
      "text/plain": [
       "<Figure size 432x288 with 1 Axes>"
      ]
     },
     "metadata": {
      "needs_background": "light"
     },
     "output_type": "display_data"
    }
   ],
   "source": [
    "(pd.Series(decision_tree.feature_importances_, index=x_train.columns)\n",
    "   .nlargest(10)\n",
    "   .plot(kind='barh'))"
   ]
  },
  {
   "cell_type": "code",
   "execution_count": 254,
   "id": "99263359",
   "metadata": {},
   "outputs": [
    {
     "data": {
      "text/plain": [
       "<AxesSubplot:>"
      ]
     },
     "execution_count": 254,
     "metadata": {},
     "output_type": "execute_result"
    },
    {
     "data": {
      "image/png": "[encoded data removed]",
      "text/plain": [
       "<Figure size 432x288 with 1 Axes>"
      ]
     },
     "metadata": {
      "needs_background": "light"
     },
     "output_type": "display_data"
    }
   ],
   "source": [
    "(pd.Series(random_forest_model.feature_importances_, index=x_train.columns)\n",
    "   .nlargest(10)\n",
    "   .plot(kind='barh'))"
   ]
  },
  {
   "cell_type": "code",
   "execution_count": 255,
   "id": "a5d42502",
   "metadata": {},
   "outputs": [
    {
     "data": {
      "text/plain": [
       "<AxesSubplot:>"
      ]
     },
     "execution_count": 255,
     "metadata": {},
     "output_type": "execute_result"
    },
    {
     "data": {
      "image/png": "[encoded data removed]",
      "text/plain": [
       "<Figure size 432x288 with 1 Axes>"
      ]
     },
     "metadata": {
      "needs_background": "light"
     },
     "output_type": "display_data"
    }
   ],
   "source": [
    "(pd.Series(gradientBoost_model.feature_importances_, index=x_train.columns)\n",
    "   .nlargest(10)\n",
    "   .plot(kind='barh'))"
   ]
  },
  {
   "cell_type": "markdown",
   "id": "3f1b599c",
   "metadata": {},
   "source": [
    "<h2> 7.4. Comparison of Different Algorithm Performances  <a id='comparing_performances'></a> </h2>\n",
    "\n",
    "[Back to top](#table_of_contents)"
   ]
  },
  {
   "cell_type": "code",
   "execution_count": 256,
   "id": "1dc9c74f",
   "metadata": {},
   "outputs": [],
   "source": [
    "mae_bm = mean_absolute_error(y_test_bm, y_pred_bm )\n",
    "rmse_bm = sqrt(mean_squared_error(y_test_bm, y_pred_bm))\n",
    "r2_bm = r2_score(y_test_bm, y_pred_bm)\n",
    "\n",
    "mae_dt = mean_absolute_error(y_test, y_pred_dt)\n",
    "rmse_dt = sqrt(mean_squared_error(y_test, y_pred_dt))\n",
    "r2_dt = r2_score(y_test, y_pred_dt)\n",
    "\n",
    "mae_rf = mean_absolute_error(y_test, y_pred_rf)\n",
    "rmse_rf = sqrt(mean_squared_error(y_test, y_pred_rf))\n",
    "r2_rf = r2_score(y_test, y_pred_rf)\n",
    "\n",
    "mae_gb = mean_absolute_error(y_test, y_pred_gb)\n",
    "rmse_gb = sqrt(mean_squared_error(y_test, y_pred_gb))\n",
    "r2_gb = r2_score(y_test, y_pred_gb)\n",
    "\n",
    "comparison = {'Algorithm':['Benchmark', 'Decision Tree', 'Random Forest', 'Gradient Boosting'], 'MAE':[mae_bm, mae_dt, mae_rf, mae_gb], 'RMSE':[rmse_bm, rmse_dt, rmse_rf, rmse_gb], \n",
    "              'R2':[r2_bm, r2_dt, r2_rf, r2_gb]} "
   ]
  },
  {
   "cell_type": "code",
   "execution_count": 257,
   "id": "e1d1d29a",
   "metadata": {},
   "outputs": [
    {
     "data": {
      "text/html": [
       "<div>\n",
       "<style scoped>\n",
       "    .dataframe tbody tr th:only-of-type {\n",
       "        vertical-align: middle;\n",
       "    }\n",
       "\n",
       "    .dataframe tbody tr th {\n",
       "        vertical-align: top;\n",
       "    }\n",
       "\n",
       "    .dataframe thead th {\n",
       "        text-align: right;\n",
       "    }\n",
       "</style>\n",
       "<table border=\"1\" class=\"dataframe\">\n",
       "  <thead>\n",
       "    <tr style=\"text-align: right;\">\n",
       "      <th></th>\n",
       "      <th>Algorithm</th>\n",
       "      <th>MAE</th>\n",
       "      <th>RMSE</th>\n",
       "      <th>R2</th>\n",
       "    </tr>\n",
       "  </thead>\n",
       "  <tbody>\n",
       "    <tr>\n",
       "      <th>0</th>\n",
       "      <td>Benchmark</td>\n",
       "      <td>9.757872</td>\n",
       "      <td>14.703066</td>\n",
       "      <td>0.215520</td>\n",
       "    </tr>\n",
       "    <tr>\n",
       "      <th>1</th>\n",
       "      <td>Decision Tree</td>\n",
       "      <td>8.458530</td>\n",
       "      <td>13.846057</td>\n",
       "      <td>0.304306</td>\n",
       "    </tr>\n",
       "    <tr>\n",
       "      <th>2</th>\n",
       "      <td>Random Forest</td>\n",
       "      <td>7.368030</td>\n",
       "      <td>13.040903</td>\n",
       "      <td>0.382863</td>\n",
       "    </tr>\n",
       "    <tr>\n",
       "      <th>3</th>\n",
       "      <td>Gradient Boosting</td>\n",
       "      <td>8.336225</td>\n",
       "      <td>13.221066</td>\n",
       "      <td>0.365693</td>\n",
       "    </tr>\n",
       "  </tbody>\n",
       "</table>\n",
       "</div>"
      ],
      "text/plain": [
       "           Algorithm       MAE       RMSE        R2\n",
       "0          Benchmark  9.757872  14.703066  0.215520\n",
       "1      Decision Tree  8.458530  13.846057  0.304306\n",
       "2      Random Forest  7.368030  13.040903  0.382863\n",
       "3  Gradient Boosting  8.336225  13.221066  0.365693"
      ]
     },
     "execution_count": 257,
     "metadata": {},
     "output_type": "execute_result"
    }
   ],
   "source": [
    "pd.DataFrame.from_dict(comparison)"
   ]
  },
  {
   "cell_type": "markdown",
   "id": "51252c5b",
   "metadata": {},
   "source": [
    "The model fitted using Random Forest algorithm will be worked on in the next sections. Correct hyper-parameters will be tuned to improve the model performance."
   ]
  },
  {
   "cell_type": "markdown",
   "id": "b45b197d",
   "metadata": {},
   "source": [
    "# 8. Tuning <a id='model_tuning'></a>\n",
    "[Back to top](#table_of_contents)"
   ]
  },
  {
   "cell_type": "markdown",
   "id": "f87a239d",
   "metadata": {},
   "source": [
    "<h2> 8.1. Finding the Correct Hyper-Parameters  <a id='hyper_parameters'></a> </h2>\n",
    "\n",
    "[Back to top](#table_of_contents)\n"
   ]
  },
  {
   "cell_type": "code",
   "execution_count": 258,
   "id": "27ff67be",
   "metadata": {},
   "outputs": [],
   "source": [
    "# class sklearn.ensemble.RandomForestRegressor(n_estimators=100, *, \n",
    "#     criterion='squared_error', max_depth=None, min_samples_split=2, min_samples_leaf=1, \n",
    "#     min_weight_fraction_leaf=0.0, max_features='auto', max_leaf_nodes=None, min_impurity_decrease=0.0, \n",
    "#     bootstrap=True, oob_score=False, n_jobs=None, random_state=None, verbose=0, warm_start=False, ccp_alpha=0.0, \n",
    "#     max_samples=None)\n",
    "\n",
    "\n"
   ]
  },
  {
   "cell_type": "code",
   "execution_count": 259,
   "id": "3b769024",
   "metadata": {},
   "outputs": [],
   "source": [
    "# Maximum numbr of levels in tree\n",
    "max_depth = [10, 20, 50, 70, 100, 200, 300, 500]\n",
    "max_depth.append(None)\n",
    "\n",
    "#The minimum number of samples required to be at a leaf node\n",
    "min_samples_leaf = [1, 2, 4, 8, 10, 20, 30]\n",
    "\n",
    "#Minimum number of samples required to split a node\n",
    "min_samples_split = [2, 5, 10, 20, 30, 40]\n",
    "\n",
    "#The number of features to consider when looking for the best split\n",
    "max_features = ['auto', 'sqrt']\n",
    "\n",
    "#If False, the whole dataset is used to build each tree.\n",
    "bootstrap = [True, False]\n",
    "\n",
    "#Number of trees in random forest\n",
    "n_estimators = [int(x) for x in np.linspace(start=200, stop=2000, num=10)]\n",
    "\n"
   ]
  },
  {
   "cell_type": "markdown",
   "id": "23dc55ef",
   "metadata": {},
   "source": [
    "Above is our options however trying them all would be lots of calculations. Thus, we will choose random combinations and train our models."
   ]
  },
  {
   "cell_type": "code",
   "execution_count": 260,
   "id": "01ecf8bd",
   "metadata": {},
   "outputs": [],
   "source": [
    "#np.linspace(start=100, stop=1000, num=5)\n",
    "# array([ 100.,  325.,  550.,  775., 1000.])"
   ]
  },
  {
   "cell_type": "code",
   "execution_count": 261,
   "id": "65e20d8f",
   "metadata": {},
   "outputs": [
    {
     "name": "stdout",
     "output_type": "stream",
     "text": [
      "{'bootstrap': [True, False],\n",
      " 'max_depth': [10, 20, 50, 70, 100, 200, 300, 500, None],\n",
      " 'max_features': ['auto', 'sqrt'],\n",
      " 'min_samples_leaf': [1, 2, 4, 8, 10, 20, 30],\n",
      " 'min_samples_split': [2, 5, 10, 20, 30, 40],\n",
      " 'n_estimators': [200, 400, 600, 800, 1000, 1200, 1400, 1600, 1800, 2000]}\n"
     ]
    }
   ],
   "source": [
    "import pprint as pp\n",
    "\n",
    "# Create the random grid\n",
    "random_grid = {'n_estimators': n_estimators,\n",
    "               'max_features': max_features,\n",
    "               'max_depth': max_depth,\n",
    "               'min_samples_split': min_samples_split,\n",
    "               'min_samples_leaf': min_samples_leaf,\n",
    "               'bootstrap': bootstrap}\n",
    "pp.pprint(random_grid)"
   ]
  },
  {
   "cell_type": "code",
   "execution_count": 262,
   "id": "d69f34b6",
   "metadata": {},
   "outputs": [],
   "source": [
    "from sklearn.model_selection import RandomizedSearchCV\n",
    "\n",
    "#uses random_grid to search for the best hyper-parameters\n",
    "\n",
    "#rf = RandomForestRegressor()\n",
    "\n",
    "#rf_random = RandomizedSearchCV(estimator=rf, param_distributions=random_grid, n_iter=10, cv=3, \n",
    "#                              verbose=2, random_state=42, n_jobs=-1)"
   ]
  },
  {
   "cell_type": "markdown",
   "id": "31c8bd7a",
   "metadata": {},
   "source": [
    "cv=3 --> 3-fold cross-validation\n",
    "k-fold cross-validation helps us validate that our model is stable. Divides the data into 3 chunks and compares performances for each. \n",
    "\n",
    "n_iter=10 --> RandomizerdSearchCV will come up with 10 difference random combinations of the random_grid.\n",
    "\n",
    "n_jobs=-1 --> Using all processors.\n",
    "\n",
    "verbose=2 --> Controls the verbosity: the higher, the more messages."
   ]
  },
  {
   "cell_type": "code",
   "execution_count": 263,
   "id": "df1f277c",
   "metadata": {},
   "outputs": [],
   "source": [
    "# Fit the random search model\n",
    "#rf_random.fit(x_train, y_train)\n",
    "#performances = pd.DataFrame.from_dict(rf_random.cv_results_).to_csv(\"comparison_performances.csv\")\n",
    "#performances.head()"
   ]
  },
  {
   "cell_type": "code",
   "execution_count": 270,
   "id": "e9c96473",
   "metadata": {},
   "outputs": [
    {
     "data": {
      "text/html": [
       "<div>\n",
       "<style scoped>\n",
       "    .dataframe tbody tr th:only-of-type {\n",
       "        vertical-align: middle;\n",
       "    }\n",
       "\n",
       "    .dataframe tbody tr th {\n",
       "        vertical-align: top;\n",
       "    }\n",
       "\n",
       "    .dataframe thead th {\n",
       "        text-align: right;\n",
       "    }\n",
       "</style>\n",
       "<table border=\"1\" class=\"dataframe\">\n",
       "  <thead>\n",
       "    <tr style=\"text-align: right;\">\n",
       "      <th></th>\n",
       "      <th>Unnamed: 0</th>\n",
       "      <th>mean_fit_time</th>\n",
       "      <th>std_fit_time</th>\n",
       "      <th>mean_score_time</th>\n",
       "      <th>std_score_time</th>\n",
       "      <th>param_n_estimators</th>\n",
       "      <th>param_min_samples_split</th>\n",
       "      <th>param_min_samples_leaf</th>\n",
       "      <th>param_max_features</th>\n",
       "      <th>param_max_depth</th>\n",
       "      <th>param_bootstrap</th>\n",
       "      <th>params</th>\n",
       "      <th>split0_test_score</th>\n",
       "      <th>split1_test_score</th>\n",
       "      <th>split2_test_score</th>\n",
       "      <th>mean_test_score</th>\n",
       "      <th>std_test_score</th>\n",
       "      <th>rank_test_score</th>\n",
       "    </tr>\n",
       "  </thead>\n",
       "  <tbody>\n",
       "    <tr>\n",
       "      <th>0</th>\n",
       "      <td>0</td>\n",
       "      <td>35.850681</td>\n",
       "      <td>0.169700</td>\n",
       "      <td>1.698198</td>\n",
       "      <td>0.011166</td>\n",
       "      <td>200</td>\n",
       "      <td>5</td>\n",
       "      <td>4</td>\n",
       "      <td>sqrt</td>\n",
       "      <td>NaN</td>\n",
       "      <td>True</td>\n",
       "      <td>{'n_estimators': 200, 'min_samples_split': 5, ...</td>\n",
       "      <td>0.418840</td>\n",
       "      <td>0.419511</td>\n",
       "      <td>0.420490</td>\n",
       "      <td>0.419613</td>\n",
       "      <td>0.000677</td>\n",
       "      <td>2</td>\n",
       "    </tr>\n",
       "    <tr>\n",
       "      <th>1</th>\n",
       "      <td>1</td>\n",
       "      <td>132.787684</td>\n",
       "      <td>0.544915</td>\n",
       "      <td>1.111834</td>\n",
       "      <td>0.045422</td>\n",
       "      <td>200</td>\n",
       "      <td>10</td>\n",
       "      <td>1</td>\n",
       "      <td>auto</td>\n",
       "      <td>20.0</td>\n",
       "      <td>True</td>\n",
       "      <td>{'n_estimators': 200, 'min_samples_split': 10,...</td>\n",
       "      <td>0.381828</td>\n",
       "      <td>0.389408</td>\n",
       "      <td>0.392572</td>\n",
       "      <td>0.387936</td>\n",
       "      <td>0.004508</td>\n",
       "      <td>7</td>\n",
       "    </tr>\n",
       "    <tr>\n",
       "      <th>2</th>\n",
       "      <td>2</td>\n",
       "      <td>174.376435</td>\n",
       "      <td>6.070378</td>\n",
       "      <td>1.467499</td>\n",
       "      <td>0.104816</td>\n",
       "      <td>200</td>\n",
       "      <td>40</td>\n",
       "      <td>20</td>\n",
       "      <td>auto</td>\n",
       "      <td>300.0</td>\n",
       "      <td>True</td>\n",
       "      <td>{'n_estimators': 200, 'min_samples_split': 40,...</td>\n",
       "      <td>0.417801</td>\n",
       "      <td>0.415922</td>\n",
       "      <td>0.417587</td>\n",
       "      <td>0.417103</td>\n",
       "      <td>0.000840</td>\n",
       "      <td>3</td>\n",
       "    </tr>\n",
       "    <tr>\n",
       "      <th>3</th>\n",
       "      <td>3</td>\n",
       "      <td>258.236135</td>\n",
       "      <td>1.954857</td>\n",
       "      <td>7.888360</td>\n",
       "      <td>0.230898</td>\n",
       "      <td>1800</td>\n",
       "      <td>20</td>\n",
       "      <td>30</td>\n",
       "      <td>sqrt</td>\n",
       "      <td>300.0</td>\n",
       "      <td>False</td>\n",
       "      <td>{'n_estimators': 1800, 'min_samples_split': 20...</td>\n",
       "      <td>0.394482</td>\n",
       "      <td>0.392790</td>\n",
       "      <td>0.392142</td>\n",
       "      <td>0.393138</td>\n",
       "      <td>0.000986</td>\n",
       "      <td>6</td>\n",
       "    </tr>\n",
       "    <tr>\n",
       "      <th>4</th>\n",
       "      <td>4</td>\n",
       "      <td>1950.955563</td>\n",
       "      <td>13.417053</td>\n",
       "      <td>3.067879</td>\n",
       "      <td>0.018001</td>\n",
       "      <td>400</td>\n",
       "      <td>20</td>\n",
       "      <td>4</td>\n",
       "      <td>auto</td>\n",
       "      <td>300.0</td>\n",
       "      <td>True</td>\n",
       "      <td>{'n_estimators': 400, 'min_samples_split': 20,...</td>\n",
       "      <td>0.418657</td>\n",
       "      <td>0.420630</td>\n",
       "      <td>0.423552</td>\n",
       "      <td>0.420946</td>\n",
       "      <td>0.002011</td>\n",
       "      <td>1</td>\n",
       "    </tr>\n",
       "  </tbody>\n",
       "</table>\n",
       "</div>"
      ],
      "text/plain": [
       "   Unnamed: 0  mean_fit_time  std_fit_time  mean_score_time  std_score_time  \\\n",
       "0           0      35.850681      0.169700         1.698198        0.011166   \n",
       "1           1     132.787684      0.544915         1.111834        0.045422   \n",
       "2           2     174.376435      6.070378         1.467499        0.104816   \n",
       "3           3     258.236135      1.954857         7.888360        0.230898   \n",
       "4           4    1950.955563     13.417053         3.067879        0.018001   \n",
       "\n",
       "   param_n_estimators  param_min_samples_split  param_min_samples_leaf  \\\n",
       "0                 200                        5                       4   \n",
       "1                 200                       10                       1   \n",
       "2                 200                       40                      20   \n",
       "3                1800                       20                      30   \n",
       "4                 400                       20                       4   \n",
       "\n",
       "  param_max_features  param_max_depth  param_bootstrap  \\\n",
       "0               sqrt              NaN             True   \n",
       "1               auto             20.0             True   \n",
       "2               auto            300.0             True   \n",
       "3               sqrt            300.0            False   \n",
       "4               auto            300.0             True   \n",
       "\n",
       "                                              params  split0_test_score  \\\n",
       "0  {'n_estimators': 200, 'min_samples_split': 5, ...           0.418840   \n",
       "1  {'n_estimators': 200, 'min_samples_split': 10,...           0.381828   \n",
       "2  {'n_estimators': 200, 'min_samples_split': 40,...           0.417801   \n",
       "3  {'n_estimators': 1800, 'min_samples_split': 20...           0.394482   \n",
       "4  {'n_estimators': 400, 'min_samples_split': 20,...           0.418657   \n",
       "\n",
       "   split1_test_score  split2_test_score  mean_test_score  std_test_score  \\\n",
       "0           0.419511           0.420490         0.419613        0.000677   \n",
       "1           0.389408           0.392572         0.387936        0.004508   \n",
       "2           0.415922           0.417587         0.417103        0.000840   \n",
       "3           0.392790           0.392142         0.393138        0.000986   \n",
       "4           0.420630           0.423552         0.420946        0.002011   \n",
       "\n",
       "   rank_test_score  \n",
       "0                2  \n",
       "1                7  \n",
       "2                3  \n",
       "3                6  \n",
       "4                1  "
      ]
     },
     "execution_count": 270,
     "metadata": {},
     "output_type": "execute_result"
    }
   ],
   "source": [
    "performances = pd.read_csv('comparison_performances.csv')\n",
    "performances.head()"
   ]
  },
  {
   "cell_type": "code",
   "execution_count": null,
   "id": "b845e147",
   "metadata": {},
   "outputs": [],
   "source": [
    "#rf_random.best_params_"
   ]
  },
  {
   "cell_type": "code",
   "execution_count": 272,
   "id": "52bdb203",
   "metadata": {},
   "outputs": [
    {
     "data": {
      "text/plain": [
       "RandomForestRegressor(max_depth=300, min_samples_leaf=4, min_samples_split=20,\n",
       "                      n_estimators=400, n_jobs=-1)"
      ]
     },
     "execution_count": 272,
     "metadata": {},
     "output_type": "execute_result"
    }
   ],
   "source": [
    "import time\n",
    "t0 = time.time()\n",
    "\n",
    "model_with_best_params = RandomForestRegressor(n_estimators= 400,\n",
    " min_samples_split= 20,\n",
    " min_samples_leaf= 4,\n",
    " max_features= 'auto',\n",
    " max_depth= 300,\n",
    " n_jobs = -1,                                              \n",
    " bootstrap= True)\n",
    "\n",
    "model_with_best_params.fit(x_train, y_train)\n",
    "\n"
   ]
  },
  {
   "cell_type": "code",
   "execution_count": 279,
   "id": "673bcfe6",
   "metadata": {},
   "outputs": [],
   "source": [
    "recent_model = model_with_best_params\n",
    "\n",
    "y_pred = recent_model.predict(x_test)"
   ]
  },
  {
   "cell_type": "code",
   "execution_count": 285,
   "id": "23acb633",
   "metadata": {},
   "outputs": [
    {
     "name": "stdout",
     "output_type": "stream",
     "text": [
      "Time elapsed:  458.07429814338684  seconds\n",
      "mean_absolute_error =  7.1547900841284005\n",
      "mean_squared_error =  157.58722540002626\n",
      "root_mean_squared_error =  12.55337506011934\n",
      "r2 =  0.4281431452121771\n"
     ]
    }
   ],
   "source": [
    "t1 = time.time() - t0\n",
    "print(\"Time elapsed: \", t1, \" seconds\")\n",
    "\n",
    "# evaluation metrics\n",
    "print('mean_absolute_error = ',  mean_absolute_error(y_test, y_pred))\n",
    "print('mean_squared_error = ', mean_squared_error(y_test, y_pred))\n",
    "print('root_mean_squared_error = ', sqrt(mean_squared_error(y_test, y_pred)))\n",
    "print('r2 = ', r2_score(y_test, y_pred))\n",
    "\n"
   ]
  },
  {
   "cell_type": "code",
   "execution_count": 284,
   "id": "6f38390c",
   "metadata": {},
   "outputs": [
    {
     "data": {
      "text/plain": [
       "<AxesSubplot:xlabel='real', ylabel='predicted'>"
      ]
     },
     "execution_count": 284,
     "metadata": {},
     "output_type": "execute_result"
    },
    {
     "data": {
      "image/png": "[encoded data removed]",
      "text/plain": [
       "<Figure size 720x720 with 1 Axes>"
      ]
     },
     "metadata": {
      "needs_background": "light"
     },
     "output_type": "display_data"
    }
   ],
   "source": [
    "data = {'real': y_test, 'predicted': y_pred}\n",
    "results = pd.DataFrame(data)\n",
    "\n",
    "results.plot(figsize=(10, 10), kind='scatter', x='real', y='predicted')"
   ]
  },
  {
   "cell_type": "markdown",
   "id": "86986426",
   "metadata": {},
   "source": [
    "# 9. Seeing the Whole Thing as a Classification Problem <a id='classification_problem'></a>\n",
    "[Back to top](#table_of_contents)"
   ]
  },
  {
   "cell_type": "markdown",
   "id": "5d7c052d",
   "metadata": {},
   "source": [
    "Let's say that we are trying to classify the NY region as low and high income regions for the taxi drivers:"
   ]
  },
  {
   "cell_type": "code",
   "execution_count": 286,
   "id": "32e45ad0",
   "metadata": {},
   "outputs": [
    {
     "data": {
      "text/plain": [
       "<AxesSubplot:>"
      ]
     },
     "execution_count": 286,
     "metadata": {},
     "output_type": "execute_result"
    },
    {
     "data": {
      "image/png": "[encoded data removed]",
      "text/plain": [
       "<Figure size 720x360 with 1 Axes>"
      ]
     },
     "metadata": {
      "needs_background": "light"
     },
     "output_type": "display_data"
    }
   ],
   "source": [
    "taxi_data_weather['total_amount'].hist(bins=100, figsize=(10, 5))"
   ]
  },
  {
   "cell_type": "markdown",
   "id": "969801d6",
   "metadata": {},
   "source": [
    "Anything less than 15 dollars will be regarded as low income."
   ]
  },
  {
   "cell_type": "code",
   "execution_count": 287,
   "id": "bbcb0d6b",
   "metadata": {},
   "outputs": [
    {
     "data": {
      "text/html": [
       "<div>\n",
       "<style scoped>\n",
       "    .dataframe tbody tr th:only-of-type {\n",
       "        vertical-align: middle;\n",
       "    }\n",
       "\n",
       "    .dataframe tbody tr th {\n",
       "        vertical-align: top;\n",
       "    }\n",
       "\n",
       "    .dataframe thead th {\n",
       "        text-align: right;\n",
       "    }\n",
       "</style>\n",
       "<table border=\"1\" class=\"dataframe\">\n",
       "  <thead>\n",
       "    <tr style=\"text-align: right;\">\n",
       "      <th></th>\n",
       "      <th>PULocationID</th>\n",
       "      <th>transactionDate</th>\n",
       "      <th>transactionMonth</th>\n",
       "      <th>transactionDay</th>\n",
       "      <th>transactionHour</th>\n",
       "      <th>total_amount</th>\n",
       "      <th>trip_distance</th>\n",
       "      <th>transaction_amount</th>\n",
       "      <th>transaction_week_day</th>\n",
       "      <th>weekend</th>\n",
       "      <th>holiday</th>\n",
       "      <th>Borough</th>\n",
       "      <th>temperature</th>\n",
       "      <th>humidity</th>\n",
       "      <th>wind speed</th>\n",
       "      <th>cloud cover</th>\n",
       "      <th>amount of precipitation</th>\n",
       "      <th>earning_class</th>\n",
       "      <th>earning_class_binary</th>\n",
       "    </tr>\n",
       "  </thead>\n",
       "  <tbody>\n",
       "    <tr>\n",
       "      <th>0</th>\n",
       "      <td>1</td>\n",
       "      <td>2019-01-01</td>\n",
       "      <td>1</td>\n",
       "      <td>1</td>\n",
       "      <td>2</td>\n",
       "      <td>21.800</td>\n",
       "      <td>0.0</td>\n",
       "      <td>1</td>\n",
       "      <td>1</td>\n",
       "      <td>False</td>\n",
       "      <td>True</td>\n",
       "      <td>EWR</td>\n",
       "      <td>15.6</td>\n",
       "      <td>62.0</td>\n",
       "      <td>11.0</td>\n",
       "      <td>0.8</td>\n",
       "      <td>0.3</td>\n",
       "      <td>high</td>\n",
       "      <td>1</td>\n",
       "    </tr>\n",
       "    <tr>\n",
       "      <th>1</th>\n",
       "      <td>1</td>\n",
       "      <td>2019-01-01</td>\n",
       "      <td>1</td>\n",
       "      <td>1</td>\n",
       "      <td>5</td>\n",
       "      <td>87.300</td>\n",
       "      <td>0.0</td>\n",
       "      <td>1</td>\n",
       "      <td>1</td>\n",
       "      <td>False</td>\n",
       "      <td>True</td>\n",
       "      <td>EWR</td>\n",
       "      <td>15.6</td>\n",
       "      <td>62.0</td>\n",
       "      <td>11.0</td>\n",
       "      <td>0.8</td>\n",
       "      <td>0.3</td>\n",
       "      <td>high</td>\n",
       "      <td>1</td>\n",
       "    </tr>\n",
       "    <tr>\n",
       "      <th>2</th>\n",
       "      <td>1</td>\n",
       "      <td>2019-01-01</td>\n",
       "      <td>1</td>\n",
       "      <td>1</td>\n",
       "      <td>6</td>\n",
       "      <td>80.300</td>\n",
       "      <td>0.0</td>\n",
       "      <td>1</td>\n",
       "      <td>1</td>\n",
       "      <td>False</td>\n",
       "      <td>True</td>\n",
       "      <td>EWR</td>\n",
       "      <td>15.6</td>\n",
       "      <td>62.0</td>\n",
       "      <td>11.0</td>\n",
       "      <td>0.8</td>\n",
       "      <td>0.3</td>\n",
       "      <td>high</td>\n",
       "      <td>1</td>\n",
       "    </tr>\n",
       "    <tr>\n",
       "      <th>3</th>\n",
       "      <td>1</td>\n",
       "      <td>2019-01-01</td>\n",
       "      <td>1</td>\n",
       "      <td>1</td>\n",
       "      <td>8</td>\n",
       "      <td>128.580</td>\n",
       "      <td>0.0</td>\n",
       "      <td>2</td>\n",
       "      <td>1</td>\n",
       "      <td>False</td>\n",
       "      <td>True</td>\n",
       "      <td>EWR</td>\n",
       "      <td>15.6</td>\n",
       "      <td>62.0</td>\n",
       "      <td>11.0</td>\n",
       "      <td>0.8</td>\n",
       "      <td>0.3</td>\n",
       "      <td>high</td>\n",
       "      <td>1</td>\n",
       "    </tr>\n",
       "    <tr>\n",
       "      <th>4</th>\n",
       "      <td>1</td>\n",
       "      <td>2019-01-01</td>\n",
       "      <td>1</td>\n",
       "      <td>1</td>\n",
       "      <td>10</td>\n",
       "      <td>43.245</td>\n",
       "      <td>16.9</td>\n",
       "      <td>4</td>\n",
       "      <td>1</td>\n",
       "      <td>False</td>\n",
       "      <td>True</td>\n",
       "      <td>EWR</td>\n",
       "      <td>15.6</td>\n",
       "      <td>62.0</td>\n",
       "      <td>11.0</td>\n",
       "      <td>0.8</td>\n",
       "      <td>0.3</td>\n",
       "      <td>high</td>\n",
       "      <td>1</td>\n",
       "    </tr>\n",
       "  </tbody>\n",
       "</table>\n",
       "</div>"
      ],
      "text/plain": [
       "  PULocationID transactionDate  transactionMonth  transactionDay  \\\n",
       "0            1      2019-01-01                 1               1   \n",
       "1            1      2019-01-01                 1               1   \n",
       "2            1      2019-01-01                 1               1   \n",
       "3            1      2019-01-01                 1               1   \n",
       "4            1      2019-01-01                 1               1   \n",
       "\n",
       "   transactionHour  total_amount  trip_distance  transaction_amount  \\\n",
       "0                2        21.800            0.0                   1   \n",
       "1                5        87.300            0.0                   1   \n",
       "2                6        80.300            0.0                   1   \n",
       "3                8       128.580            0.0                   2   \n",
       "4               10        43.245           16.9                   4   \n",
       "\n",
       "   transaction_week_day  weekend  holiday Borough  temperature  humidity  \\\n",
       "0                     1    False     True     EWR         15.6      62.0   \n",
       "1                     1    False     True     EWR         15.6      62.0   \n",
       "2                     1    False     True     EWR         15.6      62.0   \n",
       "3                     1    False     True     EWR         15.6      62.0   \n",
       "4                     1    False     True     EWR         15.6      62.0   \n",
       "\n",
       "   wind speed  cloud cover  amount of precipitation earning_class  \\\n",
       "0        11.0          0.8                      0.3          high   \n",
       "1        11.0          0.8                      0.3          high   \n",
       "2        11.0          0.8                      0.3          high   \n",
       "3        11.0          0.8                      0.3          high   \n",
       "4        11.0          0.8                      0.3          high   \n",
       "\n",
       "   earning_class_binary  \n",
       "0                     1  \n",
       "1                     1  \n",
       "2                     1  \n",
       "3                     1  \n",
       "4                     1  "
      ]
     },
     "execution_count": 287,
     "metadata": {},
     "output_type": "execute_result"
    }
   ],
   "source": [
    "nyc_class = taxi_data_weather.copy()\n",
    "nyc_class['earning_class']=nyc_class['total_amount'].apply(lambda x: 'low' if x<=15 else 'high')\n",
    "nyc_class['earning_class_binary']=nyc_class['earning_class'].apply(lambda x: 0 if x=='low' else 1)\n",
    "nyc_class.head()"
   ]
  },
  {
   "cell_type": "code",
   "execution_count": 288,
   "id": "793f47b6",
   "metadata": {},
   "outputs": [
    {
     "data": {
      "text/plain": [
       "high    53166\n",
       "low     49355\n",
       "Name: earning_class, dtype: int64"
      ]
     },
     "execution_count": 288,
     "metadata": {},
     "output_type": "execute_result"
    }
   ],
   "source": [
    "nyc_class['earning_class'].value_counts()"
   ]
  },
  {
   "cell_type": "code",
   "execution_count": 289,
   "id": "886ab372",
   "metadata": {},
   "outputs": [],
   "source": [
    "categorical_features = ['transactionMonth', 'transactionDay', 'transactionHour', 'PULocationID', 'transaction_week_day', 'weekend', 'holiday', 'Borough']\n",
    "input_features = categorical_features_mt + ['temperature', 'humidity', 'wind speed', 'cloud cover', 'amount of precipitation']\n",
    "target_feature = 'earning_class_binary'"
   ]
  },
  {
   "cell_type": "code",
   "execution_count": 290,
   "id": "bf9d3485",
   "metadata": {},
   "outputs": [],
   "source": [
    "from sklearn.model_selection import train_test_split\n",
    "\n",
    "x_c = nyc_class[input_features]\n",
    "y_c = nyc_class[target_feature]\n",
    "\n",
    "#one-hot coding\n",
    "x_c = pd.get_dummies(x_c)\n",
    "\n",
    "x_train_c, x_test_c, y_train_c, y_test_c = train_test_split(x_c, y_c, test_size=0.33, random_state=42)"
   ]
  },
  {
   "cell_type": "code",
   "execution_count": 291,
   "id": "8f80e399",
   "metadata": {},
   "outputs": [],
   "source": [
    "from sklearn.ensemble import RandomForestClassifier\n",
    "\n",
    "clsf = RandomForestClassifier()\n",
    "clsf.fit(x_train_c, y_train_c)\n",
    "\n",
    "y_pred_c = clsf.predict(x_test_c)"
   ]
  },
  {
   "cell_type": "code",
   "execution_count": 292,
   "id": "13bbba05",
   "metadata": {},
   "outputs": [
    {
     "name": "stdout",
     "output_type": "stream",
     "text": [
      "[[11465  4654]\n",
      " [ 3876 13837]]\n",
      "accuracy 0.7478718373137858\n",
      "precision 0.7483099886431237\n",
      "recall 0.7811776661209281\n"
     ]
    }
   ],
   "source": [
    "from sklearn.metrics import accuracy_score\n",
    "from sklearn.metrics import precision_score, recall_score\n",
    "from sklearn.metrics import confusion_matrix\n",
    "from math import sqrt\n",
    "\n",
    "print(confusion_matrix(y_test_c, y_pred_c))\n",
    "\n",
    "print('accuracy', accuracy_score(y_test_c, y_pred_c))\n",
    "print('precision', precision_score(y_test_c, y_pred_c))\n",
    "print('recall', recall_score(y_test_c, y_pred_c))"
   ]
  },
  {
   "cell_type": "code",
   "execution_count": 293,
   "id": "3de3fa42",
   "metadata": {},
   "outputs": [
    {
     "data": {
      "text/plain": [
       "<AxesSubplot:>"
      ]
     },
     "execution_count": 293,
     "metadata": {},
     "output_type": "execute_result"
    },
    {
     "data": {
      "image/png": "[encoded data removed]",
      "text/plain": [
       "<Figure size 432x288 with 1 Axes>"
      ]
     },
     "metadata": {
      "needs_background": "light"
     },
     "output_type": "display_data"
    }
   ],
   "source": [
    "(pd.Series(clsf.feature_importances_, index=x_train.columns)\n",
    "   .nlargest(10)\n",
    "   .plot(kind='barh'))"
   ]
  },
  {
   "cell_type": "code",
   "execution_count": null,
   "id": "2010df59",
   "metadata": {},
   "outputs": [],
   "source": []
  }
 ],
 "metadata": {
  "kernelspec": {
   "display_name": "Python 3",
   "language": "python",
   "name": "python3"
  },
  "language_info": {
   "codemirror_mode": {
    "name": "ipython",
    "version": 3
   },
   "file_extension": ".py",
   "mimetype": "text/x-python",
   "name": "python",
   "nbconvert_exporter": "python",
   "pygments_lexer": "ipython3",
   "version": "3.8.8"
  }
 },
 "nbformat": 4,
 "nbformat_minor": 5
}
